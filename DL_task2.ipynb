{
  "cells": [
    {
      "cell_type": "markdown",
      "metadata": {
        "id": "Dmk-ZbAOt4xr"
      },
      "source": [
        "# Глубокое обучение, ВМК МГУ\n",
        "\n",
        "## Практическое задание 2. LM на базе GRU\n",
        "\n",
        "#### Фамилия, имя: Демьянов Иван\n",
        "\n",
        "Датасет: Large Movie Review Dataset\n",
        "\n",
        "Тип сети: RNN"
      ]
    },
    {
      "cell_type": "markdown",
      "metadata": {
        "id": "9R9sixljt4xx"
      },
      "source": [
        "## Подключение библиотек, загрузка предобработка данных"
      ]
    },
    {
      "cell_type": "markdown",
      "metadata": {
        "id": "XkAK5wgBt4xx"
      },
      "source": [
        "### Параметры по умолчанию"
      ]
    },
    {
      "cell_type": "code",
      "execution_count": 1,
      "metadata": {
        "ExecuteTime": {
          "end_time": "2021-04-02T00:04:28.454122Z",
          "start_time": "2021-04-02T00:04:28.438278Z"
        },
        "id": "HGL8Je16t4xy"
      },
      "outputs": [],
      "source": [
        "max_length = 200\n",
        "top_n_words = 5000\n",
        "\n",
        "hidden_dim = 128\n",
        "embedding_dim = 32\n",
        "\n",
        "num_epochs = 15\n",
        "batch_size = 64\n",
        "learning_rate = 1e-3"
      ]
    },
    {
      "cell_type": "markdown",
      "metadata": {
        "id": "4F7LOwLwt4xz"
      },
      "source": [
        "В качестве данных будем использовать [**Large Movie Review Dataset**](https://ai.stanford.edu/~amaas/data/sentiment/). Этот датасет содержит отзывы на фильмы. Языковая модел будет обучаться на словарной кодировке.\n"
      ]
    },
    {
      "cell_type": "markdown",
      "metadata": {
        "id": "THbZqyf2t4x0"
      },
      "source": [
        "### Загрузка и предобработка данных"
      ]
    },
    {
      "cell_type": "code",
      "execution_count": 2,
      "metadata": {
        "ExecuteTime": {
          "end_time": "2021-03-30T18:34:47.261797Z",
          "start_time": "2021-03-30T18:34:33.768597Z"
        },
        "colab": {
          "base_uri": "https://localhost:8080/"
        },
        "id": "d7U8IMect4x1",
        "outputId": "628a6294-a0fb-44b4-d884-f2e90ac742e3"
      },
      "outputs": [
        {
          "output_type": "stream",
          "name": "stdout",
          "text": [
            "--2022-06-02 02:35:21--  https://ai.stanford.edu/~amaas/data/sentiment/aclImdb_v1.tar\n",
            "Resolving ai.stanford.edu (ai.stanford.edu)... 171.64.68.10\n",
            "Connecting to ai.stanford.edu (ai.stanford.edu)|171.64.68.10|:443... connected.\n",
            "HTTP request sent, awaiting response... 200 OK\n",
            "Length: 84125825 (80M) [application/x-gzip]\n",
            "Saving to: ‘aclImdb_v1.tar’\n",
            "\n",
            "aclImdb_v1.tar      100%[===================>]  80.23M  22.2MB/s    in 4.0s    \n",
            "\n",
            "2022-06-02 02:35:25 (20.0 MB/s) - ‘aclImdb_v1.tar’ saved [84125825/84125825]\n",
            "\n"
          ]
        }
      ],
      "source": [
        "!wget 'https://ai.stanford.edu/~amaas/data/sentiment/aclImdb_v1.tar'"
      ]
    },
    {
      "cell_type": "code",
      "execution_count": 3,
      "metadata": {
        "ExecuteTime": {
          "end_time": "2021-03-30T17:48:59.763990Z",
          "start_time": "2021-03-30T17:48:56.998383Z"
        },
        "id": "aRkQjQgCt4x5"
      },
      "outputs": [],
      "source": [
        "import tarfile\n",
        "\n",
        "aclImdb = tarfile.open(name='aclImdb_v1.tar', mode='r')\n",
        "aclImdb.extractall()\n",
        "aclImdb.close()"
      ]
    },
    {
      "cell_type": "markdown",
      "metadata": {
        "id": "m_k0eAyyt4x6"
      },
      "source": [
        "Выведем пример отзыва на фильм."
      ]
    },
    {
      "cell_type": "code",
      "execution_count": 4,
      "metadata": {
        "ExecuteTime": {
          "end_time": "2021-04-01T23:55:43.946032Z",
          "start_time": "2021-04-01T23:55:43.814779Z"
        },
        "colab": {
          "base_uri": "https://localhost:8080/"
        },
        "id": "8ZNkYEcCt4x6",
        "outputId": "1ade349d-e5c2-49c4-9353-0552e642301a"
      },
      "outputs": [
        {
          "output_type": "stream",
          "name": "stdout",
          "text": [
            "This is not the typical Mel Brooks film. It was much less slapstick than most of his movies and actually had a plot that was followable. Leslie Ann Warren made the movie, she is such a fantastic, under-rated actress. There were some moments that could have been fleshed out a bit more, and some scenes that could probably have been cut to make the room to do so, but all in all, this is worth the price to rent and see it. The acting was good overall, Brooks himself did a good job without his characteristic speaking to directly to the audience. Again, Warren was the best actor in the movie, but \"Fume\" and \"Sailor\" both played their parts well."
          ]
        }
      ],
      "source": [
        "! cat ./aclImdb/train/pos/10003_8.txt"
      ]
    },
    {
      "cell_type": "code",
      "execution_count": 5,
      "metadata": {
        "ExecuteTime": {
          "end_time": "2021-04-02T00:04:33.729663Z",
          "start_time": "2021-04-02T00:04:33.710871Z"
        },
        "id": "4qqkeFDpt4x9"
      },
      "outputs": [],
      "source": [
        "test_data_path = './aclImdb/test/'\n",
        "train_data_path = './aclImdb/train/'"
      ]
    },
    {
      "cell_type": "markdown",
      "source": [
        "#### Установка и импорт библиотек"
      ],
      "metadata": {
        "id": "xcuCyN0Agz4J"
      }
    },
    {
      "cell_type": "code",
      "execution_count": 6,
      "metadata": {
        "id": "dnhXzqbBu90z",
        "colab": {
          "base_uri": "https://localhost:8080/"
        },
        "outputId": "33fe40db-e927-4427-aafe-58d5b62f4376"
      },
      "outputs": [
        {
          "output_type": "stream",
          "name": "stdout",
          "text": [
            "Looking in indexes: https://pypi.org/simple, https://us-python.pkg.dev/colab-wheels/public/simple/\n",
            "Requirement already satisfied: torchtext==0.12.0 in /usr/local/lib/python3.7/dist-packages (0.12.0)\n",
            "Requirement already satisfied: tqdm in /usr/local/lib/python3.7/dist-packages (from torchtext==0.12.0) (4.64.0)\n",
            "Requirement already satisfied: torch==1.11.0 in /usr/local/lib/python3.7/dist-packages (from torchtext==0.12.0) (1.11.0+cu113)\n",
            "Requirement already satisfied: numpy in /usr/local/lib/python3.7/dist-packages (from torchtext==0.12.0) (1.21.6)\n",
            "Requirement already satisfied: requests in /usr/local/lib/python3.7/dist-packages (from torchtext==0.12.0) (2.23.0)\n",
            "Requirement already satisfied: typing-extensions in /usr/local/lib/python3.7/dist-packages (from torch==1.11.0->torchtext==0.12.0) (4.2.0)\n",
            "Requirement already satisfied: idna<3,>=2.5 in /usr/local/lib/python3.7/dist-packages (from requests->torchtext==0.12.0) (2.10)\n",
            "Requirement already satisfied: urllib3!=1.25.0,!=1.25.1,<1.26,>=1.21.1 in /usr/local/lib/python3.7/dist-packages (from requests->torchtext==0.12.0) (1.24.3)\n",
            "Requirement already satisfied: chardet<4,>=3.0.2 in /usr/local/lib/python3.7/dist-packages (from requests->torchtext==0.12.0) (3.0.4)\n",
            "Requirement already satisfied: certifi>=2017.4.17 in /usr/local/lib/python3.7/dist-packages (from requests->torchtext==0.12.0) (2022.5.18.1)\n"
          ]
        }
      ],
      "source": [
        "!pip3 install torchtext==0.12.0"
      ]
    },
    {
      "cell_type": "code",
      "execution_count": 7,
      "metadata": {
        "colab": {
          "base_uri": "https://localhost:8080/"
        },
        "id": "gpkwQhzkt4x-",
        "outputId": "4cc21ee7-aa3a-489c-9dd0-f9a5b1aa79eb"
      },
      "outputs": [
        {
          "output_type": "stream",
          "name": "stdout",
          "text": [
            "0.12.0\n"
          ]
        }
      ],
      "source": [
        "import torchtext\n",
        "print(torchtext.__version__)"
      ]
    },
    {
      "cell_type": "code",
      "execution_count": 8,
      "metadata": {
        "ExecuteTime": {
          "end_time": "2021-04-02T00:04:33.709378Z",
          "start_time": "2021-04-02T00:04:32.220580Z"
        },
        "colab": {
          "base_uri": "https://localhost:8080/"
        },
        "id": "DmhqQNu3t4x_",
        "outputId": "18aaef39-e7f6-44d6-fb83-65bfe9c43030"
      },
      "outputs": [
        {
          "output_type": "stream",
          "name": "stdout",
          "text": [
            "[nltk_data] Downloading package stopwords to /root/nltk_data...\n",
            "[nltk_data]   Unzipping corpora/stopwords.zip.\n"
          ]
        }
      ],
      "source": [
        "import os\n",
        "from functools import partial\n",
        "from collections import defaultdict\n",
        "\n",
        "import nltk\n",
        "nltk.download('stopwords')\n",
        "\n",
        "import regex\n",
        "import numpy as np\n",
        "\n",
        "import torch\n",
        "import torchtext\n",
        "from torch.utils.data import Dataset, DataLoader"
      ]
    },
    {
      "cell_type": "markdown",
      "metadata": {
        "id": "8ivtmP3ft4yA"
      },
      "source": [
        "#### Предобработка данных\n",
        "\n",
        "Стандартной предобработкой данных является токенизация текстов. Полученные токены можно будет закодировать и затем подавать на вход нейронной сети. Ключевым моментом, который влияет на скорость работы нейросети и её размер в памяти -- размер словаря, используемого при токенизации. Для задачи языкового моделирования мы можем убрать часть слов (стоп слова, редкие слова), уменьшив тем самым время обучения."
      ]
    },
    {
      "cell_type": "code",
      "execution_count": 9,
      "metadata": {
        "ExecuteTime": {
          "end_time": "2021-04-02T00:04:35.270825Z",
          "start_time": "2021-04-02T00:04:35.250283Z"
        },
        "id": "tPqd0N8ht4yB"
      },
      "outputs": [],
      "source": [
        "STOPWORDS = nltk.corpus.stopwords.words('english')"
      ]
    },
    {
      "cell_type": "code",
      "execution_count": 10,
      "metadata": {
        "ExecuteTime": {
          "end_time": "2021-04-02T00:04:36.003194Z",
          "start_time": "2021-04-02T00:04:35.980408Z"
        },
        "id": "49WIB5H8t4yD"
      },
      "outputs": [],
      "source": [
        "import re\n",
        "\n",
        "def tokenize(text):\n",
        "    \"\"\"\n",
        "    :param str text: Input text \n",
        "    :return List[str]: List of words\n",
        "    \"\"\"\n",
        "    text = text.lower()\n",
        "    text = re.sub('<br />', '', text)\n",
        "    text = re.sub('[^a-z ]', '', text).split(' ')\n",
        "    return [t for t in text if t not in STOPWORDS and t!='']"
      ]
    },
    {
      "cell_type": "markdown",
      "metadata": {
        "id": "TFHXJIgwt4yF"
      },
      "source": [
        "Теперь создадим словарь, с помощью которого будем численно кодировать токены из текста и наоборот.\n",
        "\n",
        "Удобной обёрткой для создания словарей является класс `torchtext.vocab.Vocab`."
      ]
    },
    {
      "cell_type": "markdown",
      "metadata": {
        "ExecuteTime": {
          "end_time": "2021-04-01T19:51:55.300753Z",
          "start_time": "2021-04-01T19:51:55.275188Z"
        },
        "id": "Ki42W8Zst4yG"
      },
      "source": [
        "Чтобы создать такой словарь, сначала нужно создать словарь со всеми токенами в тексте и их частотами встречаемости:"
      ]
    },
    {
      "cell_type": "code",
      "execution_count": 11,
      "metadata": {
        "ExecuteTime": {
          "end_time": "2021-04-02T00:05:13.547038Z",
          "start_time": "2021-04-02T00:04:38.190688Z"
        },
        "id": "RbmCD-I2t4yG"
      },
      "outputs": [],
      "source": [
        "counter = defaultdict(int)\n",
        "\n",
        "for path in ['./aclImdb/test/neg', './aclImdb/test/pos', './aclImdb/train/neg', './aclImdb/train/pos']:\n",
        "    for file_path in os.listdir(path):\n",
        "        text = open(os.path.join(path, file_path), 'r', encoding='utf-8', errors='ignore').read().strip()\n",
        "        for token in tokenize(text):\n",
        "            counter[token] += 1"
      ]
    },
    {
      "cell_type": "markdown",
      "metadata": {
        "id": "wI3jTjqSt4yH"
      },
      "source": [
        "Для работы с текстами необходимо зарезервировать два специальных токена:\n",
        "1. `<pad>` для токена означающего паддинг\n",
        "2. `<unk>` для токенов, которые отсутствуют в словаре"
      ]
    },
    {
      "cell_type": "code",
      "execution_count": 12,
      "metadata": {
        "ExecuteTime": {
          "end_time": "2021-04-01T21:28:18.239274Z",
          "start_time": "2021-04-01T21:28:18.214979Z"
        },
        "id": "D2H8SfDft4yH"
      },
      "outputs": [],
      "source": [
        "specials = ['<pad>', '<unk>']\n",
        "for special in specials:\n",
        "    counter[special] = 0"
      ]
    },
    {
      "cell_type": "markdown",
      "metadata": {
        "id": "3UDNI_0pt4yI"
      },
      "source": [
        "#### Создание словаря"
      ]
    },
    {
      "cell_type": "code",
      "execution_count": 13,
      "metadata": {
        "id": "0IG9VpH4t4yO"
      },
      "outputs": [],
      "source": [
        "from collections import Counter\n",
        "\n",
        "c = Counter()\n",
        "for i, l in counter.items():\n",
        "    c[i] = l\n",
        "\n",
        "new_counter = {}\n",
        "for i, l in c.most_common(top_n_words):\n",
        "    new_counter[i] = l"
      ]
    },
    {
      "cell_type": "code",
      "execution_count": 14,
      "metadata": {
        "id": "RsCeTj6qt4yR"
      },
      "outputs": [],
      "source": [
        "vocab = torchtext.vocab.vocab(new_counter, specials=specials, special_first=True)\n",
        "vocab.set_default_index(vocab['<unk>'])"
      ]
    },
    {
      "cell_type": "code",
      "execution_count": 15,
      "metadata": {
        "id": "NB_S7dePt4yS",
        "colab": {
          "base_uri": "https://localhost:8080/"
        },
        "outputId": "2f08a9bf-db89-4241-9c48-5984e5683b10"
      },
      "outputs": [
        {
          "output_type": "execute_result",
          "data": {
            "text/plain": [
              "[0, 1]"
            ]
          },
          "metadata": {},
          "execution_count": 15
        }
      ],
      "source": [
        "vocab.lookup_indices(['<pad>', '<unk>'])"
      ]
    },
    {
      "cell_type": "code",
      "execution_count": 16,
      "metadata": {
        "id": "i_Oz1wMjt4yS",
        "colab": {
          "base_uri": "https://localhost:8080/"
        },
        "outputId": "60f9f9eb-30ac-4ff8-ff6a-7ad3d093aaec"
      },
      "outputs": [
        {
          "output_type": "execute_result",
          "data": {
            "text/plain": [
              "[1, 3, 1, 272]"
            ]
          },
          "metadata": {},
          "execution_count": 16
        }
      ],
      "source": [
        "vocab.lookup_indices(['this', 'film', 'was', 'awful'])"
      ]
    },
    {
      "cell_type": "markdown",
      "metadata": {
        "id": "yUaX0nDNt4yV"
      },
      "source": [
        "Создание обёртки-датасета для данных с учетом их особенности. "
      ]
    },
    {
      "cell_type": "code",
      "execution_count": 17,
      "metadata": {
        "ExecuteTime": {
          "end_time": "2021-04-02T00:05:13.573249Z",
          "start_time": "2021-04-02T00:05:13.548593Z"
        },
        "id": "fUCCvQSat4yW"
      },
      "outputs": [],
      "source": [
        "class LargeMovieReviewDataset(Dataset):\n",
        "    def __init__(self, data_path, vocab, max_len, pad_sos=False, pad_eos=False):\n",
        "        \"\"\"\n",
        "        :param str data_path: Path to folder with one of the data splits (train or test)\n",
        "        :param torchtext.vocab.Vocab vocab: dictionary with lookup_indices method\n",
        "        :param int max_len: Maximum length of tokenized text\n",
        "        :param bool pad_sos: If True pad sequence at the beginning with <sos> \n",
        "        :param bool pad_eos: If True pad sequence at the end with <eos>         \n",
        "        \"\"\"\n",
        "        super().__init__()\n",
        "        \n",
        "        self.pad_sos = pad_sos\n",
        "        if self.pad_sos:\n",
        "            self.sos_id = vocab.lookup_indices(['<sos>'])[0]\n",
        "        self.pad_eos = pad_eos\n",
        "        if self.pad_eos:\n",
        "            self.eos_id = vocab.lookup_indices(['<eos>'])[0]\n",
        "        \n",
        "        self.vocab = vocab\n",
        "        self.max_len = max_len\n",
        "        self.data_path = data_path\n",
        "        self.negative_path = os.path.join(data_path, 'neg')\n",
        "        self.positive_path = os.path.join(data_path, 'pos')\n",
        "        \n",
        "        self.negative_paths = []\n",
        "        self.positive_paths = []\n",
        "\n",
        "        for file_path in os.listdir(self.negative_path):\n",
        "            self.negative_paths.append(os.path.join(self.negative_path, file_path))\n",
        "\n",
        "        for file_path in os.listdir(self.positive_path):\n",
        "            self.positive_paths.append(os.path.join(self.positive_path, file_path))\n",
        "        \n",
        "        self.texts = []\n",
        "        self.tokens = []\n",
        "        self.ratings = []\n",
        "        self.labels = [0] * len(self.negative_paths) + [1] * len(self.positive_paths)\n",
        "        \n",
        "        # Read each file in data_path, tokenize it, get tokens ids, its rating and store\n",
        "        for path in self.negative_paths + self.positive_paths:\n",
        "            with open(path) as f:\n",
        "                text = f.read()\n",
        "                self.texts.append(text)\n",
        "                text_tokens = []\n",
        "                if self.pad_sos:\n",
        "                    text_tokens.append(self.sos_id)\n",
        "                for token in tokenize(text)[:self.max_len]:\n",
        "                    text_tokens.append(vocab.lookup_indices([token])[0])\n",
        "                if self.pad_eos:\n",
        "                    text_tokens.append(self.eos_id)\n",
        "                self.tokens.append(torch.tensor(text_tokens, dtype=torch.long))\n",
        "                self.ratings.append(int(path.split('_')[-1].split('.')[0]) - 1)\n",
        "        \n",
        "    def __getitem__(self, idx):\n",
        "        \"\"\"\n",
        "        :param int idx: index of object in dataset\n",
        "        :return dict: Dictionary with all useful object data \n",
        "            {\n",
        "                'text' str: unprocessed text,\n",
        "                'label' torch.tensor(dtype=torch.long): sentiment of the text (0 for negative, 1 for positive)\n",
        "                'rating' torch.tensor(dtype=torch.long): rating of the text\n",
        "                'tokens' torch.tensor(dtype=torch.long): tensor of tokens ids for the text\n",
        "                'tokens_len' torch.tensor(dtype=torch.long): number of tokens\n",
        "            }\n",
        "        \"\"\"\n",
        "        # Do not forget to add padding if needed!\n",
        "        return {\n",
        "            'text': self.texts[idx],\n",
        "            'label': torch.tensor(self.labels[idx], dtype=torch.long),\n",
        "            'rating': torch.tensor(self.ratings[idx], dtype=torch.long),\n",
        "            'tokens': self.tokens[idx],\n",
        "            'tokens_len': torch.tensor(self.tokens[idx].size(0), dtype=torch.long)\n",
        "        }\n",
        "    \n",
        "    def __len__(self):\n",
        "        \"\"\"\n",
        "        :return int: number of objects in dataset \n",
        "        \"\"\"\n",
        "        return len(self.texts)"
      ]
    },
    {
      "cell_type": "code",
      "source": [
        "test_dataset = LargeMovieReviewDataset(test_data_path, vocab, max_length)\n",
        "train_dataset = LargeMovieReviewDataset(train_data_path, vocab, max_length)"
      ],
      "metadata": {
        "id": "4fUDag0kHLia"
      },
      "execution_count": 18,
      "outputs": []
    },
    {
      "cell_type": "markdown",
      "metadata": {
        "id": "CixGMfmet4yY"
      },
      "source": [
        "Посмотрим, как выглядит объект в датасете:"
      ]
    },
    {
      "cell_type": "code",
      "execution_count": 19,
      "metadata": {
        "ExecuteTime": {
          "end_time": "2021-04-01T21:31:36.017106Z",
          "start_time": "2021-04-01T21:31:35.988797Z"
        },
        "id": "O2faXPO4t4yY",
        "colab": {
          "base_uri": "https://localhost:8080/"
        },
        "outputId": "f15ad809-8f76-41e0-e3cf-83d6ecf51879"
      },
      "outputs": [
        {
          "output_type": "execute_result",
          "data": {
            "text/plain": [
              "{'label': tensor(0),\n",
              " 'rating': tensor(0),\n",
              " 'text': \"(spoilers) Horrifyingly enough, I have actually SEEN the film that this horrid film was a sequel to. It was called Ator the Fighting Eagle, and I saw it when I was just 8 years old. It made such an awful impression on me that i never forgot it. I've been an MST3K fan for a long time, so when Cavedwellers came out on tape I bought it. I was horrified to realize that it was a sequel to the wretched Ator movie that i'd seen so long ago! Ator's costume has, somehow, gotten ever skimpier than the last time i saw him. How can he wear that tiny little bikini? Doesn't he care that it shows off the fact that he has no...errr...package? And poor Thong...he gets no lines and no girl, and has to follow that frizzy haired girly doofus Ator around all the time. Has anyone else noticed that Miles O'Keefe walks like a woman? No wonder he's not interested in the pretty if somewhat lackluster Meela. The evil but prancy bad guy Zor is more to his taste, I'm sure. I loved Zor's cardboard spray painted swan helmet, and the way he spent all his time trying to touch some part of Ator. The fight scenes are so badly choreographed that its a wonder that the swords ever manage to connect. The dull old guy spends all of his time standing around looking depressed. Ator drinks from a cup given to him by a guy who hates him, and then looks surprised that they drugged him. He must be pretty smart though-he invented a hang glider in the space pf five minutes ,then flew it into a rift in the space/time continuum so that he travelled briefly into 17th century Bulgaria. That was after he stabbed the giant snake puppet, of course, and saved the post coital Meela while she sat around doing absolutely nothing. The real hero of the movie was Thong, who saved Ator several times from his boundless stupiditiy, and killed the evil Zor in the bargain. Kudos to Thong, the only competent person in the whole film.\",\n",
              " 'tokens': tensor([1180,    1,   94,   63,   32,    3, 3342,    3,  635,  352,    1,  875,\n",
              "            1,  105,   62,   76,   23,  272, 1194,   35, 2305,  100, 2892,  213,\n",
              "          103,    9,    1,  260, 1752, 1039,    1,  801,  635,    1,    1,    2,\n",
              "          354,   32,  103,  481,    1, 2224,  695, 1691,   44,    1,  134,    9,\n",
              "          105, 2377, 1935,   39,    1,   59,  339,  155,   92,    1,  219,    1,\n",
              "          107,  294,  150,  741,    1,    1,    1,    1,    1,   88,    9,  147,\n",
              "          220, 1625, 1819,    1, 2052,    5,  153,  444,  130,  767,   85,  524,\n",
              "         4834,    1,  351,    1,   17,  121,    1, 1108,   55,  148,  307,    1,\n",
              "         3132,    1, 4117,    1,    1,   27,  832,    9,  154, 1072,   78,    1,\n",
              "          426,   51,  811, 4926,  444,    1,   44, 1674, 3507,  631,   76,  121,\n",
              "         2147,    9, 1973,   88,  169, 3870,    1,    1, 3592,  240,  121, 3954,\n",
              "          173,  619,    1,  111,   85, 1166,    1, 4896, 2854,    1,  626,    1,\n",
              "          618,  129,    1,    1,    1,    1,    1, 3032,  686,  990,    1,    1,\n",
              "         1153, 3193, 3418,  157, 1800, 1810,    1,    1, 1550,   88,  296,   69,\n",
              "           56,  530,    2,    1, 1800,    1,  313,  115,    1,    1,  404,  351,\n",
              "            1,    1, 3593,    1, 2979,  291,  117,    3]),\n",
              " 'tokens_len': tensor(188)}"
            ]
          },
          "metadata": {},
          "execution_count": 19
        }
      ],
      "source": [
        "test_dataset[0]"
      ]
    },
    {
      "cell_type": "markdown",
      "metadata": {
        "id": "tkBrPdPBt4yY"
      },
      "source": [
        "#### Создание `DataLoader`"
      ]
    },
    {
      "cell_type": "code",
      "execution_count": 20,
      "metadata": {
        "id": "5ZPH3W_kMdCV"
      },
      "outputs": [],
      "source": [
        "def collate_fn(batch, padding_value, batch_first=False):\n",
        "    \"\"\"\n",
        "    :param List[Dict] batch: List of objects from dataset\n",
        "    :param int padding_value: Value that will be used to pad tokens\n",
        "    :param bool batch_first: If True resulting tensor with tokens must have shape [B, T] otherwise [T, B]\n",
        "    :return dict: Dictionary with all data collated\n",
        "        {\n",
        "            'ratings' torch.tensor(dtype=torch.long): rating of the text for each object in batch\n",
        "            'labels' torch.tensor(dtype=torch.long): sentiment of the text for each object in batch\n",
        "            \n",
        "            'texts' List[str]: All texts in one list\n",
        "            'tokens' torch.tensor(dtype=torch.long): tensor of tokens ids padded with @padding_value\n",
        "            'tokens_lens' torch.tensor(dtype=torch.long): number of tokens for each object in batch\n",
        "        }\n",
        "    \"\"\"\n",
        "    d = batch[0].copy()\n",
        "    replacements = {'text': 'texts', 'label': 'labels', 'rating': 'ratings',\n",
        "                    'tokens_len': 'tokens_lens'}\n",
        "    for i in list(d.keys()):\n",
        "        if i in replacements.keys():\n",
        "            d[replacements[i]] = d.pop(i)\n",
        "    tokens = [d['tokens']]\n",
        "    for obj in batch[1:]:\n",
        "        d['texts'] += obj['text']\n",
        "\n",
        "        d['ratings'] = torch.cat((d['ratings'].reshape(-1), obj['rating'].reshape(-1)))\n",
        "        d['labels'] = torch.cat((d['labels'].reshape(-1), obj['label'].reshape(-1)))\n",
        "        d['tokens_lens'] = torch.cat((d['tokens_lens'].reshape(-1), obj['tokens_len'].reshape(-1)))\n",
        "        tokens.append(obj['tokens'])\n",
        "    \n",
        "    d['tokens'] = torch.nn.utils.rnn.pad_sequence(tokens, batch_first=batch_first,\n",
        "                                                        padding_value=padding_value)\n",
        "    return d"
      ]
    },
    {
      "cell_type": "code",
      "execution_count": 21,
      "metadata": {
        "ExecuteTime": {
          "end_time": "2021-04-01T21:33:37.872760Z",
          "start_time": "2021-04-01T21:33:37.847071Z"
        },
        "id": "XhdGfCjPt4yb"
      },
      "outputs": [],
      "source": [
        "from functools import partial\n",
        "\n",
        "new_collate = partial(collate_fn, padding_value=0, batch_first=False)\n",
        "\n",
        "test_dataloader = DataLoader(test_dataset, batch_size=batch_size,\n",
        "                             collate_fn=new_collate, shuffle=True, num_workers=0)\n",
        "train_dataloader = DataLoader(train_dataset, batch_size=batch_size,\n",
        "                              collate_fn=new_collate, shuffle=True, num_workers=0)"
      ]
    },
    {
      "cell_type": "markdown",
      "metadata": {
        "id": "e-xMPaLIt4yc"
      },
      "source": [
        "Посмотрим на какой-нибудь батч:"
      ]
    },
    {
      "cell_type": "code",
      "execution_count": 22,
      "metadata": {
        "ExecuteTime": {
          "end_time": "2021-04-01T21:33:46.922744Z",
          "start_time": "2021-04-01T21:33:46.755275Z"
        },
        "id": "WckQW3lAt4yd",
        "colab": {
          "base_uri": "https://localhost:8080/"
        },
        "outputId": "8475a89d-257f-4fcf-c2f7-90db8b1a2a84"
      },
      "outputs": [
        {
          "output_type": "execute_result",
          "data": {
            "text/plain": [
              "(dict_keys(['tokens', 'texts', 'labels', 'ratings', 'tokens_lens']),\n",
              " tensor([0, 0, 0, 0, 1, 1, 1, 1, 1, 0, 1, 1, 0, 0, 0, 0, 0, 0, 1, 0, 0, 0, 1, 1,\n",
              "         0, 1, 1, 0, 0, 1, 0, 1, 1, 1, 1, 1, 0, 1, 0, 0, 0, 0, 0, 1, 0, 0, 0, 0,\n",
              "         0, 0, 1, 0, 0, 1, 0, 0, 1, 1, 0, 0, 0, 0, 1, 0]),\n",
              " tensor([0, 2, 0, 3, 6, 9, 6, 8, 8, 0, 9, 9, 0, 0, 0, 0, 1, 3, 8, 1, 2, 0, 6, 9,\n",
              "         0, 9, 9, 0, 0, 9, 2, 7, 8, 7, 9, 7, 3, 8, 3, 2, 0, 0, 0, 9, 3, 0, 3, 0,\n",
              "         0, 3, 6, 0, 1, 9, 0, 3, 8, 6, 0, 0, 0, 0, 8, 1]),\n",
              " tensor([[ 111,  257, 1486,  ...,  980,    4,    1],\n",
              "         [  46,  103,    1,  ...,    9, 1328,    1],\n",
              "         [  52,   36,  107,  ...,   27,  155, 1810],\n",
              "         ...,\n",
              "         [1919,    0,    0,  ...,    0,    0,    0],\n",
              "         [   1,    0,    0,  ...,    0,    0,    0],\n",
              "         [   1,    0,    0,  ...,    0,    0,    0]]),\n",
              " tensor([200,  77,  37,  89,  68,  66,  25, 164, 200, 122,  95,  38,  21,  88,\n",
              "          58,  73, 200, 200, 200, 119, 138,  17, 200, 160,  69,  77, 159,  78,\n",
              "          61, 154, 159, 200, 200,  60,  99, 168,  69, 148, 200,  42,  81,  74,\n",
              "          59,  66,  81,  38,  53, 126,  63,  58,  45,  64,  83,  94,  90, 200,\n",
              "          68,  82,  82,  85,  91,  70,  61,  68]))"
            ]
          },
          "metadata": {},
          "execution_count": 22
        }
      ],
      "source": [
        "batch = next(iter(test_dataloader))\n",
        "batch.keys(), batch['labels'], batch['ratings'], batch['tokens'], batch['tokens_lens']"
      ]
    },
    {
      "cell_type": "markdown",
      "metadata": {
        "ExecuteTime": {
          "end_time": "2021-03-31T16:05:00.702763Z",
          "start_time": "2021-03-31T16:05:00.674835Z"
        },
        "id": "6TJ7w2b4t4y3"
      },
      "source": [
        "## Language Modeling с помощью GRU"
      ]
    },
    {
      "cell_type": "markdown",
      "source": [
        "Для построения языковой модели будем использовать RNN на основе GRU. Это модуль рекуррентной нейронной сети, который является упрощением LSTM. Схема GRU приведена ниже."
      ],
      "metadata": {
        "id": "2H1vgkaCbl_W"
      }
    },
    {
      "cell_type": "markdown",
      "source": [
        "![image.png](data:image/png;base64,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)"
      ],
      "metadata": {
        "id": "rJYVp6YZcW5h"
      }
    },
    {
      "cell_type": "markdown",
      "metadata": {
        "id": "UyNf-lN0t4y6"
      },
      "source": [
        "Концептуально языковая модель будет выглядеть следующим образом:\n",
        "    \n",
        "![image info](https://blog.feedly.com/wp-content/uploads/2019/03/Screen-Shot-2019-03-06-at-12.08.35-PM.png)"
      ]
    },
    {
      "cell_type": "markdown",
      "metadata": {
        "id": "kn6y0CvNt4y7"
      },
      "source": [
        "В процессе обучения будем тренировать сеть предсказывать вероятность следующего символа при условии всех предыдущих. Эту вероятность можно моделировать с помощью скрытого состояния $h^{(t)}$ пропуская его через линейный слой с выходной размерностью равной размерности словаря:\n",
        "$$\n",
        "p(x^{t}|x^{t-1}, ..., x^{1}) = SoftMax(Linear(h^{(t)}))\n",
        "$$"
      ]
    },
    {
      "cell_type": "markdown",
      "metadata": {
        "ExecuteTime": {
          "end_time": "2021-04-02T00:37:56.100520Z",
          "start_time": "2021-04-02T00:37:56.072747Z"
        },
        "id": "mpDE2I0Gt4y-"
      },
      "source": [
        "В качестве функции потерь будем использовать `CrossEntropy`."
      ]
    },
    {
      "cell_type": "markdown",
      "metadata": {
        "id": "wFN_6z1Nt4y-"
      },
      "source": [
        "Рассмотрим другой важный момент. Для того, чтобы решить данную задачу, модель должна уметь определять момент начала генерации предложения и оповещать о завершении генерации -- конце предложения. Для этого добавим в словарь вспомогательные токены `<sos>`, `<eos>`. Добавив `<sos>` в начало каждого предложения и `<eos>` в конец.\n",
        "\n",
        "Модель сможет начинать генерацию как только ей будет передан токен `<sos>` и заканчивать генерацию, как только на очередном месте самым вероятным токеном оказывается `<eos>`."
      ]
    },
    {
      "cell_type": "markdown",
      "metadata": {
        "id": "rrjmlmp8t4y_"
      },
      "source": [
        "### Реализация модели и цикла обучения"
      ]
    },
    {
      "cell_type": "code",
      "source": [
        "dtype, device, cuda_device_id = torch.float32, None, 0\n",
        "os.environ[\"CUDA_VISIBLE_DEVICES\"] = '{0}'.format(str(cuda_device_id) if cuda_device_id is not None else '')\n",
        "if cuda_device_id is not None and torch.cuda.is_available():\n",
        "    device = 'cuda:{0:d}'.format(0)\n",
        "else:\n",
        "    device = torch.device('cpu')\n",
        "print(f'Using device: {device}, dtype: {dtype}')"
      ],
      "metadata": {
        "colab": {
          "base_uri": "https://localhost:8080/"
        },
        "id": "bO3CaeOw9rqZ",
        "outputId": "ee990139-6757-40e0-ad38-a0fd38b5c52d"
      },
      "execution_count": 23,
      "outputs": [
        {
          "output_type": "stream",
          "name": "stdout",
          "text": [
            "Using device: cuda:0, dtype: torch.float32\n"
          ]
        }
      ]
    },
    {
      "cell_type": "code",
      "source": [
        "class RNNClassifier(torch.nn.Module):\n",
        "    def __init__(\n",
        "        self, embedding_dim, hidden_dim, output_size, vocab,\n",
        "        rec_layer=torch.nn.GRU, dropout=None, **kwargs\n",
        "    ):\n",
        "        super().__init__()\n",
        "\n",
        "        self.dropout = dropout\n",
        "        \n",
        "        self.vocab = vocab\n",
        "        self.hidden_dim = hidden_dim\n",
        "        self.output_size = output_size\n",
        "        self.embedding_dim = embedding_dim\n",
        "        \n",
        "        # Create a simple lookup table that stores embeddings of a fixed dictionary and size.\n",
        "        #    Use torch.nn.Embedding. Do not forget specify padding_idx!\n",
        "        self.word_embeddings = torch.nn.Embedding(len(self.vocab), self.embedding_dim, padding_idx=0)\n",
        "        \n",
        "        if dropout is not None:\n",
        "            self.rnn = rec_layer(self.embedding_dim, self.hidden_dim, dropout=self.dropout, **kwargs)\n",
        "        else:\n",
        "            self.rnn = rec_layer(self.embedding_dim, self.hidden_dim, **kwargs)\n",
        "         \n",
        "        # Create linear layer for classification\n",
        "        self.output = torch.nn.Linear(self.hidden_dim, self.output_size, bias=False)\n",
        "    \n",
        "    def forward(self, tokens, tokens_lens):\n",
        "        \"\"\"\n",
        "        :param torch.tensor(dtype=torch.long) tokens: Batch of texts represented with tokens.\n",
        "        :param torch.tensor(dtype=torch.long) tokens_lens: Number of non-padding tokens for each object in batch.\n",
        "        :return torch.tensor(dtype=torch.long): Vector representation for each sequence in batch\n",
        "        \"\"\"\n",
        "        # Evaluate embeddings\n",
        "        layer1 = self.word_embeddings(tokens) # layer1[max_length, batch_size, embedding_dim]\n",
        "        \n",
        "        # Make forward pass through recurrent network\n",
        "        out, hidden = self.rnn(layer1) # out:[max_length, batch_size, self.hidden_dim]\n",
        "        # hidden: ([1, batch_size, self.hidden_dim]\n",
        "        \n",
        "        # Pass output from rnn to linear layer \n",
        "        # Note: each object in batch has its own length \n",
        "        #     so we must take rnn hidden state after the last token for each text in batch\n",
        "        return self.output(out[tokens_lens-1, torch.arange(out.size(1)), :]) #[batch_size, output_size]"
      ],
      "metadata": {
        "id": "uxSTPYq_SgpG"
      },
      "execution_count": 24,
      "outputs": []
    },
    {
      "cell_type": "code",
      "source": [
        "class RNNLM(RNNClassifier):\n",
        "    def __init__(\n",
        "        self, embedding_dim, hidden_dim, vocab, dropout=0.5, num_layers=1\n",
        "    ):\n",
        "        super().__init__(\n",
        "            embedding_dim=embedding_dim, hidden_dim=hidden_dim, output_size=len(vocab), vocab=vocab,\n",
        "            rec_layer=torch.nn.GRU, dropout=dropout, num_layers=num_layers\n",
        "        )\n",
        "    \n",
        "    def forward(self, tokens, tokens_lens):\n",
        "        \"\"\"\n",
        "        :param torch.tensor(dtype=torch.long) tokens: Batch of texts represented with tokens. Shape: [T, B]\n",
        "        :param torch.tensor(dtype=torch.long) tokens_lens: Number of non-padding tokens for each object in batch. Shape: [B]\n",
        "        :return torch.tensor: Distribution of next token for each time step. Shape: [T, B, V], V -- size of vocabulary\n",
        "        \"\"\"\n",
        "        # Make embeddings for all tokens\n",
        "        layer1 = self.word_embeddings(tokens)\n",
        "        \n",
        "        # Forward pass embeddings through network\n",
        "        out_h, hidden = self.rnn(layer1)\n",
        "        # Take all hidden states from the last layer of GRU for each step and perform linear transformation\n",
        "        return self.output(out_h)"
      ],
      "metadata": {
        "id": "IDD9QaF_WogZ"
      },
      "execution_count": 25,
      "outputs": []
    },
    {
      "cell_type": "markdown",
      "metadata": {
        "id": "PIZR5crOt4zA"
      },
      "source": [
        "Реализуем функцию потерь и оценку качетва для данной задачи."
      ]
    },
    {
      "cell_type": "code",
      "execution_count": 26,
      "metadata": {
        "ExecuteTime": {
          "end_time": "2021-04-02T02:07:06.289671Z",
          "start_time": "2021-04-02T02:07:06.262883Z"
        },
        "id": "ETOQf9mKt4zD"
      },
      "outputs": [],
      "source": [
        "class LMCrossEntropyLoss(torch.nn.CrossEntropyLoss):\n",
        "    def __init__(self, *args, **kwargs):\n",
        "        super().__init__(*args, **kwargs)\n",
        "        \n",
        "    def forward(self, outputs, tokens, tokens_lens):\n",
        "        \"\"\"\n",
        "        :param torch.tensor outputs: Output from RNNLM.forward. Shape: [T, B, V]\n",
        "        :param torch.tensor tokens: Batch of tokens. Shape: [T, B]\n",
        "        :param torch.tensor tokens_lens: Length of each sequence in batch\n",
        "        :return torch.tensor: CrossEntropyLoss between corresponding logits and tokens\n",
        "        \"\"\"\n",
        "        # Use torch.nn.utils.rnn.pack_padded_sequence().data to remove padding and flatten logits and tokens\n",
        "        # Do not forget specify enforce_sorted=False and correct value of batch_first\n",
        "        packed_outputs = torch.nn.utils.rnn.pack_padded_sequence(outputs, tokens_lens.cpu()-1, \n",
        "                                                                 batch_first=False, enforce_sorted=False).data\n",
        "        packed_tokens = torch.nn.utils.rnn.pack_padded_sequence(tokens[1:], tokens_lens.cpu()-1, \n",
        "                                                                batch_first=False, enforce_sorted=False).data\n",
        "        \n",
        "        # Use super().forward(..., ...) to compute CrossEntropyLoss\n",
        "        return super().forward(packed_outputs, packed_tokens)"
      ]
    },
    {
      "cell_type": "code",
      "execution_count": 27,
      "metadata": {
        "ExecuteTime": {
          "end_time": "2021-04-02T02:07:07.335981Z",
          "start_time": "2021-04-02T02:07:07.309586Z"
        },
        "id": "8RnT3LHOt4zD"
      },
      "outputs": [],
      "source": [
        "class LMAccuracy(torch.nn.Module):\n",
        "    def __init__(self):\n",
        "        super().__init__()\n",
        "\n",
        "    def forward(self, outputs, tokens, tokens_lens):\n",
        "        \"\"\"\n",
        "        :param torch.tensor outputs: Output from RNNLM.forward. Shape: [T, B, V]\n",
        "        :param torch.tensor tokens: Batch of tokens. Shape: [T, B]\n",
        "        :param torch.tensor tokens_lens: Length of each sequence in batch\n",
        "        :return torch.tensor: Accuracy for given logits and tokens\n",
        "        \"\"\"\n",
        "        # Use torch.nn.utils.rnn.pack_padded_sequence().data to remove padding and flatten logits and tokens\n",
        "        # Do not forget specify enforce_sorted=False and correct value of batch_first\n",
        "        packed_outputs = torch.nn.utils.rnn.pack_padded_sequence(outputs, tokens_lens.cpu()-1, \n",
        "                                                                 batch_first=False, enforce_sorted=False).data\n",
        "        packed_tokens = torch.nn.utils.rnn.pack_padded_sequence(tokens[1:, :], tokens_lens.cpu()-1,\n",
        "                                                                batch_first=False, enforce_sorted=False).data\n",
        "\n",
        "        return torch.sum(packed_outputs.argmax(1) == packed_tokens)"
      ]
    },
    {
      "cell_type": "markdown",
      "metadata": {
        "id": "fMVOKB38t4zE"
      },
      "source": [
        "Реализуем функции `train_epoch`, `evaluate`, `train` для обучения LM."
      ]
    },
    {
      "cell_type": "code",
      "execution_count": 28,
      "metadata": {
        "ExecuteTime": {
          "end_time": "2021-04-02T02:07:31.492984Z",
          "start_time": "2021-04-02T02:07:31.459655Z"
        },
        "id": "_CtEDkrWt4zE"
      },
      "outputs": [],
      "source": [
        "def train_epoch_lm(dataloader, model, loss_fn, optimizer, device):\n",
        "    model.train()\n",
        "    for idx, data in enumerate(dataloader):\n",
        "        # 1. Take data from batch\n",
        "        # 2. Perform forward pass\n",
        "        # 3. Evaluate loss\n",
        "        # 4. Make optimizer step\n",
        "        optimizer.zero_grad()\n",
        "        tokens, tokens_lens = data['tokens'].to(device), data['tokens_lens'].to(device)\n",
        "        predict = model(tokens, tokens_lens)\n",
        "        loss = loss_fn(predict, tokens, tokens_lens)\n",
        "        loss.backward()\n",
        "        optimizer.step()\n",
        "    \n",
        "def evaluate_lm(dataloader, model, loss_fn, device):\n",
        "    model.eval()\n",
        "    \n",
        "    total_tokens = 0\n",
        "    total_loss = 0.0\n",
        "    total_accuracy = 0.0\n",
        "    \n",
        "    accuracy_fn = LMAccuracy()\n",
        "    with torch.no_grad():\n",
        "        for idx, data in enumerate(dataloader):\n",
        "            # 1. Take data from batch\n",
        "            # 2. Perform forward pass\n",
        "            # 3. Evaluate loss\n",
        "            # 4. Evaluate accuracy\n",
        "            tokens, tokens_lens = data['tokens'].to(device), data['tokens_lens'].to(device)\n",
        "            predict = model(tokens, tokens_lens).to(device)\n",
        "            \n",
        "            total_loss += loss_fn(predict, tokens, tokens_lens)\n",
        "            total_accuracy += accuracy_fn(predict, tokens, tokens_lens)\n",
        "            total_tokens += torch.sum(tokens_lens - 1)          \n",
        "    return total_loss / total_tokens, total_accuracy / total_tokens\n",
        "\n",
        "def train_lm(\n",
        "    train_loader, test_loader, model, loss_fn, optimizer, device, num_epochs\n",
        "):\n",
        "    test_losses = []\n",
        "    train_losses = []\n",
        "    test_accuracies = []\n",
        "    train_accuracies = []\n",
        "    for epoch in range(num_epochs):\n",
        "        train_epoch_lm(train_loader, model, loss_fn, optimizer, device)\n",
        "        \n",
        "        train_loss, train_acc = evaluate_lm(train_loader, model, loss_fn, device)\n",
        "        train_accuracies.append(train_acc)\n",
        "        train_losses.append(train_loss)\n",
        "        \n",
        "        test_loss, test_acc = evaluate_lm(test_loader, model, loss_fn, device)\n",
        "        test_accuracies.append(test_acc)\n",
        "        test_losses.append(test_loss)\n",
        "        \n",
        "        print(\n",
        "            'Epoch: {0:d}/{1:d}. Loss (Train/Test): {2:.3f}/{3:.3f}. Accuracy (Train/Test): {4:.3f}/{5:.3f}'.format(\n",
        "                epoch + 1, num_epochs, train_losses[-1], test_losses[-1], train_accuracies[-1], test_accuracies[-1]\n",
        "            )\n",
        "        )\n",
        "    return train_losses, train_accuracies, test_losses, test_accuracies"
      ]
    },
    {
      "cell_type": "markdown",
      "metadata": {
        "id": "4autLTdht4zF"
      },
      "source": [
        "Теперь у нас всё готово для обучения модели."
      ]
    },
    {
      "cell_type": "markdown",
      "metadata": {
        "ExecuteTime": {
          "end_time": "2021-04-02T01:06:12.736180Z",
          "start_time": "2021-04-02T01:06:12.708814Z"
        },
        "id": "iQS3Wakdt4zF"
      },
      "source": [
        "Создадим словарь с `<sos>`, `<eos>` токенами."
      ]
    },
    {
      "cell_type": "code",
      "source": [
        "from collections import Counter\n",
        "\n",
        "c = Counter()\n",
        "for i, l in counter.items():\n",
        "    c[i] = l\n",
        "\n",
        "new_counter = {}\n",
        "for i, l in c.most_common(30000):\n",
        "    new_counter[i] = l"
      ],
      "metadata": {
        "id": "qHvkIIZiZ-Al"
      },
      "execution_count": 29,
      "outputs": []
    },
    {
      "cell_type": "code",
      "source": [
        "specials = ['<pad>', '<unk>', '<sos>', '<eos>']\n",
        "for special in specials:\n",
        "    counter[special] = 0\n",
        "lm_vocab = torchtext.vocab.vocab(new_counter, specials=specials, special_first=True)\n",
        "lm_vocab.set_default_index(vocab['<unk>'])"
      ],
      "metadata": {
        "id": "x1lirSjeaA0g"
      },
      "execution_count": 30,
      "outputs": []
    },
    {
      "cell_type": "code",
      "source": [
        "lm_test_dataset = LargeMovieReviewDataset(test_data_path, lm_vocab, max_len=40, pad_sos=True, pad_eos=True)\n",
        "lm_train_dataset = LargeMovieReviewDataset(train_data_path, lm_vocab, max_len=40, pad_sos=True, pad_eos=True)"
      ],
      "metadata": {
        "id": "Nh_JkCRsaGND"
      },
      "execution_count": 31,
      "outputs": []
    },
    {
      "cell_type": "markdown",
      "metadata": {
        "id": "6yaVeAfDt4zG"
      },
      "source": [
        "Создадим даталоадеры для тестовой и обучающей выборок:"
      ]
    },
    {
      "cell_type": "code",
      "execution_count": 32,
      "metadata": {
        "ExecuteTime": {
          "end_time": "2021-04-02T12:29:16.213723Z",
          "start_time": "2021-04-02T12:29:16.186954Z"
        },
        "id": "E68TsW7Ct4zH"
      },
      "outputs": [],
      "source": [
        "lm_test_dataloader = DataLoader(\n",
        "    lm_test_dataset, batch_size=96, shuffle=False, num_workers=1, \n",
        "    collate_fn=partial(collate_fn, padding_value=lm_vocab.lookup_indices(['<pad>'])[0])\n",
        ")\n",
        "lm_train_dataloader = DataLoader(\n",
        "    lm_train_dataset, batch_size=96, shuffle=True, num_workers=1, \n",
        "    collate_fn=partial(collate_fn, padding_value=lm_vocab.lookup_indices(['<pad>'])[0])\n",
        ")"
      ]
    },
    {
      "cell_type": "markdown",
      "metadata": {
        "id": "j7exPdHRt4zH"
      },
      "source": [
        "Создадим модель, функцию потерь и оптимизатор: "
      ]
    },
    {
      "cell_type": "code",
      "execution_count": 33,
      "metadata": {
        "ExecuteTime": {
          "end_time": "2021-04-02T14:15:32.916424Z",
          "start_time": "2021-04-02T14:15:32.525452Z"
        },
        "id": "Ub93cbtot4zI"
      },
      "outputs": [],
      "source": [
        "lm_model = RNNLM(\n",
        "    embedding_dim=512, hidden_dim=512, vocab=lm_vocab, dropout=0.1, num_layers=2\n",
        ").to(device=device)"
      ]
    },
    {
      "cell_type": "code",
      "execution_count": 34,
      "metadata": {
        "ExecuteTime": {
          "end_time": "2021-04-02T14:15:33.332806Z",
          "start_time": "2021-04-02T14:15:33.307749Z"
        },
        "id": "5JE-R3Xit4zI"
      },
      "outputs": [],
      "source": [
        "lm_loss_fn = LMCrossEntropyLoss(reduction='sum')\n",
        "lm_optimizer = torch.optim.Adam(lm_model.parameters(), lr=0.005, weight_decay=1.2e-6)"
      ]
    },
    {
      "cell_type": "markdown",
      "metadata": {
        "id": "t313EayNt4zJ"
      },
      "source": [
        "Обучим модель:"
      ]
    },
    {
      "cell_type": "code",
      "execution_count": null,
      "metadata": {
        "ExecuteTime": {
          "end_time": "2021-04-02T14:20:33.447251Z",
          "start_time": "2021-04-02T14:15:33.797444Z"
        },
        "id": "0SgPMaFdt4zJ",
        "scrolled": true,
        "colab": {
          "base_uri": "https://localhost:8080/"
        },
        "outputId": "fcd1954c-2d4e-4fea-a4e3-ef51d2ed0720"
      },
      "outputs": [
        {
          "output_type": "stream",
          "name": "stdout",
          "text": [
            "Epoch: 1/9. Loss (Train/Test): 7.314/7.649. Accuracy (Train/Test): 0.072/0.070\n",
            "Epoch: 2/9. Loss (Train/Test): 7.081/7.647. Accuracy (Train/Test): 0.070/0.065\n",
            "Epoch: 3/9. Loss (Train/Test): 6.880/7.679. Accuracy (Train/Test): 0.073/0.066\n",
            "Epoch: 4/9. Loss (Train/Test): 6.670/7.721. Accuracy (Train/Test): 0.078/0.067\n",
            "Epoch: 5/9. Loss (Train/Test): 6.500/7.783. Accuracy (Train/Test): 0.082/0.066\n",
            "Epoch: 6/9. Loss (Train/Test): 6.341/7.855. Accuracy (Train/Test): 0.090/0.066\n",
            "Epoch: 7/9. Loss (Train/Test): 6.256/7.927. Accuracy (Train/Test): 0.095/0.066\n",
            "Epoch: 8/9. Loss (Train/Test): 6.762/8.056. Accuracy (Train/Test): 0.069/0.059\n",
            "Epoch: 9/9. Loss (Train/Test): 6.625/8.074. Accuracy (Train/Test): 0.076/0.060\n"
          ]
        }
      ],
      "source": [
        "lm_train_losses, lm_train_accuracies, lm_test_losses, lm_test_accuracies = train_lm(\n",
        "    lm_train_dataloader, lm_test_dataloader, lm_model, lm_loss_fn, lm_optimizer, device, 9\n",
        ")"
      ]
    },
    {
      "cell_type": "markdown",
      "metadata": {
        "id": "DHjcjMn3t4zK"
      },
      "source": [
        "### Реализация декодера"
      ]
    },
    {
      "cell_type": "markdown",
      "metadata": {
        "id": "QO-JLGmRt4zL"
      },
      "source": [
        "Теперь, реализуем последнюю деталь -- декодирование с использованием обученной модели.\n",
        "Есть несколько вариантов. Рассмотрим два самых простых:\n",
        "1. **Жадное декодирование.** На каждом шаге мы выбираем токен с максимальной вероятностью и используем его для обновления скрытого состояния RNN.\n",
        "2. **Top-k sampling.** На очередном шаге рассматриваются $k$ токенов с самыми большими вероятностями. Остальные токены игнорируются. Из выбранных токенов семплируется следующий токен пропорционально их вероятностям.\n",
        "\n",
        "Прочитать подробнее про разные варианты декодирования можно по ссылкам:\n",
        "1. [От huggingface](https://huggingface.co/blog/how-to-generate)\n",
        "2. [На towardsdatascience](https://towardsdatascience.com/decoding-strategies-that-you-need-to-know-for-response-generation-ba95ee0faadc)"
      ]
    },
    {
      "cell_type": "markdown",
      "metadata": {
        "id": "F4kpIKSyt4zL"
      },
      "source": [
        "Существенным в процессе декодирования является критерий останова. Как только очередной самый вероятный символ оказался `<eos>`, то данная последовательность считается сгенерированной. Однако, может так оказаться, что `<eos>` никогда не будет выбран, тогда необходимо прекратить генерацию, как только длина последовательности перейдёт порог `max_generated_len`."
      ]
    },
    {
      "cell_type": "code",
      "source": [
        "def decode(model, start_tokens, start_tokens_lens, max_generated_len=20, top_k=None):\n",
        "    \"\"\"\n",
        "    :param RNNLM model: Model\n",
        "    :param torch.tensor start_tokens: Batch of seed tokens. Shape: [T, B]\n",
        "    :param torch.tensor start_tokens_lens: Length of each sequence in batch. Shape: [B]\n",
        "    :return Tuple[torch.tensor, torch.tensor]. Newly predicted tokens and length of generated part. Shape [T*, B], [B]\n",
        "    \"\"\"\n",
        "    # Get embedding for start_tokens\n",
        "    embedding = model.word_embeddings(start_tokens)\n",
        "\n",
        "    # Pass embedding through rnn and collect hidden states and cell states for each time moment\n",
        "    all_h = []\n",
        "    h = embedding.new_zeros([model.rnn.num_layers, start_tokens.shape[1], model.hidden_dim])\n",
        "    for time_step in range(start_tokens.shape[0]):\n",
        "        output, h = model.rnn(torch.unsqueeze(embedding[time_step], dim=0), h)\n",
        "        all_h.append(h)\n",
        "\n",
        "    all_h = torch.stack(all_h, dim=1)\n",
        "    # Take final hidden state and cell state for each start sequence in batch\n",
        "    # We will use them as h_0 for generation new tokens\n",
        "    h = all_h[:, start_tokens_lens - 1, torch.arange(start_tokens_lens.shape[0])]\n",
        "\n",
        "    # List of predicted tokens for each time step\n",
        "    predicted_tokens = []\n",
        "    # Length of generated part for each object in the batch\n",
        "    decoded_lens = torch.zeros_like(start_tokens_lens, dtype=torch.long)\n",
        "    # Boolean mask where we store if the sequence has already generated\n",
        "    # i.e. `<eos>` was selected on any step\n",
        "    is_finished_decoding = torch.zeros_like(start_tokens_lens, dtype=torch.bool)\n",
        "\n",
        "    # Stop when all sequences in the batch are finished\n",
        "    while not torch.all(is_finished_decoding) and torch.max(decoded_lens) < max_generated_len:\n",
        "        # Evaluate next token distribution using hidden state h.\n",
        "        # Note. Over first dimension h has hidden states for each layer of LSTM.\n",
        "        #     We must use hidden state from the last layer\n",
        "        logits = torch.nn.Softmax(dim=1)(model.output(h[-1]))\n",
        "\n",
        "        if top_k is not None:\n",
        "            # Top-k sampling. Use only top-k most probable logits to sample next token\n",
        "            indices_to_remove = logits < torch.topk(logits, top_k)[0][..., -1, None]\n",
        "            # Mask non top-k logits\n",
        "            logits[indices_to_remove] = 0\n",
        "            # Sample next_token.\n",
        "            next_token = torch.multinomial(logits, 1).reshape(-1)\n",
        "        else:\n",
        "            # Select most probable token\n",
        "            next_token = torch.argmax(logits, dim=1).reshape(-1)\n",
        "\n",
        "        predicted_tokens.append(next_token)\n",
        "\n",
        "        decoded_lens += (~is_finished_decoding)\n",
        "        is_finished_decoding |= (next_token == torch.tensor(model.vocab.lookup_indices(['<eos>'])[0]))\n",
        "\n",
        "        # Evaluate embedding for next token\n",
        "        embedding += model.word_embeddings(next_token)\n",
        "\n",
        "        # Update hidden and cell states\n",
        "        output, h = model.rnn(embedding, h)\n",
        "\n",
        "    return torch.stack(predicted_tokens), decoded_lens"
      ],
      "metadata": {
        "id": "3j8OfOEYetoe"
      },
      "execution_count": 38,
      "outputs": []
    },
    {
      "cell_type": "markdown",
      "source": [
        "## Эксперименты"
      ],
      "metadata": {
        "id": "s5jtJTL6aoya"
      }
    },
    {
      "cell_type": "markdown",
      "metadata": {
        "ExecuteTime": {
          "end_time": "2021-04-02T01:38:06.232189Z",
          "start_time": "2021-04-02T01:38:06.205413Z"
        },
        "id": "cAYC3b7Vt4zM"
      },
      "source": [
        "Попробуем сгенерировать продолжения для нескольких префиксов:"
      ]
    },
    {
      "cell_type": "code",
      "execution_count": 40,
      "metadata": {
        "ExecuteTime": {
          "end_time": "2021-04-02T14:28:22.568613Z",
          "start_time": "2021-04-02T14:28:22.545810Z"
        },
        "id": "rdonELULt4zM"
      },
      "outputs": [],
      "source": [
        "start_tokens = torch.tensor([\n",
        "    lm_model.vocab.lookup_indices(['<sos>', '<pad>', '<pad>', '<pad>']),\n",
        "    lm_model.vocab.lookup_indices(['<sos>', 'my', 'favorite', 'movie']),\n",
        "    lm_model.vocab.lookup_indices(['<sos>', 'the', 'best', 'movie']),\n",
        "    lm_model.vocab.lookup_indices(['<sos>', 'the', 'worst', 'movie']),\n",
        "]).T\n",
        "\n",
        "start_tokens_lens = torch.tensor([1, 4, 4, 4])"
      ]
    },
    {
      "cell_type": "code",
      "execution_count": null,
      "metadata": {
        "ExecuteTime": {
          "end_time": "2021-04-02T14:28:28.222137Z",
          "start_time": "2021-04-02T14:28:27.930196Z"
        },
        "id": "cPG2m0sJt4zN"
      },
      "outputs": [],
      "source": [
        "lm_model = lm_model.cpu()\n",
        "lm_model.eval()\n",
        "decoded_tokens, decoded_lens = decode(lm_model, start_tokens, start_tokens_lens, max_generated_len=40, top_k=5)"
      ]
    },
    {
      "cell_type": "code",
      "execution_count": null,
      "metadata": {
        "ExecuteTime": {
          "end_time": "2021-04-02T14:28:28.751380Z",
          "start_time": "2021-04-02T14:28:28.708461Z"
        },
        "id": "nNpcT9Fnt4zO",
        "outputId": "8fb29fe1-4b1c-4975-dbcd-d5e57a2375e6",
        "colab": {
          "base_uri": "https://localhost:8080/"
        }
      },
      "outputs": [
        {
          "output_type": "stream",
          "name": "stdout",
          "text": [
            "<sos> movie <unk> movie bad bad one <unk> clawing <unk> <unk> <unk> <unk> <unk> <unk> <unk> cortes overthehill <unk> <unk> cortes <unk> <unk> movie <unk> <unk> <unk> <eos>\n",
            "<sos> <unk> favorite movie ive ever seen seen seen seen seen seen irreversible since <unk> seen <eos>\n",
            "<sos> <unk> best movie ever <unk> seen made <unk> <unk> <unk> <unk> movie <unk> <unk> <unk> <unk> <unk> <unk> starewicz <eos>\n",
            "<sos> <unk> worst movie ive ever seen seen seen seen seen seen avengers movie seen ever seen seen ever seen seen seen seen seen movie <eos>\n"
          ]
        }
      ],
      "source": [
        "for text_idx in range(start_tokens.shape[1]):\n",
        "    decoded_text_tokens = decoded_tokens[:decoded_lens[text_idx], text_idx]\n",
        "    tokens = start_tokens[:start_tokens_lens[text_idx], text_idx].tolist() + decoded_text_tokens.tolist()\n",
        "    words = np.array(lm_model.vocab.get_itos())[np.array(tokens)]\n",
        "    print(' '.join(words))"
      ]
    },
    {
      "cell_type": "markdown",
      "source": [
        "#### Выберем лучшие параметры для декодирования в целях использования в дальнейших экспериментах."
      ],
      "metadata": {
        "id": "HTWL1Rh5pkoB"
      }
    },
    {
      "cell_type": "code",
      "source": [
        "for text_idx in range(start_tokens.shape[1]):\n",
        "    decoded_text_tokens = decoded_tokens[:decoded_lens[text_idx], text_idx]\n",
        "    tokens = start_tokens[:start_tokens_lens[text_idx], text_idx].tolist() + decoded_text_tokens.tolist()\n",
        "    words = np.array(lm_model.vocab.get_itos())[np.array(tokens)]\n",
        "    print(' '.join(words))"
      ],
      "metadata": {
        "colab": {
          "base_uri": "https://localhost:8080/"
        },
        "id": "VOw7wh5sjaP3",
        "outputId": "7280e1cb-73d0-40e7-da9d-3174ea52484a"
      },
      "execution_count": null,
      "outputs": [
        {
          "output_type": "stream",
          "name": "stdout",
          "text": [
            "<sos> movie <unk> movie bad bad one <unk> clawing <unk> <unk> <unk> <unk> <unk> <unk> <unk> cortes overthehill <unk> <unk> cortes <unk> <unk> movie <unk> <unk> <unk> <eos>\n",
            "<sos> <unk> favorite movie ive ever seen seen seen seen seen seen irreversible since <unk> seen <eos>\n",
            "<sos> <unk> best movie ever <unk> seen made <unk> <unk> <unk> <unk> movie <unk> <unk> <unk> <unk> <unk> <unk> starewicz <eos>\n",
            "<sos> <unk> worst movie ive ever seen seen seen seen seen seen avengers movie seen ever seen seen ever seen seen seen seen seen movie <eos>\n"
          ]
        }
      ]
    },
    {
      "cell_type": "code",
      "source": [
        "lm_model = lm_model.cpu()\n",
        "lm_model.eval()\n",
        "decoded_tokens, decoded_lens = decode(lm_model, start_tokens, start_tokens_lens, max_generated_len=20, top_k=50)\n",
        "\n",
        "for text_idx in range(start_tokens.shape[1]):\n",
        "    decoded_text_tokens = decoded_tokens[:decoded_lens[text_idx], text_idx]\n",
        "    tokens = start_tokens[:start_tokens_lens[text_idx], text_idx].tolist() + decoded_text_tokens.tolist()\n",
        "    words = np.array(lm_model.vocab.get_itos())[np.array(tokens)]\n",
        "    print(' '.join(words))"
      ],
      "metadata": {
        "colab": {
          "base_uri": "https://localhost:8080/"
        },
        "id": "kDuWB2-8va9i",
        "outputId": "75a0fa8c-5e85-48f3-a88e-d045ec9859bf"
      },
      "execution_count": null,
      "outputs": [
        {
          "output_type": "stream",
          "name": "stdout",
          "text": [
            "<sos> <unk> movie <unk> <unk> cortes la movie got said movie dont would well like overthehill <unk> <unk> shah <unk> starts\n",
            "<sos> <unk> favorite movie like one dont liked movies know movie ever made say say make ever bother seen know want good movie dont\n",
            "<sos> <unk> best movie film bad came film <unk> fun ever seen good one see would never see watch laughthe recommend say even <eos>\n",
            "<sos> <unk> worst movie even one night ever worst made ever heard ever seen madethe worse seen worse never seen seen seen watched ive\n"
          ]
        }
      ]
    },
    {
      "cell_type": "code",
      "source": [
        "lm_model = lm_model.cpu()\n",
        "lm_model.eval()\n",
        "decoded_tokens, decoded_lens = decode(lm_model, start_tokens, start_tokens_lens, max_generated_len=100, top_k=50)\n",
        "\n",
        "for text_idx in range(start_tokens.shape[1]):\n",
        "    decoded_text_tokens = decoded_tokens[:decoded_lens[text_idx], text_idx]\n",
        "    tokens = start_tokens[:start_tokens_lens[text_idx], text_idx].tolist() + decoded_text_tokens.tolist()\n",
        "    words = np.array(lm_model.vocab.get_itos())[np.array(tokens)]\n",
        "    print(' '.join(words))"
      ],
      "metadata": {
        "colab": {
          "base_uri": "https://localhost:8080/"
        },
        "id": "fr0oAnyBw7bQ",
        "outputId": "c886ee28-9fd7-4cad-934b-9ba8657ba172"
      },
      "execution_count": null,
      "outputs": [
        {
          "output_type": "stream",
          "name": "stdout",
          "text": [
            "<sos> loved movie really bad movie came watch ever movie like quite hysterically expect say much movie movie good hysterically much like quite much movie bad much sucks much one bad thinker good regrettably even well thinker enjoy seen better give see waste enjoy massacred movie <eos>\n",
            "<sos> <unk> favorite movie sucked plot movie movie <unk> nothing makes like could want fun recommend know see one one worst even movie give one recommend <eos>\n",
            "<sos> <unk> best movie ive ever ever seen made think seen seen ever seen seen seen seen ever movie worst worst <unk> never movie good seen read movie seen watched got must see francos seen seen ive <unk> massacred seen bin one shunning <eos>\n",
            "<sos> <unk> worst movie ever ever ever seen watched seen seenthis heard made seen seen good made seen movie better seen <unk> would film seen tripod reiterate seen ishtar <unk> movie <eos>\n"
          ]
        }
      ]
    },
    {
      "cell_type": "code",
      "source": [
        "lm_model = lm_model.cpu()\n",
        "lm_model.eval()\n",
        "decoded_tokens, decoded_lens = decode(lm_model, start_tokens, start_tokens_lens, max_generated_len=50, top_k=100)\n",
        "\n",
        "for text_idx in range(start_tokens.shape[1]):\n",
        "    decoded_text_tokens = decoded_tokens[:decoded_lens[text_idx], text_idx]\n",
        "    tokens = start_tokens[:start_tokens_lens[text_idx], text_idx].tolist() + decoded_text_tokens.tolist()\n",
        "    words = np.array(lm_model.vocab.get_itos())[np.array(tokens)]\n",
        "    print(' '.join(words))"
      ],
      "metadata": {
        "colab": {
          "base_uri": "https://localhost:8080/"
        },
        "id": "EaHLotedyGIV",
        "outputId": "e38f62c7-1492-4904-d440-7cb05006fe34"
      },
      "execution_count": null,
      "outputs": [
        {
          "output_type": "stream",
          "name": "stdout",
          "text": [
            "<sos> first time time say <unk> didnt make say first say film didnt film well know even televised let <eos>\n",
            "<sos> <unk> favorite movie <unk> directed may pj perfect little <unk> doesnt mcdowall <unk> film like miguel story <unk> well <eos>\n",
            "<sos> <unk> best movie one doesnt made funniest seen ever read best seen seen since recommend understand say seen even see actors least <unk> movies seen shunning worst watched seen best <eos>\n",
            "<sos> <unk> worst movie ever ever seen seen ever heard movies seem conceived seen fencing seen movie really movie seen see seen awful would could minutes seen <eos>\n"
          ]
        }
      ]
    },
    {
      "cell_type": "code",
      "source": [
        "lm_model = lm_model.cpu()\n",
        "lm_model.eval()\n",
        "decoded_tokens, decoded_lens = decode(lm_model, start_tokens, start_tokens_lens, max_generated_len=20, top_k=10)\n",
        "\n",
        "for text_idx in range(start_tokens.shape[1]):\n",
        "    decoded_text_tokens = decoded_tokens[:decoded_lens[text_idx], text_idx]\n",
        "    tokens = start_tokens[:start_tokens_lens[text_idx], text_idx].tolist() + decoded_text_tokens.tolist()\n",
        "    words = np.array(lm_model.vocab.get_itos())[np.array(tokens)]\n",
        "    print(' '.join(words))"
      ],
      "metadata": {
        "colab": {
          "base_uri": "https://localhost:8080/"
        },
        "id": "TPNpQ35hjzlo",
        "outputId": "bc8f90ad-53bd-4c95-83c1-6a6b4479f8f3"
      },
      "execution_count": null,
      "outputs": [
        {
          "output_type": "stream",
          "name": "stdout",
          "text": [
            "<sos> movie awful good one movie worst really ever one worst worst movie best movies bad one worst bad worst one\n",
            "<sos> <unk> favorite movie <unk> great ive movie clawing clawing <unk> <unk> <unk> <unk> <unk> <unk> chabrols <unk> movie <unk> cortes chabrols <eos>\n",
            "<sos> <unk> best movie <unk> <unk> <unk> <unk> <unk> <unk> movie <unk> movie <unk> <unk> <unk> <unk> film <unk> ever <unk> <unk> <unk> <eos>\n",
            "<sos> <unk> worst movie ever made ever propose seen seen seenthis worst seen made seen avengers seen worst movie movie worst bad <unk> tripod\n"
          ]
        }
      ]
    },
    {
      "cell_type": "code",
      "source": [
        "lm_model = lm_model.cpu()\n",
        "lm_model.eval()\n",
        "decoded_tokens, decoded_lens = decode(lm_model, start_tokens, start_tokens_lens, max_generated_len=20, top_k=None)\n",
        "\n",
        "for text_idx in range(start_tokens.shape[1]):\n",
        "    decoded_text_tokens = decoded_tokens[:decoded_lens[text_idx], text_idx]\n",
        "    tokens = start_tokens[:start_tokens_lens[text_idx], text_idx].tolist() + decoded_text_tokens.tolist()\n",
        "    words = np.array(lm_model.vocab.get_itos())[np.array(tokens)]\n",
        "    print(' '.join(words))"
      ],
      "metadata": {
        "colab": {
          "base_uri": "https://localhost:8080/"
        },
        "id": "uAkBkDu9xJnV",
        "outputId": "332889b2-8155-46dc-ae32-cbe374510865"
      },
      "execution_count": null,
      "outputs": [
        {
          "output_type": "stream",
          "name": "stdout",
          "text": [
            "<sos> movie bad <unk> <unk> <unk> <unk> <unk> <unk> <unk> <unk> <unk> <unk> <unk> <unk> <unk> <unk> <unk> <unk> <unk> <unk>\n",
            "<sos> <unk> favorite movie <unk> <unk> <unk> <unk> <unk> <unk> <unk> <unk> <unk> <unk> <unk> <unk> <unk> <unk> <unk> <unk> <unk> <unk> <unk> <unk>\n",
            "<sos> <unk> best movie ever seen seen seen <unk> <unk> <unk> <unk> <unk> <unk> <unk> <unk> <unk> <unk> <unk> <unk> <unk> <unk> <unk> <unk>\n",
            "<sos> <unk> worst movie ever seen ever seen seen seen seen seen avengers avengers himi avengers worst worst seen movie seen <unk> himi himi\n"
          ]
        }
      ]
    },
    {
      "cell_type": "code",
      "source": [
        "lm_model = lm_model.cpu()\n",
        "lm_model.eval()\n",
        "decoded_tokens, decoded_lens = decode(lm_model, start_tokens, start_tokens_lens, max_generated_len=20, top_k=50)\n",
        "\n",
        "for text_idx in range(start_tokens.shape[1]):\n",
        "    decoded_text_tokens = decoded_tokens[:decoded_lens[text_idx], text_idx]\n",
        "    tokens = start_tokens[:start_tokens_lens[text_idx], text_idx].tolist() + decoded_text_tokens.tolist()\n",
        "    words = np.array(lm_model.vocab.get_itos())[np.array(tokens)]\n",
        "    print(' '.join(words))"
      ],
      "metadata": {
        "colab": {
          "base_uri": "https://localhost:8080/"
        },
        "id": "O0r5HfI7orl5",
        "outputId": "9481bea7-722c-464a-bc4b-e9fdd56fd7b1"
      },
      "execution_count": null,
      "outputs": [
        {
          "output_type": "stream",
          "name": "stdout",
          "text": [
            "<sos> spoilers movie based years seen one movie saw rates film came one movie may starts bin <eos>\n",
            "<sos> <unk> favorite movie made like worst low fun funny think dont understand kind <unk> cry bad think much like enjoy movie want understand\n",
            "<sos> <unk> best movie based seen movies like movies adore friday ive seen good never watch im seen historians zatoichi lists friday <eos>\n",
            "<sos> <unk> worst movie seen ive think seen ever seen seen seen gotten seen worse worst seen bad fencing didnt ever movie say seen\n"
          ]
        }
      ]
    },
    {
      "cell_type": "markdown",
      "metadata": {
        "id": "q5fpPXcct4zP"
      },
      "source": [
        "**Итог эксперимента:** как видно, жадное кодирование приводит к повтору слов, что делает предложения менее связанными по смыслу, с увеличением k предложения получаются более связанными. В следующих экспериментах будем использовать такие параметры для декодирования:\n",
        "\n",
        "* max_generated_len=20\n",
        "\n",
        "* top_k=50"
      ]
    },
    {
      "cell_type": "markdown",
      "source": [
        "### Эксперимент №2: размерность скрытого представления"
      ],
      "metadata": {
        "id": "x2H8CWTlyX83"
      }
    },
    {
      "cell_type": "markdown",
      "source": [
        "#### В данном эксперименте производем перебор параметра `hidden_size`, фигирирующего в GRU"
      ],
      "metadata": {
        "id": "R5SXazVW0Jwp"
      }
    },
    {
      "cell_type": "code",
      "source": [
        "import time\n",
        "\n",
        "lm_model = RNNLM(\n",
        "    embedding_dim=512, hidden_dim=512, vocab=lm_vocab, dropout=0.1, num_layers=2\n",
        ").to(device=device)\n",
        "\n",
        "lm_loss_fn = LMCrossEntropyLoss(reduction='sum')\n",
        "lm_optimizer = torch.optim.Adam(lm_model.parameters(), lr=0.005, weight_decay=1.2e-6)\n",
        "\n",
        "t_start = time.perf_counter()\n",
        "\n",
        "lm_train_losses, lm_train_accuracies, lm_test_losses, lm_test_accuracies = train_lm(\n",
        "    lm_train_dataloader, lm_test_dataloader, lm_model, lm_loss_fn, lm_optimizer, device, 9\n",
        ")\n",
        "\n",
        "all_time = time.perf_counter() - t_start\n",
        "print(f'working time is {all_time//60:.0f}m {all_time%60:.0f}s')"
      ],
      "metadata": {
        "colab": {
          "base_uri": "https://localhost:8080/"
        },
        "id": "2NWPpEaH4M5u",
        "outputId": "65523038-43d5-4bb6-9c4a-618620cef938"
      },
      "execution_count": null,
      "outputs": [
        {
          "output_type": "stream",
          "name": "stdout",
          "text": [
            "Epoch: 1/9. Loss (Train/Test): 7.654/7.809. Accuracy (Train/Test): 0.071/0.070\n",
            "Epoch: 2/9. Loss (Train/Test): 7.271/7.630. Accuracy (Train/Test): 0.081/0.077\n",
            "Epoch: 3/9. Loss (Train/Test): 6.932/7.567. Accuracy (Train/Test): 0.089/0.082\n",
            "Epoch: 4/9. Loss (Train/Test): 6.636/7.594. Accuracy (Train/Test): 0.095/0.083\n",
            "Epoch: 5/9. Loss (Train/Test): 6.356/7.664. Accuracy (Train/Test): 0.101/0.082\n",
            "Epoch: 6/9. Loss (Train/Test): 6.097/7.742. Accuracy (Train/Test): 0.115/0.081\n",
            "Epoch: 7/9. Loss (Train/Test): 5.883/7.849. Accuracy (Train/Test): 0.126/0.079\n",
            "Epoch: 8/9. Loss (Train/Test): 5.682/7.955. Accuracy (Train/Test): 0.141/0.079\n",
            "Epoch: 9/9. Loss (Train/Test): 5.514/8.072. Accuracy (Train/Test): 0.154/0.079\n",
            "working time is 7m 50s\n"
          ]
        }
      ]
    },
    {
      "cell_type": "code",
      "source": [
        "import time\n",
        "\n",
        "lm_model_2 = RNNLM(\n",
        "    embedding_dim=512, hidden_dim=256, vocab=lm_vocab, dropout=0.1, num_layers=2\n",
        ").to(device=device)\n",
        "\n",
        "lm_loss_fn = LMCrossEntropyLoss(reduction='sum')\n",
        "lm_optimizer = torch.optim.Adam(lm_model_2.parameters(), lr=0.005, weight_decay=1.2e-6)\n",
        "\n",
        "t_start = time.perf_counter()\n",
        "\n",
        "lm_train_losses2, lm_train_accuracies2, lm_test_losses2, lm_test_accuracies2 = train_lm(\n",
        "    lm_train_dataloader, lm_test_dataloader, lm_model_2, lm_loss_fn, lm_optimizer, device, 9\n",
        ")\n",
        "\n",
        "all_time = time.perf_counter() - t_start\n",
        "print(f'working time is {all_time//60:.0f}m {all_time%60:.0f}s')"
      ],
      "metadata": {
        "colab": {
          "base_uri": "https://localhost:8080/"
        },
        "id": "AlGP74GPBU05",
        "outputId": "1bc36f4a-403f-4c21-99fd-751149b33e89"
      },
      "execution_count": null,
      "outputs": [
        {
          "output_type": "stream",
          "name": "stdout",
          "text": [
            "Epoch: 1/9. Loss (Train/Test): 7.995/8.100. Accuracy (Train/Test): 0.050/0.049\n",
            "Epoch: 2/9. Loss (Train/Test): 7.882/8.002. Accuracy (Train/Test): 0.058/0.057\n",
            "Epoch: 3/9. Loss (Train/Test): 7.793/7.938. Accuracy (Train/Test): 0.064/0.061\n",
            "Epoch: 4/9. Loss (Train/Test): 7.688/7.862. Accuracy (Train/Test): 0.067/0.063\n",
            "Epoch: 5/9. Loss (Train/Test): 7.630/7.837. Accuracy (Train/Test): 0.068/0.064\n",
            "Epoch: 6/9. Loss (Train/Test): 7.547/7.799. Accuracy (Train/Test): 0.070/0.066\n",
            "Epoch: 7/9. Loss (Train/Test): 7.480/7.773. Accuracy (Train/Test): 0.071/0.067\n",
            "Epoch: 8/9. Loss (Train/Test): 7.429/7.767. Accuracy (Train/Test): 0.074/0.067\n",
            "Epoch: 9/9. Loss (Train/Test): 7.369/7.758. Accuracy (Train/Test): 0.075/0.068\n",
            "working time is 5m 37s\n"
          ]
        }
      ]
    },
    {
      "cell_type": "code",
      "source": [
        "import time\n",
        "\n",
        "lm_model_3 = RNNLM(\n",
        "    embedding_dim=512, hidden_dim=1024, vocab=lm_vocab, dropout=0.1, num_layers=2\n",
        ").to(device=device)\n",
        "\n",
        "lm_loss_fn = LMCrossEntropyLoss(reduction='sum')\n",
        "lm_optimizer = torch.optim.Adam(lm_model_3.parameters(), lr=0.005, weight_decay=1.2e-6)\n",
        "\n",
        "t_start = time.perf_counter()\n",
        "\n",
        "lm_train_losses3, lm_train_accuracies3, lm_test_losses3, lm_test_accuracies3 = train_lm(\n",
        "    lm_train_dataloader, lm_test_dataloader, lm_model_3, lm_loss_fn, lm_optimizer, device, 9\n",
        ")\n",
        "\n",
        "all_time = time.perf_counter() - t_start\n",
        "print(f'working time is {all_time//60:.0f}m {all_time%60:.0f}s')"
      ],
      "metadata": {
        "colab": {
          "base_uri": "https://localhost:8080/"
        },
        "id": "fa8UZjHHCZKP",
        "outputId": "6c2711b3-9800-415c-d20d-54f973fd5e07"
      },
      "execution_count": null,
      "outputs": [
        {
          "output_type": "stream",
          "name": "stdout",
          "text": [
            "Epoch: 1/9. Loss (Train/Test): 8.555/8.690. Accuracy (Train/Test): 0.047/0.046\n",
            "Epoch: 2/9. Loss (Train/Test): 8.550/8.702. Accuracy (Train/Test): 0.047/0.046\n",
            "Epoch: 3/9. Loss (Train/Test): 8.560/8.712. Accuracy (Train/Test): 0.047/0.046\n",
            "Epoch: 4/9. Loss (Train/Test): 8.516/8.630. Accuracy (Train/Test): 0.048/0.047\n",
            "Epoch: 5/9. Loss (Train/Test): 8.187/8.355. Accuracy (Train/Test): 0.060/0.059\n",
            "Epoch: 6/9. Loss (Train/Test): 8.096/8.286. Accuracy (Train/Test): 0.060/0.059\n",
            "Epoch: 7/9. Loss (Train/Test): 8.082/8.307. Accuracy (Train/Test): 0.061/0.059\n",
            "Epoch: 8/9. Loss (Train/Test): 8.034/8.284. Accuracy (Train/Test): 0.064/0.062\n",
            "Epoch: 9/9. Loss (Train/Test): 7.998/8.263. Accuracy (Train/Test): 0.065/0.064\n",
            "working time is 12m 33s\n"
          ]
        }
      ]
    },
    {
      "cell_type": "code",
      "source": [
        "import matplotlib.pyplot as plt\n",
        "\n",
        "%matplotlib inline\n",
        "\n",
        "from IPython.display import set_matplotlib_formats\n",
        "\n",
        "set_matplotlib_formats('pdf', 'svg')"
      ],
      "metadata": {
        "id": "Cfi6cPjhWupm"
      },
      "execution_count": null,
      "outputs": []
    },
    {
      "cell_type": "code",
      "source": [
        "fig, axes = plt.subplots(2, 1, figsize=(10, 10))\n",
        "\n",
        "# YOUR CODE HERE\n",
        "\n",
        "axes[0].grid(True)\n",
        "\n",
        "axes[0].plot(np.arange(len(lm_train_losses)), [i.item() for i in lm_train_losses],\n",
        "             label='512_train', linestyle='-', color='black')\n",
        "\n",
        "axes[0].plot(np.arange(len(lm_train_losses2)), [i.item() for i in lm_train_losses2],\n",
        "             label='256_train', linestyle='-', color='red')\n",
        "\n",
        "axes[0].plot(np.arange(len(lm_train_losses3)), [i.item() for i in lm_train_losses3],\n",
        "             label='1024_train', linestyle='-', color='orange')\n",
        "\n",
        "axes[0].plot(np.arange(len(lm_test_losses)), [i.item() for i in lm_test_losses],\n",
        "             label='512_test', linestyle='-', color='brown')\n",
        "\n",
        "axes[0].plot(np.arange(len(lm_test_losses2)), [i.item() for i in lm_test_losses2],\n",
        "             label='256_test', linestyle='-', color='violet')\n",
        "\n",
        "axes[0].plot(np.arange(len(lm_test_losses3)), [i.item() for i in lm_test_losses3],\n",
        "             label='1024_test', linestyle='--', color='darkblue')\n",
        "\n",
        "axes[0].legend()\n",
        "axes[0].set_xlabel('Epoch')\n",
        "axes[0].set_title('Loss')\n",
        "\n",
        "axes[1].grid(True)\n",
        "\n",
        "axes[1].plot(np.arange(len(lm_train_accuracies)), [i.item() for i in lm_train_accuracies],\n",
        "             label='512_train', linestyle='-', color='black')\n",
        "\n",
        "axes[1].plot(np.arange(len(lm_train_accuracies2)), [i.item() for i in lm_train_accuracies2],\n",
        "             label='256_train', linestyle='-', color='red')\n",
        "\n",
        "axes[1].plot(np.arange(len(lm_train_accuracies3)), [i.item() for i in lm_train_accuracies3],\n",
        "             label='1024_train', linestyle='-', color='orange')\n",
        "\n",
        "axes[1].plot(np.arange(len(lm_test_accuracies)), [i.item() for i in lm_test_accuracies],\n",
        "             label='512_test', linestyle='-', color='brown')\n",
        "\n",
        "axes[1].plot(np.arange(len(lm_test_accuracies2)), [i.item() for i in lm_test_accuracies2],\n",
        "             label='256_test', linestyle='-', color='violet')\n",
        "\n",
        "axes[1].plot(np.arange(len(lm_test_accuracies3)), [i.item() for i in lm_test_accuracies3],\n",
        "             label='1024_test', linestyle='--', color='darkblue')\n",
        "axes[1].legend()\n",
        "axes[1].set_xlabel('Epoch')\n",
        "axes[1].set_title('Accuracy')\n",
        "\n",
        "fig.tight_layout()\n",
        "plt.show()"
      ],
      "metadata": {
        "colab": {
          "base_uri": "https://localhost:8080/",
          "height": 969
        },
        "id": "THTDZxUUXKX3",
        "outputId": "f513cffb-4e47-4ce7-854d-eb0fbe3e90dc"
      },
      "execution_count": null,
      "outputs": [
        {
          "output_type": "display_data",
          "data": {
            "text/plain": [
              "<Figure size 720x720 with 2 Axes>"
            ],
            "image/svg+xml": "<?xml version=\"1.0\" encoding=\"utf-8\" standalone=\"no\"?>\n<!DOCTYPE svg PUBLIC \"-//W3C//DTD SVG 1.1//EN\"\n  \"http://www.w3.org/Graphics/SVG/1.1/DTD/svg11.dtd\">\n<!-- Created with matplotlib (https://matplotlib.org/) -->\n<svg height=\"711.274375pt\" version=\"1.1\" viewBox=\"0 0 712.815625 711.274375\" width=\"712.815625pt\" xmlns=\"http://www.w3.org/2000/svg\" xmlns:xlink=\"http://www.w3.org/1999/xlink\">\n <defs>\n  <style type=\"text/css\">\n*{stroke-linecap:butt;stroke-linejoin:round;}\n  </style>\n </defs>\n <g id=\"figure_1\">\n  <g id=\"patch_1\">\n   <path d=\"M 0 711.274375 \nL 712.815625 711.274375 \nL 712.815625 0 \nL 0 0 \nz\n\" style=\"fill:none;\"/>\n  </g>\n  <g id=\"axes_1\">\n   <g id=\"patch_2\">\n    <path d=\"M 36.465625 319.118125 \nL 705.615625 319.118125 \nL 705.615625 22.318125 \nL 36.465625 22.318125 \nz\n\" style=\"fill:#ffffff;\"/>\n   </g>\n   <g id=\"matplotlib.axis_1\">\n    <g id=\"xtick_1\">\n     <g id=\"line2d_1\">\n      <path clip-path=\"url(#p3b0c916300)\" d=\"M 66.881534 319.118125 \nL 66.881534 22.318125 \n\" style=\"fill:none;stroke:#b0b0b0;stroke-linecap:square;stroke-width:0.8;\"/>\n     </g>\n     <g id=\"line2d_2\">\n      <defs>\n       <path d=\"M 0 0 \nL 0 3.5 \n\" id=\"m8a5ffcdac7\" style=\"stroke:#000000;stroke-width:0.8;\"/>\n      </defs>\n      <g>\n       <use style=\"stroke:#000000;stroke-width:0.8;\" x=\"66.881534\" xlink:href=\"#m8a5ffcdac7\" y=\"319.118125\"/>\n      </g>\n     </g>\n     <g id=\"text_1\">\n      <!-- 0 -->\n      <defs>\n       <path d=\"M 31.78125 66.40625 \nQ 24.171875 66.40625 20.328125 58.90625 \nQ 16.5 51.421875 16.5 36.375 \nQ 16.5 21.390625 20.328125 13.890625 \nQ 24.171875 6.390625 31.78125 6.390625 \nQ 39.453125 6.390625 43.28125 13.890625 \nQ 47.125 21.390625 47.125 36.375 \nQ 47.125 51.421875 43.28125 58.90625 \nQ 39.453125 66.40625 31.78125 66.40625 \nz\nM 31.78125 74.21875 \nQ 44.046875 74.21875 50.515625 64.515625 \nQ 56.984375 54.828125 56.984375 36.375 \nQ 56.984375 17.96875 50.515625 8.265625 \nQ 44.046875 -1.421875 31.78125 -1.421875 \nQ 19.53125 -1.421875 13.0625 8.265625 \nQ 6.59375 17.96875 6.59375 36.375 \nQ 6.59375 54.828125 13.0625 64.515625 \nQ 19.53125 74.21875 31.78125 74.21875 \nz\n\" id=\"DejaVuSans-48\"/>\n      </defs>\n      <g transform=\"translate(63.700284 333.716562)scale(0.1 -0.1)\">\n       <use xlink:href=\"#DejaVuSans-48\"/>\n      </g>\n     </g>\n    </g>\n    <g id=\"xtick_2\">\n     <g id=\"line2d_3\">\n      <path clip-path=\"url(#p3b0c916300)\" d=\"M 142.921307 319.118125 \nL 142.921307 22.318125 \n\" style=\"fill:none;stroke:#b0b0b0;stroke-linecap:square;stroke-width:0.8;\"/>\n     </g>\n     <g id=\"line2d_4\">\n      <g>\n       <use style=\"stroke:#000000;stroke-width:0.8;\" x=\"142.921307\" xlink:href=\"#m8a5ffcdac7\" y=\"319.118125\"/>\n      </g>\n     </g>\n     <g id=\"text_2\">\n      <!-- 1 -->\n      <defs>\n       <path d=\"M 12.40625 8.296875 \nL 28.515625 8.296875 \nL 28.515625 63.921875 \nL 10.984375 60.40625 \nL 10.984375 69.390625 \nL 28.421875 72.90625 \nL 38.28125 72.90625 \nL 38.28125 8.296875 \nL 54.390625 8.296875 \nL 54.390625 0 \nL 12.40625 0 \nz\n\" id=\"DejaVuSans-49\"/>\n      </defs>\n      <g transform=\"translate(139.740057 333.716562)scale(0.1 -0.1)\">\n       <use xlink:href=\"#DejaVuSans-49\"/>\n      </g>\n     </g>\n    </g>\n    <g id=\"xtick_3\">\n     <g id=\"line2d_5\">\n      <path clip-path=\"url(#p3b0c916300)\" d=\"M 218.96108 319.118125 \nL 218.96108 22.318125 \n\" style=\"fill:none;stroke:#b0b0b0;stroke-linecap:square;stroke-width:0.8;\"/>\n     </g>\n     <g id=\"line2d_6\">\n      <g>\n       <use style=\"stroke:#000000;stroke-width:0.8;\" x=\"218.96108\" xlink:href=\"#m8a5ffcdac7\" y=\"319.118125\"/>\n      </g>\n     </g>\n     <g id=\"text_3\">\n      <!-- 2 -->\n      <defs>\n       <path d=\"M 19.1875 8.296875 \nL 53.609375 8.296875 \nL 53.609375 0 \nL 7.328125 0 \nL 7.328125 8.296875 \nQ 12.9375 14.109375 22.625 23.890625 \nQ 32.328125 33.6875 34.8125 36.53125 \nQ 39.546875 41.84375 41.421875 45.53125 \nQ 43.3125 49.21875 43.3125 52.78125 \nQ 43.3125 58.59375 39.234375 62.25 \nQ 35.15625 65.921875 28.609375 65.921875 \nQ 23.96875 65.921875 18.8125 64.3125 \nQ 13.671875 62.703125 7.8125 59.421875 \nL 7.8125 69.390625 \nQ 13.765625 71.78125 18.9375 73 \nQ 24.125 74.21875 28.421875 74.21875 \nQ 39.75 74.21875 46.484375 68.546875 \nQ 53.21875 62.890625 53.21875 53.421875 \nQ 53.21875 48.921875 51.53125 44.890625 \nQ 49.859375 40.875 45.40625 35.40625 \nQ 44.1875 33.984375 37.640625 27.21875 \nQ 31.109375 20.453125 19.1875 8.296875 \nz\n\" id=\"DejaVuSans-50\"/>\n      </defs>\n      <g transform=\"translate(215.77983 333.716562)scale(0.1 -0.1)\">\n       <use xlink:href=\"#DejaVuSans-50\"/>\n      </g>\n     </g>\n    </g>\n    <g id=\"xtick_4\">\n     <g id=\"line2d_7\">\n      <path clip-path=\"url(#p3b0c916300)\" d=\"M 295.000852 319.118125 \nL 295.000852 22.318125 \n\" style=\"fill:none;stroke:#b0b0b0;stroke-linecap:square;stroke-width:0.8;\"/>\n     </g>\n     <g id=\"line2d_8\">\n      <g>\n       <use style=\"stroke:#000000;stroke-width:0.8;\" x=\"295.000852\" xlink:href=\"#m8a5ffcdac7\" y=\"319.118125\"/>\n      </g>\n     </g>\n     <g id=\"text_4\">\n      <!-- 3 -->\n      <defs>\n       <path d=\"M 40.578125 39.3125 \nQ 47.65625 37.796875 51.625 33 \nQ 55.609375 28.21875 55.609375 21.1875 \nQ 55.609375 10.40625 48.1875 4.484375 \nQ 40.765625 -1.421875 27.09375 -1.421875 \nQ 22.515625 -1.421875 17.65625 -0.515625 \nQ 12.796875 0.390625 7.625 2.203125 \nL 7.625 11.71875 \nQ 11.71875 9.328125 16.59375 8.109375 \nQ 21.484375 6.890625 26.8125 6.890625 \nQ 36.078125 6.890625 40.9375 10.546875 \nQ 45.796875 14.203125 45.796875 21.1875 \nQ 45.796875 27.640625 41.28125 31.265625 \nQ 36.765625 34.90625 28.71875 34.90625 \nL 20.21875 34.90625 \nL 20.21875 43.015625 \nL 29.109375 43.015625 \nQ 36.375 43.015625 40.234375 45.921875 \nQ 44.09375 48.828125 44.09375 54.296875 \nQ 44.09375 59.90625 40.109375 62.90625 \nQ 36.140625 65.921875 28.71875 65.921875 \nQ 24.65625 65.921875 20.015625 65.03125 \nQ 15.375 64.15625 9.8125 62.3125 \nL 9.8125 71.09375 \nQ 15.4375 72.65625 20.34375 73.4375 \nQ 25.25 74.21875 29.59375 74.21875 \nQ 40.828125 74.21875 47.359375 69.109375 \nQ 53.90625 64.015625 53.90625 55.328125 \nQ 53.90625 49.265625 50.4375 45.09375 \nQ 46.96875 40.921875 40.578125 39.3125 \nz\n\" id=\"DejaVuSans-51\"/>\n      </defs>\n      <g transform=\"translate(291.819602 333.716562)scale(0.1 -0.1)\">\n       <use xlink:href=\"#DejaVuSans-51\"/>\n      </g>\n     </g>\n    </g>\n    <g id=\"xtick_5\">\n     <g id=\"line2d_9\">\n      <path clip-path=\"url(#p3b0c916300)\" d=\"M 371.040625 319.118125 \nL 371.040625 22.318125 \n\" style=\"fill:none;stroke:#b0b0b0;stroke-linecap:square;stroke-width:0.8;\"/>\n     </g>\n     <g id=\"line2d_10\">\n      <g>\n       <use style=\"stroke:#000000;stroke-width:0.8;\" x=\"371.040625\" xlink:href=\"#m8a5ffcdac7\" y=\"319.118125\"/>\n      </g>\n     </g>\n     <g id=\"text_5\">\n      <!-- 4 -->\n      <defs>\n       <path d=\"M 37.796875 64.3125 \nL 12.890625 25.390625 \nL 37.796875 25.390625 \nz\nM 35.203125 72.90625 \nL 47.609375 72.90625 \nL 47.609375 25.390625 \nL 58.015625 25.390625 \nL 58.015625 17.1875 \nL 47.609375 17.1875 \nL 47.609375 0 \nL 37.796875 0 \nL 37.796875 17.1875 \nL 4.890625 17.1875 \nL 4.890625 26.703125 \nz\n\" id=\"DejaVuSans-52\"/>\n      </defs>\n      <g transform=\"translate(367.859375 333.716562)scale(0.1 -0.1)\">\n       <use xlink:href=\"#DejaVuSans-52\"/>\n      </g>\n     </g>\n    </g>\n    <g id=\"xtick_6\">\n     <g id=\"line2d_11\">\n      <path clip-path=\"url(#p3b0c916300)\" d=\"M 447.080398 319.118125 \nL 447.080398 22.318125 \n\" style=\"fill:none;stroke:#b0b0b0;stroke-linecap:square;stroke-width:0.8;\"/>\n     </g>\n     <g id=\"line2d_12\">\n      <g>\n       <use style=\"stroke:#000000;stroke-width:0.8;\" x=\"447.080398\" xlink:href=\"#m8a5ffcdac7\" y=\"319.118125\"/>\n      </g>\n     </g>\n     <g id=\"text_6\">\n      <!-- 5 -->\n      <defs>\n       <path d=\"M 10.796875 72.90625 \nL 49.515625 72.90625 \nL 49.515625 64.59375 \nL 19.828125 64.59375 \nL 19.828125 46.734375 \nQ 21.96875 47.46875 24.109375 47.828125 \nQ 26.265625 48.1875 28.421875 48.1875 \nQ 40.625 48.1875 47.75 41.5 \nQ 54.890625 34.8125 54.890625 23.390625 \nQ 54.890625 11.625 47.5625 5.09375 \nQ 40.234375 -1.421875 26.90625 -1.421875 \nQ 22.3125 -1.421875 17.546875 -0.640625 \nQ 12.796875 0.140625 7.71875 1.703125 \nL 7.71875 11.625 \nQ 12.109375 9.234375 16.796875 8.0625 \nQ 21.484375 6.890625 26.703125 6.890625 \nQ 35.15625 6.890625 40.078125 11.328125 \nQ 45.015625 15.765625 45.015625 23.390625 \nQ 45.015625 31 40.078125 35.4375 \nQ 35.15625 39.890625 26.703125 39.890625 \nQ 22.75 39.890625 18.8125 39.015625 \nQ 14.890625 38.140625 10.796875 36.28125 \nz\n\" id=\"DejaVuSans-53\"/>\n      </defs>\n      <g transform=\"translate(443.899148 333.716562)scale(0.1 -0.1)\">\n       <use xlink:href=\"#DejaVuSans-53\"/>\n      </g>\n     </g>\n    </g>\n    <g id=\"xtick_7\">\n     <g id=\"line2d_13\">\n      <path clip-path=\"url(#p3b0c916300)\" d=\"M 523.12017 319.118125 \nL 523.12017 22.318125 \n\" style=\"fill:none;stroke:#b0b0b0;stroke-linecap:square;stroke-width:0.8;\"/>\n     </g>\n     <g id=\"line2d_14\">\n      <g>\n       <use style=\"stroke:#000000;stroke-width:0.8;\" x=\"523.12017\" xlink:href=\"#m8a5ffcdac7\" y=\"319.118125\"/>\n      </g>\n     </g>\n     <g id=\"text_7\">\n      <!-- 6 -->\n      <defs>\n       <path d=\"M 33.015625 40.375 \nQ 26.375 40.375 22.484375 35.828125 \nQ 18.609375 31.296875 18.609375 23.390625 \nQ 18.609375 15.53125 22.484375 10.953125 \nQ 26.375 6.390625 33.015625 6.390625 \nQ 39.65625 6.390625 43.53125 10.953125 \nQ 47.40625 15.53125 47.40625 23.390625 \nQ 47.40625 31.296875 43.53125 35.828125 \nQ 39.65625 40.375 33.015625 40.375 \nz\nM 52.59375 71.296875 \nL 52.59375 62.3125 \nQ 48.875 64.0625 45.09375 64.984375 \nQ 41.3125 65.921875 37.59375 65.921875 \nQ 27.828125 65.921875 22.671875 59.328125 \nQ 17.53125 52.734375 16.796875 39.40625 \nQ 19.671875 43.65625 24.015625 45.921875 \nQ 28.375 48.1875 33.59375 48.1875 \nQ 44.578125 48.1875 50.953125 41.515625 \nQ 57.328125 34.859375 57.328125 23.390625 \nQ 57.328125 12.15625 50.6875 5.359375 \nQ 44.046875 -1.421875 33.015625 -1.421875 \nQ 20.359375 -1.421875 13.671875 8.265625 \nQ 6.984375 17.96875 6.984375 36.375 \nQ 6.984375 53.65625 15.1875 63.9375 \nQ 23.390625 74.21875 37.203125 74.21875 \nQ 40.921875 74.21875 44.703125 73.484375 \nQ 48.484375 72.75 52.59375 71.296875 \nz\n\" id=\"DejaVuSans-54\"/>\n      </defs>\n      <g transform=\"translate(519.93892 333.716562)scale(0.1 -0.1)\">\n       <use xlink:href=\"#DejaVuSans-54\"/>\n      </g>\n     </g>\n    </g>\n    <g id=\"xtick_8\">\n     <g id=\"line2d_15\">\n      <path clip-path=\"url(#p3b0c916300)\" d=\"M 599.159943 319.118125 \nL 599.159943 22.318125 \n\" style=\"fill:none;stroke:#b0b0b0;stroke-linecap:square;stroke-width:0.8;\"/>\n     </g>\n     <g id=\"line2d_16\">\n      <g>\n       <use style=\"stroke:#000000;stroke-width:0.8;\" x=\"599.159943\" xlink:href=\"#m8a5ffcdac7\" y=\"319.118125\"/>\n      </g>\n     </g>\n     <g id=\"text_8\">\n      <!-- 7 -->\n      <defs>\n       <path d=\"M 8.203125 72.90625 \nL 55.078125 72.90625 \nL 55.078125 68.703125 \nL 28.609375 0 \nL 18.3125 0 \nL 43.21875 64.59375 \nL 8.203125 64.59375 \nz\n\" id=\"DejaVuSans-55\"/>\n      </defs>\n      <g transform=\"translate(595.978693 333.716562)scale(0.1 -0.1)\">\n       <use xlink:href=\"#DejaVuSans-55\"/>\n      </g>\n     </g>\n    </g>\n    <g id=\"xtick_9\">\n     <g id=\"line2d_17\">\n      <path clip-path=\"url(#p3b0c916300)\" d=\"M 675.199716 319.118125 \nL 675.199716 22.318125 \n\" style=\"fill:none;stroke:#b0b0b0;stroke-linecap:square;stroke-width:0.8;\"/>\n     </g>\n     <g id=\"line2d_18\">\n      <g>\n       <use style=\"stroke:#000000;stroke-width:0.8;\" x=\"675.199716\" xlink:href=\"#m8a5ffcdac7\" y=\"319.118125\"/>\n      </g>\n     </g>\n     <g id=\"text_9\">\n      <!-- 8 -->\n      <defs>\n       <path d=\"M 31.78125 34.625 \nQ 24.75 34.625 20.71875 30.859375 \nQ 16.703125 27.09375 16.703125 20.515625 \nQ 16.703125 13.921875 20.71875 10.15625 \nQ 24.75 6.390625 31.78125 6.390625 \nQ 38.8125 6.390625 42.859375 10.171875 \nQ 46.921875 13.96875 46.921875 20.515625 \nQ 46.921875 27.09375 42.890625 30.859375 \nQ 38.875 34.625 31.78125 34.625 \nz\nM 21.921875 38.8125 \nQ 15.578125 40.375 12.03125 44.71875 \nQ 8.5 49.078125 8.5 55.328125 \nQ 8.5 64.0625 14.71875 69.140625 \nQ 20.953125 74.21875 31.78125 74.21875 \nQ 42.671875 74.21875 48.875 69.140625 \nQ 55.078125 64.0625 55.078125 55.328125 \nQ 55.078125 49.078125 51.53125 44.71875 \nQ 48 40.375 41.703125 38.8125 \nQ 48.828125 37.15625 52.796875 32.3125 \nQ 56.78125 27.484375 56.78125 20.515625 \nQ 56.78125 9.90625 50.3125 4.234375 \nQ 43.84375 -1.421875 31.78125 -1.421875 \nQ 19.734375 -1.421875 13.25 4.234375 \nQ 6.78125 9.90625 6.78125 20.515625 \nQ 6.78125 27.484375 10.78125 32.3125 \nQ 14.796875 37.15625 21.921875 38.8125 \nz\nM 18.3125 54.390625 \nQ 18.3125 48.734375 21.84375 45.5625 \nQ 25.390625 42.390625 31.78125 42.390625 \nQ 38.140625 42.390625 41.71875 45.5625 \nQ 45.3125 48.734375 45.3125 54.390625 \nQ 45.3125 60.0625 41.71875 63.234375 \nQ 38.140625 66.40625 31.78125 66.40625 \nQ 25.390625 66.40625 21.84375 63.234375 \nQ 18.3125 60.0625 18.3125 54.390625 \nz\n\" id=\"DejaVuSans-56\"/>\n      </defs>\n      <g transform=\"translate(672.018466 333.716562)scale(0.1 -0.1)\">\n       <use xlink:href=\"#DejaVuSans-56\"/>\n      </g>\n     </g>\n    </g>\n    <g id=\"text_10\">\n     <!-- Epoch -->\n     <defs>\n      <path d=\"M 9.8125 72.90625 \nL 55.90625 72.90625 \nL 55.90625 64.59375 \nL 19.671875 64.59375 \nL 19.671875 43.015625 \nL 54.390625 43.015625 \nL 54.390625 34.71875 \nL 19.671875 34.71875 \nL 19.671875 8.296875 \nL 56.78125 8.296875 \nL 56.78125 0 \nL 9.8125 0 \nz\n\" id=\"DejaVuSans-69\"/>\n      <path d=\"M 18.109375 8.203125 \nL 18.109375 -20.796875 \nL 9.078125 -20.796875 \nL 9.078125 54.6875 \nL 18.109375 54.6875 \nL 18.109375 46.390625 \nQ 20.953125 51.265625 25.265625 53.625 \nQ 29.59375 56 35.59375 56 \nQ 45.5625 56 51.78125 48.09375 \nQ 58.015625 40.1875 58.015625 27.296875 \nQ 58.015625 14.40625 51.78125 6.484375 \nQ 45.5625 -1.421875 35.59375 -1.421875 \nQ 29.59375 -1.421875 25.265625 0.953125 \nQ 20.953125 3.328125 18.109375 8.203125 \nz\nM 48.6875 27.296875 \nQ 48.6875 37.203125 44.609375 42.84375 \nQ 40.53125 48.484375 33.40625 48.484375 \nQ 26.265625 48.484375 22.1875 42.84375 \nQ 18.109375 37.203125 18.109375 27.296875 \nQ 18.109375 17.390625 22.1875 11.75 \nQ 26.265625 6.109375 33.40625 6.109375 \nQ 40.53125 6.109375 44.609375 11.75 \nQ 48.6875 17.390625 48.6875 27.296875 \nz\n\" id=\"DejaVuSans-112\"/>\n      <path d=\"M 30.609375 48.390625 \nQ 23.390625 48.390625 19.1875 42.75 \nQ 14.984375 37.109375 14.984375 27.296875 \nQ 14.984375 17.484375 19.15625 11.84375 \nQ 23.34375 6.203125 30.609375 6.203125 \nQ 37.796875 6.203125 41.984375 11.859375 \nQ 46.1875 17.53125 46.1875 27.296875 \nQ 46.1875 37.015625 41.984375 42.703125 \nQ 37.796875 48.390625 30.609375 48.390625 \nz\nM 30.609375 56 \nQ 42.328125 56 49.015625 48.375 \nQ 55.71875 40.765625 55.71875 27.296875 \nQ 55.71875 13.875 49.015625 6.21875 \nQ 42.328125 -1.421875 30.609375 -1.421875 \nQ 18.84375 -1.421875 12.171875 6.21875 \nQ 5.515625 13.875 5.515625 27.296875 \nQ 5.515625 40.765625 12.171875 48.375 \nQ 18.84375 56 30.609375 56 \nz\n\" id=\"DejaVuSans-111\"/>\n      <path d=\"M 48.78125 52.59375 \nL 48.78125 44.1875 \nQ 44.96875 46.296875 41.140625 47.34375 \nQ 37.3125 48.390625 33.40625 48.390625 \nQ 24.65625 48.390625 19.8125 42.84375 \nQ 14.984375 37.3125 14.984375 27.296875 \nQ 14.984375 17.28125 19.8125 11.734375 \nQ 24.65625 6.203125 33.40625 6.203125 \nQ 37.3125 6.203125 41.140625 7.25 \nQ 44.96875 8.296875 48.78125 10.40625 \nL 48.78125 2.09375 \nQ 45.015625 0.34375 40.984375 -0.53125 \nQ 36.96875 -1.421875 32.421875 -1.421875 \nQ 20.0625 -1.421875 12.78125 6.34375 \nQ 5.515625 14.109375 5.515625 27.296875 \nQ 5.515625 40.671875 12.859375 48.328125 \nQ 20.21875 56 33.015625 56 \nQ 37.15625 56 41.109375 55.140625 \nQ 45.0625 54.296875 48.78125 52.59375 \nz\n\" id=\"DejaVuSans-99\"/>\n      <path d=\"M 54.890625 33.015625 \nL 54.890625 0 \nL 45.90625 0 \nL 45.90625 32.71875 \nQ 45.90625 40.484375 42.875 44.328125 \nQ 39.84375 48.1875 33.796875 48.1875 \nQ 26.515625 48.1875 22.3125 43.546875 \nQ 18.109375 38.921875 18.109375 30.90625 \nL 18.109375 0 \nL 9.078125 0 \nL 9.078125 75.984375 \nL 18.109375 75.984375 \nL 18.109375 46.1875 \nQ 21.34375 51.125 25.703125 53.5625 \nQ 30.078125 56 35.796875 56 \nQ 45.21875 56 50.046875 50.171875 \nQ 54.890625 44.34375 54.890625 33.015625 \nz\n\" id=\"DejaVuSans-104\"/>\n     </defs>\n     <g transform=\"translate(355.729687 347.394687)scale(0.1 -0.1)\">\n      <use xlink:href=\"#DejaVuSans-69\"/>\n      <use x=\"63.183594\" xlink:href=\"#DejaVuSans-112\"/>\n      <use x=\"126.660156\" xlink:href=\"#DejaVuSans-111\"/>\n      <use x=\"187.841797\" xlink:href=\"#DejaVuSans-99\"/>\n      <use x=\"242.822266\" xlink:href=\"#DejaVuSans-104\"/>\n     </g>\n    </g>\n   </g>\n   <g id=\"matplotlib.axis_2\">\n    <g id=\"ytick_1\">\n     <g id=\"line2d_19\">\n      <path clip-path=\"url(#p3b0c916300)\" d=\"M 36.465625 306.844728 \nL 705.615625 306.844728 \n\" style=\"fill:none;stroke:#b0b0b0;stroke-linecap:square;stroke-width:0.8;\"/>\n     </g>\n     <g id=\"line2d_20\">\n      <defs>\n       <path d=\"M 0 0 \nL -3.5 0 \n\" id=\"m95ba3bea1c\" style=\"stroke:#000000;stroke-width:0.8;\"/>\n      </defs>\n      <g>\n       <use style=\"stroke:#000000;stroke-width:0.8;\" x=\"36.465625\" xlink:href=\"#m95ba3bea1c\" y=\"306.844728\"/>\n      </g>\n     </g>\n     <g id=\"text_11\">\n      <!-- 5.5 -->\n      <defs>\n       <path d=\"M 10.6875 12.40625 \nL 21 12.40625 \nL 21 0 \nL 10.6875 0 \nz\n\" id=\"DejaVuSans-46\"/>\n      </defs>\n      <g transform=\"translate(13.5625 310.643946)scale(0.1 -0.1)\">\n       <use xlink:href=\"#DejaVuSans-53\"/>\n       <use x=\"63.623047\" xlink:href=\"#DejaVuSans-46\"/>\n       <use x=\"95.410156\" xlink:href=\"#DejaVuSans-53\"/>\n      </g>\n     </g>\n    </g>\n    <g id=\"ytick_2\">\n     <g id=\"line2d_21\">\n      <path clip-path=\"url(#p3b0c916300)\" d=\"M 36.465625 264.658037 \nL 705.615625 264.658037 \n\" style=\"fill:none;stroke:#b0b0b0;stroke-linecap:square;stroke-width:0.8;\"/>\n     </g>\n     <g id=\"line2d_22\">\n      <g>\n       <use style=\"stroke:#000000;stroke-width:0.8;\" x=\"36.465625\" xlink:href=\"#m95ba3bea1c\" y=\"264.658037\"/>\n      </g>\n     </g>\n     <g id=\"text_12\">\n      <!-- 6.0 -->\n      <g transform=\"translate(13.5625 268.457256)scale(0.1 -0.1)\">\n       <use xlink:href=\"#DejaVuSans-54\"/>\n       <use x=\"63.623047\" xlink:href=\"#DejaVuSans-46\"/>\n       <use x=\"95.410156\" xlink:href=\"#DejaVuSans-48\"/>\n      </g>\n     </g>\n    </g>\n    <g id=\"ytick_3\">\n     <g id=\"line2d_23\">\n      <path clip-path=\"url(#p3b0c916300)\" d=\"M 36.465625 222.471347 \nL 705.615625 222.471347 \n\" style=\"fill:none;stroke:#b0b0b0;stroke-linecap:square;stroke-width:0.8;\"/>\n     </g>\n     <g id=\"line2d_24\">\n      <g>\n       <use style=\"stroke:#000000;stroke-width:0.8;\" x=\"36.465625\" xlink:href=\"#m95ba3bea1c\" y=\"222.471347\"/>\n      </g>\n     </g>\n     <g id=\"text_13\">\n      <!-- 6.5 -->\n      <g transform=\"translate(13.5625 226.270566)scale(0.1 -0.1)\">\n       <use xlink:href=\"#DejaVuSans-54\"/>\n       <use x=\"63.623047\" xlink:href=\"#DejaVuSans-46\"/>\n       <use x=\"95.410156\" xlink:href=\"#DejaVuSans-53\"/>\n      </g>\n     </g>\n    </g>\n    <g id=\"ytick_4\">\n     <g id=\"line2d_25\">\n      <path clip-path=\"url(#p3b0c916300)\" d=\"M 36.465625 180.284657 \nL 705.615625 180.284657 \n\" style=\"fill:none;stroke:#b0b0b0;stroke-linecap:square;stroke-width:0.8;\"/>\n     </g>\n     <g id=\"line2d_26\">\n      <g>\n       <use style=\"stroke:#000000;stroke-width:0.8;\" x=\"36.465625\" xlink:href=\"#m95ba3bea1c\" y=\"180.284657\"/>\n      </g>\n     </g>\n     <g id=\"text_14\">\n      <!-- 7.0 -->\n      <g transform=\"translate(13.5625 184.083875)scale(0.1 -0.1)\">\n       <use xlink:href=\"#DejaVuSans-55\"/>\n       <use x=\"63.623047\" xlink:href=\"#DejaVuSans-46\"/>\n       <use x=\"95.410156\" xlink:href=\"#DejaVuSans-48\"/>\n      </g>\n     </g>\n    </g>\n    <g id=\"ytick_5\">\n     <g id=\"line2d_27\">\n      <path clip-path=\"url(#p3b0c916300)\" d=\"M 36.465625 138.097966 \nL 705.615625 138.097966 \n\" style=\"fill:none;stroke:#b0b0b0;stroke-linecap:square;stroke-width:0.8;\"/>\n     </g>\n     <g id=\"line2d_28\">\n      <g>\n       <use style=\"stroke:#000000;stroke-width:0.8;\" x=\"36.465625\" xlink:href=\"#m95ba3bea1c\" y=\"138.097966\"/>\n      </g>\n     </g>\n     <g id=\"text_15\">\n      <!-- 7.5 -->\n      <g transform=\"translate(13.5625 141.897185)scale(0.1 -0.1)\">\n       <use xlink:href=\"#DejaVuSans-55\"/>\n       <use x=\"63.623047\" xlink:href=\"#DejaVuSans-46\"/>\n       <use x=\"95.410156\" xlink:href=\"#DejaVuSans-53\"/>\n      </g>\n     </g>\n    </g>\n    <g id=\"ytick_6\">\n     <g id=\"line2d_29\">\n      <path clip-path=\"url(#p3b0c916300)\" d=\"M 36.465625 95.911276 \nL 705.615625 95.911276 \n\" style=\"fill:none;stroke:#b0b0b0;stroke-linecap:square;stroke-width:0.8;\"/>\n     </g>\n     <g id=\"line2d_30\">\n      <g>\n       <use style=\"stroke:#000000;stroke-width:0.8;\" x=\"36.465625\" xlink:href=\"#m95ba3bea1c\" y=\"95.911276\"/>\n      </g>\n     </g>\n     <g id=\"text_16\">\n      <!-- 8.0 -->\n      <g transform=\"translate(13.5625 99.710495)scale(0.1 -0.1)\">\n       <use xlink:href=\"#DejaVuSans-56\"/>\n       <use x=\"63.623047\" xlink:href=\"#DejaVuSans-46\"/>\n       <use x=\"95.410156\" xlink:href=\"#DejaVuSans-48\"/>\n      </g>\n     </g>\n    </g>\n    <g id=\"ytick_7\">\n     <g id=\"line2d_31\">\n      <path clip-path=\"url(#p3b0c916300)\" d=\"M 36.465625 53.724586 \nL 705.615625 53.724586 \n\" style=\"fill:none;stroke:#b0b0b0;stroke-linecap:square;stroke-width:0.8;\"/>\n     </g>\n     <g id=\"line2d_32\">\n      <g>\n       <use style=\"stroke:#000000;stroke-width:0.8;\" x=\"36.465625\" xlink:href=\"#m95ba3bea1c\" y=\"53.724586\"/>\n      </g>\n     </g>\n     <g id=\"text_17\">\n      <!-- 8.5 -->\n      <g transform=\"translate(13.5625 57.523805)scale(0.1 -0.1)\">\n       <use xlink:href=\"#DejaVuSans-56\"/>\n       <use x=\"63.623047\" xlink:href=\"#DejaVuSans-46\"/>\n       <use x=\"95.410156\" xlink:href=\"#DejaVuSans-53\"/>\n      </g>\n     </g>\n    </g>\n   </g>\n   <g id=\"line2d_33\">\n    <path clip-path=\"url(#p3b0c916300)\" d=\"M 66.881534 125.137553 \nL 142.921307 157.449009 \nL 218.96108 185.988882 \nL 295.000852 210.98203 \nL 371.040625 234.597059 \nL 447.080398 256.434341 \nL 523.12017 274.542525 \nL 599.159943 291.527664 \nL 675.199716 305.627216 \n\" style=\"fill:none;stroke:#000000;stroke-linecap:square;stroke-width:1.5;\"/>\n   </g>\n   <g id=\"line2d_34\">\n    <path clip-path=\"url(#p3b0c916300)\" d=\"M 66.881534 96.302214 \nL 142.921307 105.854544 \nL 218.96108 113.351603 \nL 295.000852 122.245007 \nL 371.040625 127.147361 \nL 447.080398 134.148677 \nL 523.12017 139.815969 \nL 599.159943 144.103532 \nL 675.199716 149.113064 \n\" style=\"fill:none;stroke:#ff0000;stroke-linecap:square;stroke-width:1.5;\"/>\n   </g>\n   <g id=\"line2d_35\">\n    <path clip-path=\"url(#p3b0c916300)\" d=\"M 66.881534 49.061735 \nL 142.921307 49.507751 \nL 218.96108 48.635353 \nL 295.000852 52.404321 \nL 371.040625 80.110418 \nL 447.080398 87.776051 \nL 523.12017 88.961779 \nL 599.159943 93.050031 \nL 675.199716 96.110225 \n\" style=\"fill:none;stroke:#ffa500;stroke-linecap:square;stroke-width:1.5;\"/>\n   </g>\n   <g id=\"line2d_36\">\n    <path clip-path=\"url(#p3b0c916300)\" d=\"M 66.881534 112.049644 \nL 142.921307 127.108979 \nL 218.96108 132.448095 \nL 295.000852 130.161891 \nL 371.040625 124.300841 \nL 447.080398 117.703779 \nL 523.12017 108.678856 \nL 599.159943 99.721321 \nL 675.199716 89.866203 \n\" style=\"fill:none;stroke:#a52a2a;stroke-linecap:square;stroke-width:1.5;\"/>\n   </g>\n   <g id=\"line2d_37\">\n    <path clip-path=\"url(#p3b0c916300)\" d=\"M 66.881534 87.436892 \nL 142.921307 95.755899 \nL 218.96108 101.182681 \nL 295.000852 107.52129 \nL 371.040625 109.652801 \nL 447.080398 112.882212 \nL 523.12017 115.028046 \nL 599.159943 115.555733 \nL 675.199716 116.336845 \n\" style=\"fill:none;stroke:#ee82ee;stroke-linecap:square;stroke-width:1.5;\"/>\n   </g>\n   <g id=\"line2d_38\">\n    <path clip-path=\"url(#p3b0c916300)\" d=\"M 66.881534 37.676218 \nL 142.921307 36.652868 \nL 218.96108 35.809034 \nL 295.000852 42.783153 \nL 371.040625 65.948385 \nL 447.080398 71.768076 \nL 523.12017 70.040096 \nL 599.159943 71.936409 \nL 675.199716 73.762717 \n\" style=\"fill:none;stroke:#00008b;stroke-dasharray:5.55,2.4;stroke-dashoffset:0;stroke-width:1.5;\"/>\n   </g>\n   <g id=\"patch_3\">\n    <path d=\"M 36.465625 319.118125 \nL 36.465625 22.318125 \n\" style=\"fill:none;stroke:#000000;stroke-linecap:square;stroke-linejoin:miter;stroke-width:0.8;\"/>\n   </g>\n   <g id=\"patch_4\">\n    <path d=\"M 705.615625 319.118125 \nL 705.615625 22.318125 \n\" style=\"fill:none;stroke:#000000;stroke-linecap:square;stroke-linejoin:miter;stroke-width:0.8;\"/>\n   </g>\n   <g id=\"patch_5\">\n    <path d=\"M 36.465625 319.118125 \nL 705.615625 319.118125 \n\" style=\"fill:none;stroke:#000000;stroke-linecap:square;stroke-linejoin:miter;stroke-width:0.8;\"/>\n   </g>\n   <g id=\"patch_6\">\n    <path d=\"M 36.465625 22.318125 \nL 705.615625 22.318125 \n\" style=\"fill:none;stroke:#000000;stroke-linecap:square;stroke-linejoin:miter;stroke-width:0.8;\"/>\n   </g>\n   <g id=\"text_18\">\n    <!-- Loss -->\n    <defs>\n     <path d=\"M 9.8125 72.90625 \nL 19.671875 72.90625 \nL 19.671875 8.296875 \nL 55.171875 8.296875 \nL 55.171875 0 \nL 9.8125 0 \nz\n\" id=\"DejaVuSans-76\"/>\n     <path d=\"M 44.28125 53.078125 \nL 44.28125 44.578125 \nQ 40.484375 46.53125 36.375 47.5 \nQ 32.28125 48.484375 27.875 48.484375 \nQ 21.1875 48.484375 17.84375 46.4375 \nQ 14.5 44.390625 14.5 40.28125 \nQ 14.5 37.15625 16.890625 35.375 \nQ 19.28125 33.59375 26.515625 31.984375 \nL 29.59375 31.296875 \nQ 39.15625 29.25 43.1875 25.515625 \nQ 47.21875 21.78125 47.21875 15.09375 \nQ 47.21875 7.46875 41.1875 3.015625 \nQ 35.15625 -1.421875 24.609375 -1.421875 \nQ 20.21875 -1.421875 15.453125 -0.5625 \nQ 10.6875 0.296875 5.421875 2 \nL 5.421875 11.28125 \nQ 10.40625 8.6875 15.234375 7.390625 \nQ 20.0625 6.109375 24.8125 6.109375 \nQ 31.15625 6.109375 34.5625 8.28125 \nQ 37.984375 10.453125 37.984375 14.40625 \nQ 37.984375 18.0625 35.515625 20.015625 \nQ 33.0625 21.96875 24.703125 23.78125 \nL 21.578125 24.515625 \nQ 13.234375 26.265625 9.515625 29.90625 \nQ 5.8125 33.546875 5.8125 39.890625 \nQ 5.8125 47.609375 11.28125 51.796875 \nQ 16.75 56 26.8125 56 \nQ 31.78125 56 36.171875 55.265625 \nQ 40.578125 54.546875 44.28125 53.078125 \nz\n\" id=\"DejaVuSans-115\"/>\n    </defs>\n    <g transform=\"translate(357.88 16.318125)scale(0.12 -0.12)\">\n     <use xlink:href=\"#DejaVuSans-76\"/>\n     <use x=\"53.962891\" xlink:href=\"#DejaVuSans-111\"/>\n     <use x=\"115.144531\" xlink:href=\"#DejaVuSans-115\"/>\n     <use x=\"167.244141\" xlink:href=\"#DejaVuSans-115\"/>\n    </g>\n   </g>\n   <g id=\"legend_1\">\n    <g id=\"patch_7\">\n     <path d=\"M 43.465625 314.118125 \nL 129.190625 314.118125 \nQ 131.190625 314.118125 131.190625 312.118125 \nL 131.190625 223.380625 \nQ 131.190625 221.380625 129.190625 221.380625 \nL 43.465625 221.380625 \nQ 41.465625 221.380625 41.465625 223.380625 \nL 41.465625 312.118125 \nQ 41.465625 314.118125 43.465625 314.118125 \nz\n\" style=\"fill:#ffffff;opacity:0.8;stroke:#cccccc;stroke-linejoin:miter;\"/>\n    </g>\n    <g id=\"line2d_39\">\n     <path d=\"M 45.465625 229.479062 \nL 65.465625 229.479062 \n\" style=\"fill:none;stroke:#000000;stroke-linecap:square;stroke-width:1.5;\"/>\n    </g>\n    <g id=\"line2d_40\"/>\n    <g id=\"text_19\">\n     <!-- 512_train -->\n     <defs>\n      <path d=\"M 50.984375 -16.609375 \nL 50.984375 -23.578125 \nL -0.984375 -23.578125 \nL -0.984375 -16.609375 \nz\n\" id=\"DejaVuSans-95\"/>\n      <path d=\"M 18.3125 70.21875 \nL 18.3125 54.6875 \nL 36.8125 54.6875 \nL 36.8125 47.703125 \nL 18.3125 47.703125 \nL 18.3125 18.015625 \nQ 18.3125 11.328125 20.140625 9.421875 \nQ 21.96875 7.515625 27.59375 7.515625 \nL 36.8125 7.515625 \nL 36.8125 0 \nL 27.59375 0 \nQ 17.1875 0 13.234375 3.875 \nQ 9.28125 7.765625 9.28125 18.015625 \nL 9.28125 47.703125 \nL 2.6875 47.703125 \nL 2.6875 54.6875 \nL 9.28125 54.6875 \nL 9.28125 70.21875 \nz\n\" id=\"DejaVuSans-116\"/>\n      <path d=\"M 41.109375 46.296875 \nQ 39.59375 47.171875 37.8125 47.578125 \nQ 36.03125 48 33.890625 48 \nQ 26.265625 48 22.1875 43.046875 \nQ 18.109375 38.09375 18.109375 28.8125 \nL 18.109375 0 \nL 9.078125 0 \nL 9.078125 54.6875 \nL 18.109375 54.6875 \nL 18.109375 46.1875 \nQ 20.953125 51.171875 25.484375 53.578125 \nQ 30.03125 56 36.53125 56 \nQ 37.453125 56 38.578125 55.875 \nQ 39.703125 55.765625 41.0625 55.515625 \nz\n\" id=\"DejaVuSans-114\"/>\n      <path d=\"M 34.28125 27.484375 \nQ 23.390625 27.484375 19.1875 25 \nQ 14.984375 22.515625 14.984375 16.5 \nQ 14.984375 11.71875 18.140625 8.90625 \nQ 21.296875 6.109375 26.703125 6.109375 \nQ 34.1875 6.109375 38.703125 11.40625 \nQ 43.21875 16.703125 43.21875 25.484375 \nL 43.21875 27.484375 \nz\nM 52.203125 31.203125 \nL 52.203125 0 \nL 43.21875 0 \nL 43.21875 8.296875 \nQ 40.140625 3.328125 35.546875 0.953125 \nQ 30.953125 -1.421875 24.3125 -1.421875 \nQ 15.921875 -1.421875 10.953125 3.296875 \nQ 6 8.015625 6 15.921875 \nQ 6 25.140625 12.171875 29.828125 \nQ 18.359375 34.515625 30.609375 34.515625 \nL 43.21875 34.515625 \nL 43.21875 35.40625 \nQ 43.21875 41.609375 39.140625 45 \nQ 35.0625 48.390625 27.6875 48.390625 \nQ 23 48.390625 18.546875 47.265625 \nQ 14.109375 46.140625 10.015625 43.890625 \nL 10.015625 52.203125 \nQ 14.9375 54.109375 19.578125 55.046875 \nQ 24.21875 56 28.609375 56 \nQ 40.484375 56 46.34375 49.84375 \nQ 52.203125 43.703125 52.203125 31.203125 \nz\n\" id=\"DejaVuSans-97\"/>\n      <path d=\"M 9.421875 54.6875 \nL 18.40625 54.6875 \nL 18.40625 0 \nL 9.421875 0 \nz\nM 9.421875 75.984375 \nL 18.40625 75.984375 \nL 18.40625 64.59375 \nL 9.421875 64.59375 \nz\n\" id=\"DejaVuSans-105\"/>\n      <path d=\"M 54.890625 33.015625 \nL 54.890625 0 \nL 45.90625 0 \nL 45.90625 32.71875 \nQ 45.90625 40.484375 42.875 44.328125 \nQ 39.84375 48.1875 33.796875 48.1875 \nQ 26.515625 48.1875 22.3125 43.546875 \nQ 18.109375 38.921875 18.109375 30.90625 \nL 18.109375 0 \nL 9.078125 0 \nL 9.078125 54.6875 \nL 18.109375 54.6875 \nL 18.109375 46.1875 \nQ 21.34375 51.125 25.703125 53.5625 \nQ 30.078125 56 35.796875 56 \nQ 45.21875 56 50.046875 50.171875 \nQ 54.890625 44.34375 54.890625 33.015625 \nz\n\" id=\"DejaVuSans-110\"/>\n     </defs>\n     <g transform=\"translate(73.465625 232.979062)scale(0.1 -0.1)\">\n      <use xlink:href=\"#DejaVuSans-53\"/>\n      <use x=\"63.623047\" xlink:href=\"#DejaVuSans-49\"/>\n      <use x=\"127.246094\" xlink:href=\"#DejaVuSans-50\"/>\n      <use x=\"190.869141\" xlink:href=\"#DejaVuSans-95\"/>\n      <use x=\"240.869141\" xlink:href=\"#DejaVuSans-116\"/>\n      <use x=\"280.078125\" xlink:href=\"#DejaVuSans-114\"/>\n      <use x=\"321.191406\" xlink:href=\"#DejaVuSans-97\"/>\n      <use x=\"382.470703\" xlink:href=\"#DejaVuSans-105\"/>\n      <use x=\"410.253906\" xlink:href=\"#DejaVuSans-110\"/>\n     </g>\n    </g>\n    <g id=\"line2d_41\">\n     <path d=\"M 45.465625 244.435312 \nL 65.465625 244.435312 \n\" style=\"fill:none;stroke:#ff0000;stroke-linecap:square;stroke-width:1.5;\"/>\n    </g>\n    <g id=\"line2d_42\"/>\n    <g id=\"text_20\">\n     <!-- 256_train -->\n     <g transform=\"translate(73.465625 247.935312)scale(0.1 -0.1)\">\n      <use xlink:href=\"#DejaVuSans-50\"/>\n      <use x=\"63.623047\" xlink:href=\"#DejaVuSans-53\"/>\n      <use x=\"127.246094\" xlink:href=\"#DejaVuSans-54\"/>\n      <use x=\"190.869141\" xlink:href=\"#DejaVuSans-95\"/>\n      <use x=\"240.869141\" xlink:href=\"#DejaVuSans-116\"/>\n      <use x=\"280.078125\" xlink:href=\"#DejaVuSans-114\"/>\n      <use x=\"321.191406\" xlink:href=\"#DejaVuSans-97\"/>\n      <use x=\"382.470703\" xlink:href=\"#DejaVuSans-105\"/>\n      <use x=\"410.253906\" xlink:href=\"#DejaVuSans-110\"/>\n     </g>\n    </g>\n    <g id=\"line2d_43\">\n     <path d=\"M 45.465625 259.391562 \nL 65.465625 259.391562 \n\" style=\"fill:none;stroke:#ffa500;stroke-linecap:square;stroke-width:1.5;\"/>\n    </g>\n    <g id=\"line2d_44\"/>\n    <g id=\"text_21\">\n     <!-- 1024_train -->\n     <g transform=\"translate(73.465625 262.891562)scale(0.1 -0.1)\">\n      <use xlink:href=\"#DejaVuSans-49\"/>\n      <use x=\"63.623047\" xlink:href=\"#DejaVuSans-48\"/>\n      <use x=\"127.246094\" xlink:href=\"#DejaVuSans-50\"/>\n      <use x=\"190.869141\" xlink:href=\"#DejaVuSans-52\"/>\n      <use x=\"254.492188\" xlink:href=\"#DejaVuSans-95\"/>\n      <use x=\"304.492188\" xlink:href=\"#DejaVuSans-116\"/>\n      <use x=\"343.701172\" xlink:href=\"#DejaVuSans-114\"/>\n      <use x=\"384.814453\" xlink:href=\"#DejaVuSans-97\"/>\n      <use x=\"446.09375\" xlink:href=\"#DejaVuSans-105\"/>\n      <use x=\"473.876953\" xlink:href=\"#DejaVuSans-110\"/>\n     </g>\n    </g>\n    <g id=\"line2d_45\">\n     <path d=\"M 45.465625 274.347812 \nL 65.465625 274.347812 \n\" style=\"fill:none;stroke:#a52a2a;stroke-linecap:square;stroke-width:1.5;\"/>\n    </g>\n    <g id=\"line2d_46\"/>\n    <g id=\"text_22\">\n     <!-- 512_test -->\n     <defs>\n      <path d=\"M 56.203125 29.59375 \nL 56.203125 25.203125 \nL 14.890625 25.203125 \nQ 15.484375 15.921875 20.484375 11.0625 \nQ 25.484375 6.203125 34.421875 6.203125 \nQ 39.59375 6.203125 44.453125 7.46875 \nQ 49.3125 8.734375 54.109375 11.28125 \nL 54.109375 2.78125 \nQ 49.265625 0.734375 44.1875 -0.34375 \nQ 39.109375 -1.421875 33.890625 -1.421875 \nQ 20.796875 -1.421875 13.15625 6.1875 \nQ 5.515625 13.8125 5.515625 26.8125 \nQ 5.515625 40.234375 12.765625 48.109375 \nQ 20.015625 56 32.328125 56 \nQ 43.359375 56 49.78125 48.890625 \nQ 56.203125 41.796875 56.203125 29.59375 \nz\nM 47.21875 32.234375 \nQ 47.125 39.59375 43.09375 43.984375 \nQ 39.0625 48.390625 32.421875 48.390625 \nQ 24.90625 48.390625 20.390625 44.140625 \nQ 15.875 39.890625 15.1875 32.171875 \nz\n\" id=\"DejaVuSans-101\"/>\n     </defs>\n     <g transform=\"translate(73.465625 277.847812)scale(0.1 -0.1)\">\n      <use xlink:href=\"#DejaVuSans-53\"/>\n      <use x=\"63.623047\" xlink:href=\"#DejaVuSans-49\"/>\n      <use x=\"127.246094\" xlink:href=\"#DejaVuSans-50\"/>\n      <use x=\"190.869141\" xlink:href=\"#DejaVuSans-95\"/>\n      <use x=\"240.869141\" xlink:href=\"#DejaVuSans-116\"/>\n      <use x=\"280.078125\" xlink:href=\"#DejaVuSans-101\"/>\n      <use x=\"341.601562\" xlink:href=\"#DejaVuSans-115\"/>\n      <use x=\"393.701172\" xlink:href=\"#DejaVuSans-116\"/>\n     </g>\n    </g>\n    <g id=\"line2d_47\">\n     <path d=\"M 45.465625 289.304062 \nL 65.465625 289.304062 \n\" style=\"fill:none;stroke:#ee82ee;stroke-linecap:square;stroke-width:1.5;\"/>\n    </g>\n    <g id=\"line2d_48\"/>\n    <g id=\"text_23\">\n     <!-- 256_test -->\n     <g transform=\"translate(73.465625 292.804062)scale(0.1 -0.1)\">\n      <use xlink:href=\"#DejaVuSans-50\"/>\n      <use x=\"63.623047\" xlink:href=\"#DejaVuSans-53\"/>\n      <use x=\"127.246094\" xlink:href=\"#DejaVuSans-54\"/>\n      <use x=\"190.869141\" xlink:href=\"#DejaVuSans-95\"/>\n      <use x=\"240.869141\" xlink:href=\"#DejaVuSans-116\"/>\n      <use x=\"280.078125\" xlink:href=\"#DejaVuSans-101\"/>\n      <use x=\"341.601562\" xlink:href=\"#DejaVuSans-115\"/>\n      <use x=\"393.701172\" xlink:href=\"#DejaVuSans-116\"/>\n     </g>\n    </g>\n    <g id=\"line2d_49\">\n     <path d=\"M 45.465625 304.260312 \nL 65.465625 304.260312 \n\" style=\"fill:none;stroke:#00008b;stroke-dasharray:5.55,2.4;stroke-dashoffset:0;stroke-width:1.5;\"/>\n    </g>\n    <g id=\"line2d_50\"/>\n    <g id=\"text_24\">\n     <!-- 1024_test -->\n     <g transform=\"translate(73.465625 307.760312)scale(0.1 -0.1)\">\n      <use xlink:href=\"#DejaVuSans-49\"/>\n      <use x=\"63.623047\" xlink:href=\"#DejaVuSans-48\"/>\n      <use x=\"127.246094\" xlink:href=\"#DejaVuSans-50\"/>\n      <use x=\"190.869141\" xlink:href=\"#DejaVuSans-52\"/>\n      <use x=\"254.492188\" xlink:href=\"#DejaVuSans-95\"/>\n      <use x=\"304.492188\" xlink:href=\"#DejaVuSans-116\"/>\n      <use x=\"343.701172\" xlink:href=\"#DejaVuSans-101\"/>\n      <use x=\"405.224609\" xlink:href=\"#DejaVuSans-115\"/>\n      <use x=\"457.324219\" xlink:href=\"#DejaVuSans-116\"/>\n     </g>\n    </g>\n   </g>\n  </g>\n  <g id=\"axes_2\">\n   <g id=\"patch_8\">\n    <path d=\"M 36.465625 673.718125 \nL 705.615625 673.718125 \nL 705.615625 376.918125 \nL 36.465625 376.918125 \nz\n\" style=\"fill:#ffffff;\"/>\n   </g>\n   <g id=\"matplotlib.axis_3\">\n    <g id=\"xtick_10\">\n     <g id=\"line2d_51\">\n      <path clip-path=\"url(#p7d62281f2d)\" d=\"M 66.881534 673.718125 \nL 66.881534 376.918125 \n\" style=\"fill:none;stroke:#b0b0b0;stroke-linecap:square;stroke-width:0.8;\"/>\n     </g>\n     <g id=\"line2d_52\">\n      <g>\n       <use style=\"stroke:#000000;stroke-width:0.8;\" x=\"66.881534\" xlink:href=\"#m8a5ffcdac7\" y=\"673.718125\"/>\n      </g>\n     </g>\n     <g id=\"text_25\">\n      <!-- 0 -->\n      <g transform=\"translate(63.700284 688.316562)scale(0.1 -0.1)\">\n       <use xlink:href=\"#DejaVuSans-48\"/>\n      </g>\n     </g>\n    </g>\n    <g id=\"xtick_11\">\n     <g id=\"line2d_53\">\n      <path clip-path=\"url(#p7d62281f2d)\" d=\"M 142.921307 673.718125 \nL 142.921307 376.918125 \n\" style=\"fill:none;stroke:#b0b0b0;stroke-linecap:square;stroke-width:0.8;\"/>\n     </g>\n     <g id=\"line2d_54\">\n      <g>\n       <use style=\"stroke:#000000;stroke-width:0.8;\" x=\"142.921307\" xlink:href=\"#m8a5ffcdac7\" y=\"673.718125\"/>\n      </g>\n     </g>\n     <g id=\"text_26\">\n      <!-- 1 -->\n      <g transform=\"translate(139.740057 688.316562)scale(0.1 -0.1)\">\n       <use xlink:href=\"#DejaVuSans-49\"/>\n      </g>\n     </g>\n    </g>\n    <g id=\"xtick_12\">\n     <g id=\"line2d_55\">\n      <path clip-path=\"url(#p7d62281f2d)\" d=\"M 218.96108 673.718125 \nL 218.96108 376.918125 \n\" style=\"fill:none;stroke:#b0b0b0;stroke-linecap:square;stroke-width:0.8;\"/>\n     </g>\n     <g id=\"line2d_56\">\n      <g>\n       <use style=\"stroke:#000000;stroke-width:0.8;\" x=\"218.96108\" xlink:href=\"#m8a5ffcdac7\" y=\"673.718125\"/>\n      </g>\n     </g>\n     <g id=\"text_27\">\n      <!-- 2 -->\n      <g transform=\"translate(215.77983 688.316562)scale(0.1 -0.1)\">\n       <use xlink:href=\"#DejaVuSans-50\"/>\n      </g>\n     </g>\n    </g>\n    <g id=\"xtick_13\">\n     <g id=\"line2d_57\">\n      <path clip-path=\"url(#p7d62281f2d)\" d=\"M 295.000852 673.718125 \nL 295.000852 376.918125 \n\" style=\"fill:none;stroke:#b0b0b0;stroke-linecap:square;stroke-width:0.8;\"/>\n     </g>\n     <g id=\"line2d_58\">\n      <g>\n       <use style=\"stroke:#000000;stroke-width:0.8;\" x=\"295.000852\" xlink:href=\"#m8a5ffcdac7\" y=\"673.718125\"/>\n      </g>\n     </g>\n     <g id=\"text_28\">\n      <!-- 3 -->\n      <g transform=\"translate(291.819602 688.316562)scale(0.1 -0.1)\">\n       <use xlink:href=\"#DejaVuSans-51\"/>\n      </g>\n     </g>\n    </g>\n    <g id=\"xtick_14\">\n     <g id=\"line2d_59\">\n      <path clip-path=\"url(#p7d62281f2d)\" d=\"M 371.040625 673.718125 \nL 371.040625 376.918125 \n\" style=\"fill:none;stroke:#b0b0b0;stroke-linecap:square;stroke-width:0.8;\"/>\n     </g>\n     <g id=\"line2d_60\">\n      <g>\n       <use style=\"stroke:#000000;stroke-width:0.8;\" x=\"371.040625\" xlink:href=\"#m8a5ffcdac7\" y=\"673.718125\"/>\n      </g>\n     </g>\n     <g id=\"text_29\">\n      <!-- 4 -->\n      <g transform=\"translate(367.859375 688.316562)scale(0.1 -0.1)\">\n       <use xlink:href=\"#DejaVuSans-52\"/>\n      </g>\n     </g>\n    </g>\n    <g id=\"xtick_15\">\n     <g id=\"line2d_61\">\n      <path clip-path=\"url(#p7d62281f2d)\" d=\"M 447.080398 673.718125 \nL 447.080398 376.918125 \n\" style=\"fill:none;stroke:#b0b0b0;stroke-linecap:square;stroke-width:0.8;\"/>\n     </g>\n     <g id=\"line2d_62\">\n      <g>\n       <use style=\"stroke:#000000;stroke-width:0.8;\" x=\"447.080398\" xlink:href=\"#m8a5ffcdac7\" y=\"673.718125\"/>\n      </g>\n     </g>\n     <g id=\"text_30\">\n      <!-- 5 -->\n      <g transform=\"translate(443.899148 688.316562)scale(0.1 -0.1)\">\n       <use xlink:href=\"#DejaVuSans-53\"/>\n      </g>\n     </g>\n    </g>\n    <g id=\"xtick_16\">\n     <g id=\"line2d_63\">\n      <path clip-path=\"url(#p7d62281f2d)\" d=\"M 523.12017 673.718125 \nL 523.12017 376.918125 \n\" style=\"fill:none;stroke:#b0b0b0;stroke-linecap:square;stroke-width:0.8;\"/>\n     </g>\n     <g id=\"line2d_64\">\n      <g>\n       <use style=\"stroke:#000000;stroke-width:0.8;\" x=\"523.12017\" xlink:href=\"#m8a5ffcdac7\" y=\"673.718125\"/>\n      </g>\n     </g>\n     <g id=\"text_31\">\n      <!-- 6 -->\n      <g transform=\"translate(519.93892 688.316562)scale(0.1 -0.1)\">\n       <use xlink:href=\"#DejaVuSans-54\"/>\n      </g>\n     </g>\n    </g>\n    <g id=\"xtick_17\">\n     <g id=\"line2d_65\">\n      <path clip-path=\"url(#p7d62281f2d)\" d=\"M 599.159943 673.718125 \nL 599.159943 376.918125 \n\" style=\"fill:none;stroke:#b0b0b0;stroke-linecap:square;stroke-width:0.8;\"/>\n     </g>\n     <g id=\"line2d_66\">\n      <g>\n       <use style=\"stroke:#000000;stroke-width:0.8;\" x=\"599.159943\" xlink:href=\"#m8a5ffcdac7\" y=\"673.718125\"/>\n      </g>\n     </g>\n     <g id=\"text_32\">\n      <!-- 7 -->\n      <g transform=\"translate(595.978693 688.316562)scale(0.1 -0.1)\">\n       <use xlink:href=\"#DejaVuSans-55\"/>\n      </g>\n     </g>\n    </g>\n    <g id=\"xtick_18\">\n     <g id=\"line2d_67\">\n      <path clip-path=\"url(#p7d62281f2d)\" d=\"M 675.199716 673.718125 \nL 675.199716 376.918125 \n\" style=\"fill:none;stroke:#b0b0b0;stroke-linecap:square;stroke-width:0.8;\"/>\n     </g>\n     <g id=\"line2d_68\">\n      <g>\n       <use style=\"stroke:#000000;stroke-width:0.8;\" x=\"675.199716\" xlink:href=\"#m8a5ffcdac7\" y=\"673.718125\"/>\n      </g>\n     </g>\n     <g id=\"text_33\">\n      <!-- 8 -->\n      <g transform=\"translate(672.018466 688.316562)scale(0.1 -0.1)\">\n       <use xlink:href=\"#DejaVuSans-56\"/>\n      </g>\n     </g>\n    </g>\n    <g id=\"text_34\">\n     <!-- Epoch -->\n     <g transform=\"translate(355.729687 701.994687)scale(0.1 -0.1)\">\n      <use xlink:href=\"#DejaVuSans-69\"/>\n      <use x=\"63.183594\" xlink:href=\"#DejaVuSans-112\"/>\n      <use x=\"126.660156\" xlink:href=\"#DejaVuSans-111\"/>\n      <use x=\"187.841797\" xlink:href=\"#DejaVuSans-99\"/>\n      <use x=\"242.822266\" xlink:href=\"#DejaVuSans-104\"/>\n     </g>\n    </g>\n   </g>\n   <g id=\"matplotlib.axis_4\">\n    <g id=\"ytick_8\">\n     <g id=\"line2d_69\">\n      <path clip-path=\"url(#p7d62281f2d)\" d=\"M 36.465625 626.337519 \nL 705.615625 626.337519 \n\" style=\"fill:none;stroke:#b0b0b0;stroke-linecap:square;stroke-width:0.8;\"/>\n     </g>\n     <g id=\"line2d_70\">\n      <g>\n       <use style=\"stroke:#000000;stroke-width:0.8;\" x=\"36.465625\" xlink:href=\"#m95ba3bea1c\" y=\"626.337519\"/>\n      </g>\n     </g>\n     <g id=\"text_35\">\n      <!-- 0.06 -->\n      <g transform=\"translate(7.2 630.136738)scale(0.1 -0.1)\">\n       <use xlink:href=\"#DejaVuSans-48\"/>\n       <use x=\"63.623047\" xlink:href=\"#DejaVuSans-46\"/>\n       <use x=\"95.410156\" xlink:href=\"#DejaVuSans-48\"/>\n       <use x=\"159.033203\" xlink:href=\"#DejaVuSans-54\"/>\n      </g>\n     </g>\n    </g>\n    <g id=\"ytick_9\">\n     <g id=\"line2d_71\">\n      <path clip-path=\"url(#p7d62281f2d)\" d=\"M 36.465625 576.272523 \nL 705.615625 576.272523 \n\" style=\"fill:none;stroke:#b0b0b0;stroke-linecap:square;stroke-width:0.8;\"/>\n     </g>\n     <g id=\"line2d_72\">\n      <g>\n       <use style=\"stroke:#000000;stroke-width:0.8;\" x=\"36.465625\" xlink:href=\"#m95ba3bea1c\" y=\"576.272523\"/>\n      </g>\n     </g>\n     <g id=\"text_36\">\n      <!-- 0.08 -->\n      <g transform=\"translate(7.2 580.071742)scale(0.1 -0.1)\">\n       <use xlink:href=\"#DejaVuSans-48\"/>\n       <use x=\"63.623047\" xlink:href=\"#DejaVuSans-46\"/>\n       <use x=\"95.410156\" xlink:href=\"#DejaVuSans-48\"/>\n       <use x=\"159.033203\" xlink:href=\"#DejaVuSans-56\"/>\n      </g>\n     </g>\n    </g>\n    <g id=\"ytick_10\">\n     <g id=\"line2d_73\">\n      <path clip-path=\"url(#p7d62281f2d)\" d=\"M 36.465625 526.207528 \nL 705.615625 526.207528 \n\" style=\"fill:none;stroke:#b0b0b0;stroke-linecap:square;stroke-width:0.8;\"/>\n     </g>\n     <g id=\"line2d_74\">\n      <g>\n       <use style=\"stroke:#000000;stroke-width:0.8;\" x=\"36.465625\" xlink:href=\"#m95ba3bea1c\" y=\"526.207528\"/>\n      </g>\n     </g>\n     <g id=\"text_37\">\n      <!-- 0.10 -->\n      <g transform=\"translate(7.2 530.006746)scale(0.1 -0.1)\">\n       <use xlink:href=\"#DejaVuSans-48\"/>\n       <use x=\"63.623047\" xlink:href=\"#DejaVuSans-46\"/>\n       <use x=\"95.410156\" xlink:href=\"#DejaVuSans-49\"/>\n       <use x=\"159.033203\" xlink:href=\"#DejaVuSans-48\"/>\n      </g>\n     </g>\n    </g>\n    <g id=\"ytick_11\">\n     <g id=\"line2d_75\">\n      <path clip-path=\"url(#p7d62281f2d)\" d=\"M 36.465625 476.142532 \nL 705.615625 476.142532 \n\" style=\"fill:none;stroke:#b0b0b0;stroke-linecap:square;stroke-width:0.8;\"/>\n     </g>\n     <g id=\"line2d_76\">\n      <g>\n       <use style=\"stroke:#000000;stroke-width:0.8;\" x=\"36.465625\" xlink:href=\"#m95ba3bea1c\" y=\"476.142532\"/>\n      </g>\n     </g>\n     <g id=\"text_38\">\n      <!-- 0.12 -->\n      <g transform=\"translate(7.2 479.941751)scale(0.1 -0.1)\">\n       <use xlink:href=\"#DejaVuSans-48\"/>\n       <use x=\"63.623047\" xlink:href=\"#DejaVuSans-46\"/>\n       <use x=\"95.410156\" xlink:href=\"#DejaVuSans-49\"/>\n       <use x=\"159.033203\" xlink:href=\"#DejaVuSans-50\"/>\n      </g>\n     </g>\n    </g>\n    <g id=\"ytick_12\">\n     <g id=\"line2d_77\">\n      <path clip-path=\"url(#p7d62281f2d)\" d=\"M 36.465625 426.077536 \nL 705.615625 426.077536 \n\" style=\"fill:none;stroke:#b0b0b0;stroke-linecap:square;stroke-width:0.8;\"/>\n     </g>\n     <g id=\"line2d_78\">\n      <g>\n       <use style=\"stroke:#000000;stroke-width:0.8;\" x=\"36.465625\" xlink:href=\"#m95ba3bea1c\" y=\"426.077536\"/>\n      </g>\n     </g>\n     <g id=\"text_39\">\n      <!-- 0.14 -->\n      <g transform=\"translate(7.2 429.876755)scale(0.1 -0.1)\">\n       <use xlink:href=\"#DejaVuSans-48\"/>\n       <use x=\"63.623047\" xlink:href=\"#DejaVuSans-46\"/>\n       <use x=\"95.410156\" xlink:href=\"#DejaVuSans-49\"/>\n       <use x=\"159.033203\" xlink:href=\"#DejaVuSans-52\"/>\n      </g>\n     </g>\n    </g>\n   </g>\n   <g id=\"line2d_79\">\n    <path clip-path=\"url(#p7d62281f2d)\" d=\"M 66.881534 597.77044 \nL 142.921307 574.604823 \nL 218.96108 554.901329 \nL 295.000852 539.943626 \nL 371.040625 524.472471 \nL 447.080398 488.694641 \nL 523.12017 461.810156 \nL 599.159943 424.225225 \nL 675.199716 390.409034 \n\" style=\"fill:none;stroke:#000000;stroke-linecap:square;stroke-width:1.5;\"/>\n   </g>\n   <g id=\"line2d_80\">\n    <path clip-path=\"url(#p7d62281f2d)\" d=\"M 66.881534 652.446672 \nL 142.921307 630.587142 \nL 218.96108 616.888173 \nL 295.000852 609.871681 \nL 371.040625 606.564098 \nL 447.080398 600.621884 \nL 523.12017 597.772921 \nL 599.159943 592.217074 \nL 675.199716 589.724525 \n\" style=\"fill:none;stroke:#ff0000;stroke-linecap:square;stroke-width:1.5;\"/>\n   </g>\n   <g id=\"line2d_81\">\n    <path clip-path=\"url(#p7d62281f2d)\" d=\"M 66.881534 658.954672 \nL 142.921307 658.954672 \nL 218.96108 658.954672 \nL 295.000852 657.469128 \nL 371.040625 626.073159 \nL 447.080398 625.823911 \nL 523.12017 623.700272 \nL 599.159943 616.437032 \nL 675.199716 612.939995 \n\" style=\"fill:none;stroke:#ffa500;stroke-linecap:square;stroke-width:1.5;\"/>\n   </g>\n   <g id=\"line2d_82\">\n    <path clip-path=\"url(#p7d62281f2d)\" d=\"M 66.881534 600.911305 \nL 142.921307 582.611311 \nL 218.96108 571.795044 \nL 295.000852 568.023209 \nL 371.040625 572.109569 \nL 447.080398 574.443569 \nL 523.12017 578.569879 \nL 599.159943 578.138023 \nL 675.199716 577.73612 \n\" style=\"fill:none;stroke:#a52a2a;stroke-linecap:square;stroke-width:1.5;\"/>\n   </g>\n   <g id=\"line2d_83\">\n    <path clip-path=\"url(#p7d62281f2d)\" d=\"M 66.881534 654.658081 \nL 142.921307 633.058028 \nL 218.96108 624.70807 \nL 295.000852 619.733033 \nL 371.040625 616.130956 \nL 447.080398 612.306693 \nL 523.12017 608.851881 \nL 599.159943 607.943258 \nL 675.199716 606.048593 \n\" style=\"fill:none;stroke:#ee82ee;stroke-linecap:square;stroke-width:1.5;\"/>\n   </g>\n   <g id=\"line2d_84\">\n    <path clip-path=\"url(#p7d62281f2d)\" d=\"M 66.881534 660.227216 \nL 142.921307 660.227216 \nL 218.96108 660.227216 \nL 295.000852 658.761917 \nL 371.040625 628.245253 \nL 447.080398 629.982646 \nL 523.12017 628.337611 \nL 599.159943 620.684115 \nL 675.199716 617.084527 \n\" style=\"fill:none;stroke:#00008b;stroke-dasharray:5.55,2.4;stroke-dashoffset:0;stroke-width:1.5;\"/>\n   </g>\n   <g id=\"patch_9\">\n    <path d=\"M 36.465625 673.718125 \nL 36.465625 376.918125 \n\" style=\"fill:none;stroke:#000000;stroke-linecap:square;stroke-linejoin:miter;stroke-width:0.8;\"/>\n   </g>\n   <g id=\"patch_10\">\n    <path d=\"M 705.615625 673.718125 \nL 705.615625 376.918125 \n\" style=\"fill:none;stroke:#000000;stroke-linecap:square;stroke-linejoin:miter;stroke-width:0.8;\"/>\n   </g>\n   <g id=\"patch_11\">\n    <path d=\"M 36.465625 673.718125 \nL 705.615625 673.718125 \n\" style=\"fill:none;stroke:#000000;stroke-linecap:square;stroke-linejoin:miter;stroke-width:0.8;\"/>\n   </g>\n   <g id=\"patch_12\">\n    <path d=\"M 36.465625 376.918125 \nL 705.615625 376.918125 \n\" style=\"fill:none;stroke:#000000;stroke-linecap:square;stroke-linejoin:miter;stroke-width:0.8;\"/>\n   </g>\n   <g id=\"text_40\">\n    <!-- Accuracy -->\n    <defs>\n     <path d=\"M 34.1875 63.1875 \nL 20.796875 26.90625 \nL 47.609375 26.90625 \nz\nM 28.609375 72.90625 \nL 39.796875 72.90625 \nL 67.578125 0 \nL 57.328125 0 \nL 50.6875 18.703125 \nL 17.828125 18.703125 \nL 11.1875 0 \nL 0.78125 0 \nz\n\" id=\"DejaVuSans-65\"/>\n     <path d=\"M 8.5 21.578125 \nL 8.5 54.6875 \nL 17.484375 54.6875 \nL 17.484375 21.921875 \nQ 17.484375 14.15625 20.5 10.265625 \nQ 23.53125 6.390625 29.59375 6.390625 \nQ 36.859375 6.390625 41.078125 11.03125 \nQ 45.3125 15.671875 45.3125 23.6875 \nL 45.3125 54.6875 \nL 54.296875 54.6875 \nL 54.296875 0 \nL 45.3125 0 \nL 45.3125 8.40625 \nQ 42.046875 3.421875 37.71875 1 \nQ 33.40625 -1.421875 27.6875 -1.421875 \nQ 18.265625 -1.421875 13.375 4.4375 \nQ 8.5 10.296875 8.5 21.578125 \nz\nM 31.109375 56 \nz\n\" id=\"DejaVuSans-117\"/>\n     <path d=\"M 32.171875 -5.078125 \nQ 28.375 -14.84375 24.75 -17.8125 \nQ 21.140625 -20.796875 15.09375 -20.796875 \nL 7.90625 -20.796875 \nL 7.90625 -13.28125 \nL 13.1875 -13.28125 \nQ 16.890625 -13.28125 18.9375 -11.515625 \nQ 21 -9.765625 23.484375 -3.21875 \nL 25.09375 0.875 \nL 2.984375 54.6875 \nL 12.5 54.6875 \nL 29.59375 11.921875 \nL 46.6875 54.6875 \nL 56.203125 54.6875 \nz\n\" id=\"DejaVuSans-121\"/>\n    </defs>\n    <g transform=\"translate(343.646875 370.918125)scale(0.12 -0.12)\">\n     <use xlink:href=\"#DejaVuSans-65\"/>\n     <use x=\"66.658203\" xlink:href=\"#DejaVuSans-99\"/>\n     <use x=\"121.638672\" xlink:href=\"#DejaVuSans-99\"/>\n     <use x=\"176.619141\" xlink:href=\"#DejaVuSans-117\"/>\n     <use x=\"239.998047\" xlink:href=\"#DejaVuSans-114\"/>\n     <use x=\"281.111328\" xlink:href=\"#DejaVuSans-97\"/>\n     <use x=\"342.390625\" xlink:href=\"#DejaVuSans-99\"/>\n     <use x=\"397.371094\" xlink:href=\"#DejaVuSans-121\"/>\n    </g>\n   </g>\n   <g id=\"legend_2\">\n    <g id=\"patch_13\">\n     <path d=\"M 43.465625 474.655625 \nL 129.190625 474.655625 \nQ 131.190625 474.655625 131.190625 472.655625 \nL 131.190625 383.918125 \nQ 131.190625 381.918125 129.190625 381.918125 \nL 43.465625 381.918125 \nQ 41.465625 381.918125 41.465625 383.918125 \nL 41.465625 472.655625 \nQ 41.465625 474.655625 43.465625 474.655625 \nz\n\" style=\"fill:#ffffff;opacity:0.8;stroke:#cccccc;stroke-linejoin:miter;\"/>\n    </g>\n    <g id=\"line2d_85\">\n     <path d=\"M 45.465625 390.016562 \nL 65.465625 390.016562 \n\" style=\"fill:none;stroke:#000000;stroke-linecap:square;stroke-width:1.5;\"/>\n    </g>\n    <g id=\"line2d_86\"/>\n    <g id=\"text_41\">\n     <!-- 512_train -->\n     <g transform=\"translate(73.465625 393.516562)scale(0.1 -0.1)\">\n      <use xlink:href=\"#DejaVuSans-53\"/>\n      <use x=\"63.623047\" xlink:href=\"#DejaVuSans-49\"/>\n      <use x=\"127.246094\" xlink:href=\"#DejaVuSans-50\"/>\n      <use x=\"190.869141\" xlink:href=\"#DejaVuSans-95\"/>\n      <use x=\"240.869141\" xlink:href=\"#DejaVuSans-116\"/>\n      <use x=\"280.078125\" xlink:href=\"#DejaVuSans-114\"/>\n      <use x=\"321.191406\" xlink:href=\"#DejaVuSans-97\"/>\n      <use x=\"382.470703\" xlink:href=\"#DejaVuSans-105\"/>\n      <use x=\"410.253906\" xlink:href=\"#DejaVuSans-110\"/>\n     </g>\n    </g>\n    <g id=\"line2d_87\">\n     <path d=\"M 45.465625 404.972812 \nL 65.465625 404.972812 \n\" style=\"fill:none;stroke:#ff0000;stroke-linecap:square;stroke-width:1.5;\"/>\n    </g>\n    <g id=\"line2d_88\"/>\n    <g id=\"text_42\">\n     <!-- 256_train -->\n     <g transform=\"translate(73.465625 408.472812)scale(0.1 -0.1)\">\n      <use xlink:href=\"#DejaVuSans-50\"/>\n      <use x=\"63.623047\" xlink:href=\"#DejaVuSans-53\"/>\n      <use x=\"127.246094\" xlink:href=\"#DejaVuSans-54\"/>\n      <use x=\"190.869141\" xlink:href=\"#DejaVuSans-95\"/>\n      <use x=\"240.869141\" xlink:href=\"#DejaVuSans-116\"/>\n      <use x=\"280.078125\" xlink:href=\"#DejaVuSans-114\"/>\n      <use x=\"321.191406\" xlink:href=\"#DejaVuSans-97\"/>\n      <use x=\"382.470703\" xlink:href=\"#DejaVuSans-105\"/>\n      <use x=\"410.253906\" xlink:href=\"#DejaVuSans-110\"/>\n     </g>\n    </g>\n    <g id=\"line2d_89\">\n     <path d=\"M 45.465625 419.929062 \nL 65.465625 419.929062 \n\" style=\"fill:none;stroke:#ffa500;stroke-linecap:square;stroke-width:1.5;\"/>\n    </g>\n    <g id=\"line2d_90\"/>\n    <g id=\"text_43\">\n     <!-- 1024_train -->\n     <g transform=\"translate(73.465625 423.429062)scale(0.1 -0.1)\">\n      <use xlink:href=\"#DejaVuSans-49\"/>\n      <use x=\"63.623047\" xlink:href=\"#DejaVuSans-48\"/>\n      <use x=\"127.246094\" xlink:href=\"#DejaVuSans-50\"/>\n      <use x=\"190.869141\" xlink:href=\"#DejaVuSans-52\"/>\n      <use x=\"254.492188\" xlink:href=\"#DejaVuSans-95\"/>\n      <use x=\"304.492188\" xlink:href=\"#DejaVuSans-116\"/>\n      <use x=\"343.701172\" xlink:href=\"#DejaVuSans-114\"/>\n      <use x=\"384.814453\" xlink:href=\"#DejaVuSans-97\"/>\n      <use x=\"446.09375\" xlink:href=\"#DejaVuSans-105\"/>\n      <use x=\"473.876953\" xlink:href=\"#DejaVuSans-110\"/>\n     </g>\n    </g>\n    <g id=\"line2d_91\">\n     <path d=\"M 45.465625 434.885312 \nL 65.465625 434.885312 \n\" style=\"fill:none;stroke:#a52a2a;stroke-linecap:square;stroke-width:1.5;\"/>\n    </g>\n    <g id=\"line2d_92\"/>\n    <g id=\"text_44\">\n     <!-- 512_test -->\n     <g transform=\"translate(73.465625 438.385312)scale(0.1 -0.1)\">\n      <use xlink:href=\"#DejaVuSans-53\"/>\n      <use x=\"63.623047\" xlink:href=\"#DejaVuSans-49\"/>\n      <use x=\"127.246094\" xlink:href=\"#DejaVuSans-50\"/>\n      <use x=\"190.869141\" xlink:href=\"#DejaVuSans-95\"/>\n      <use x=\"240.869141\" xlink:href=\"#DejaVuSans-116\"/>\n      <use x=\"280.078125\" xlink:href=\"#DejaVuSans-101\"/>\n      <use x=\"341.601562\" xlink:href=\"#DejaVuSans-115\"/>\n      <use x=\"393.701172\" xlink:href=\"#DejaVuSans-116\"/>\n     </g>\n    </g>\n    <g id=\"line2d_93\">\n     <path d=\"M 45.465625 449.841562 \nL 65.465625 449.841562 \n\" style=\"fill:none;stroke:#ee82ee;stroke-linecap:square;stroke-width:1.5;\"/>\n    </g>\n    <g id=\"line2d_94\"/>\n    <g id=\"text_45\">\n     <!-- 256_test -->\n     <g transform=\"translate(73.465625 453.341562)scale(0.1 -0.1)\">\n      <use xlink:href=\"#DejaVuSans-50\"/>\n      <use x=\"63.623047\" xlink:href=\"#DejaVuSans-53\"/>\n      <use x=\"127.246094\" xlink:href=\"#DejaVuSans-54\"/>\n      <use x=\"190.869141\" xlink:href=\"#DejaVuSans-95\"/>\n      <use x=\"240.869141\" xlink:href=\"#DejaVuSans-116\"/>\n      <use x=\"280.078125\" xlink:href=\"#DejaVuSans-101\"/>\n      <use x=\"341.601562\" xlink:href=\"#DejaVuSans-115\"/>\n      <use x=\"393.701172\" xlink:href=\"#DejaVuSans-116\"/>\n     </g>\n    </g>\n    <g id=\"line2d_95\">\n     <path d=\"M 45.465625 464.797812 \nL 65.465625 464.797812 \n\" style=\"fill:none;stroke:#00008b;stroke-dasharray:5.55,2.4;stroke-dashoffset:0;stroke-width:1.5;\"/>\n    </g>\n    <g id=\"line2d_96\"/>\n    <g id=\"text_46\">\n     <!-- 1024_test -->\n     <g transform=\"translate(73.465625 468.297812)scale(0.1 -0.1)\">\n      <use xlink:href=\"#DejaVuSans-49\"/>\n      <use x=\"63.623047\" xlink:href=\"#DejaVuSans-48\"/>\n      <use x=\"127.246094\" xlink:href=\"#DejaVuSans-50\"/>\n      <use x=\"190.869141\" xlink:href=\"#DejaVuSans-52\"/>\n      <use x=\"254.492188\" xlink:href=\"#DejaVuSans-95\"/>\n      <use x=\"304.492188\" xlink:href=\"#DejaVuSans-116\"/>\n      <use x=\"343.701172\" xlink:href=\"#DejaVuSans-101\"/>\n      <use x=\"405.224609\" xlink:href=\"#DejaVuSans-115\"/>\n      <use x=\"457.324219\" xlink:href=\"#DejaVuSans-116\"/>\n     </g>\n    </g>\n   </g>\n  </g>\n </g>\n <defs>\n  <clipPath id=\"p3b0c916300\">\n   <rect height=\"296.8\" width=\"669.15\" x=\"36.465625\" y=\"22.318125\"/>\n  </clipPath>\n  <clipPath id=\"p7d62281f2d\">\n   <rect height=\"296.8\" width=\"669.15\" x=\"36.465625\" y=\"376.918125\"/>\n  </clipPath>\n </defs>\n</svg>\n",
            "application/pdf": "[encoded data removed]"
          },
          "metadata": {
            "needs_background": "light"
          }
        }
      ]
    },
    {
      "cell_type": "code",
      "source": [
        "lm_model = lm_model.cpu()\n",
        "lm_model.eval()\n",
        "decoded_tokens, decoded_lens = decode(lm_model, start_tokens, start_tokens_lens, max_generated_len=20, top_k=50)\n",
        "\n",
        "for text_idx in range(start_tokens.shape[1]):\n",
        "    decoded_text_tokens = decoded_tokens[:decoded_lens[text_idx], text_idx]\n",
        "    tokens = start_tokens[:start_tokens_lens[text_idx], text_idx].tolist() + decoded_text_tokens.tolist()\n",
        "    words = np.array(lm_model.vocab.get_itos())[np.array(tokens)]\n",
        "    print(' '.join(words))"
      ],
      "metadata": {
        "colab": {
          "base_uri": "https://localhost:8080/"
        },
        "id": "YZS5bQ4gbI3w",
        "outputId": "d9e07b7f-a78a-4f50-98da-693205bff058"
      },
      "execution_count": null,
      "outputs": [
        {
          "output_type": "stream",
          "name": "stdout",
          "text": [
            "<sos> wow film really <unk> terrible awful first great bad like funny made make sucks much think <unk> bad bad dont\n",
            "<sos> <unk> favorite movie <unk> <unk> movie <unk> years <unk> funny <unk> <unk> shows <unk> films <unk> <unk> really plays well <unk> never great\n",
            "<sos> <unk> best movie ive ever seen seen seen <unk> long film seen seen <unk> least worse years seen first movie long lot long\n",
            "<sos> <unk> worst movie seen theater way movie bad minutes thought minutes watching bad much bad movie movie bad thought bad movie movie good\n"
          ]
        }
      ]
    },
    {
      "cell_type": "code",
      "source": [
        "lm_model_2 = lm_model_2.cpu()\n",
        "lm_model_2.eval()\n",
        "decoded_tokens, decoded_lens = decode(lm_model_2, start_tokens, start_tokens_lens, max_generated_len=20, top_k=50)\n",
        "\n",
        "for text_idx in range(start_tokens.shape[1]):\n",
        "    decoded_text_tokens = decoded_tokens[:decoded_lens[text_idx], text_idx]\n",
        "    tokens = start_tokens[:start_tokens_lens[text_idx], text_idx].tolist() + decoded_text_tokens.tolist()\n",
        "    words = np.array(lm_model.vocab.get_itos())[np.array(tokens)]\n",
        "    print(' '.join(words))"
      ],
      "metadata": {
        "colab": {
          "base_uri": "https://localhost:8080/"
        },
        "id": "DuHE58ckbT8n",
        "outputId": "0e59ddb9-67d9-4ed8-c0f2-207951920814"
      },
      "execution_count": null,
      "outputs": [
        {
          "output_type": "stream",
          "name": "stdout",
          "text": [
            "<sos> know movie didnt see cant dont expect movie really actually seen wasnt seen <unk> made see really go one really\n",
            "<sos> <unk> favorite movie really bad awful movie story time film got <unk> terrible watch film much <unk> movie better even thought think movie\n",
            "<sos> <unk> best movie <unk> horror ever one really really bad movie dont make watching <unk> <eos>\n",
            "<sos> <unk> worst movie made ive seen seen bad bad movie <unk> much one budget good movie ive anything <eos>\n"
          ]
        }
      ]
    },
    {
      "cell_type": "code",
      "source": [
        "lm_model_3 = lm_model_3.cpu()\n",
        "lm_model_3.eval()\n",
        "decoded_tokens, decoded_lens = decode(lm_model_3, start_tokens, start_tokens_lens, max_generated_len=20, top_k=50)\n",
        "\n",
        "for text_idx in range(start_tokens.shape[1]):\n",
        "    decoded_text_tokens = decoded_tokens[:decoded_lens[text_idx], text_idx]\n",
        "    tokens = start_tokens[:start_tokens_lens[text_idx], text_idx].tolist() + decoded_text_tokens.tolist()\n",
        "    words = np.array(lm_model.vocab.get_itos())[np.array(tokens)]\n",
        "    print(' '.join(words))"
      ],
      "metadata": {
        "colab": {
          "base_uri": "https://localhost:8080/"
        },
        "id": "P1nRHo7Ubc4_",
        "outputId": "36e2e80c-618f-41e0-b6ee-00a8ec6a1da2"
      },
      "execution_count": null,
      "outputs": [
        {
          "output_type": "stream",
          "name": "stdout",
          "text": [
            "<sos> <unk> horror <unk> many <unk> much job could story ive even funny good say say like really good watch volleyball\n",
            "<sos> <unk> favorite movie sure <unk> never im im bad good watch characters commented itwhat itwhat itwhat itwhat itwhat itwhat itwhat itwhat itwhat itwhat\n",
            "<sos> <unk> best movie almost seen movie seen seen like impressed seen movie see seen really celina itwhat itwhat itwhat itwhat itwhat itwhat itwhat\n",
            "<sos> <unk> worst movie one another <unk> another film movie better read good effects itwhat itwhat itwhat itwhat itwhat itwhat itwhat itwhat itwhat itwhat\n"
          ]
        }
      ]
    },
    {
      "cell_type": "markdown",
      "source": [
        "**Итог эксперимента:** при размерности скрытого пространства - 256 и 1024 не наблюдается эффекта переобучения. При генерации текста с увеличением размерности скрытого протсранства увеливаются повторения."
      ],
      "metadata": {
        "id": "n7q1Zk_ZVkpD"
      }
    },
    {
      "cell_type": "markdown",
      "source": [
        "### Эксперимент №3: исследование числа слоёв в RNN"
      ],
      "metadata": {
        "id": "DU6SU_-1Vo6S"
      }
    },
    {
      "cell_type": "markdown",
      "source": [
        "На практике использует не более 4х слоев. Проверим работу сетей при различном количестве слоев."
      ],
      "metadata": {
        "id": "DTDPm5XTWY31"
      }
    },
    {
      "cell_type": "code",
      "source": [
        "import time\n",
        "\n",
        "lm_model = RNNLM(\n",
        "    embedding_dim=512, hidden_dim=512, vocab=lm_vocab, dropout=0.1, num_layers=3\n",
        ").to(device=device)\n",
        "\n",
        "lm_loss_fn = LMCrossEntropyLoss(reduction='sum')\n",
        "lm_optimizer = torch.optim.Adam(lm_model.parameters(), lr=0.005, weight_decay=1.2e-6)\n",
        "\n",
        "t_start = time.perf_counter()\n",
        "\n",
        "lm_train_losses, lm_train_accuracies, lm_test_losses, lm_test_accuracies = train_lm(\n",
        "    lm_train_dataloader, lm_test_dataloader, lm_model, lm_loss_fn, lm_optimizer, device, 5\n",
        ")\n",
        "\n",
        "all_time = time.perf_counter() - t_start\n",
        "print(f'working time is {all_time//60:.0f}m {all_time%60:.0f}s')"
      ],
      "metadata": {
        "colab": {
          "base_uri": "https://localhost:8080/"
        },
        "id": "HY9FgjgbVlT5",
        "outputId": "d5283490-2a10-485a-f7d8-ad7c17c7e006"
      },
      "execution_count": null,
      "outputs": [
        {
          "output_type": "stream",
          "name": "stdout",
          "text": [
            "Epoch: 1/5. Loss (Train/Test): 7.989/8.086. Accuracy (Train/Test): 0.050/0.049\n",
            "Epoch: 2/5. Loss (Train/Test): 7.873/8.032. Accuracy (Train/Test): 0.065/0.064\n",
            "Epoch: 3/5. Loss (Train/Test): 7.779/8.003. Accuracy (Train/Test): 0.069/0.068\n",
            "Epoch: 4/5. Loss (Train/Test): 7.694/7.975. Accuracy (Train/Test): 0.063/0.061\n",
            "Epoch: 5/5. Loss (Train/Test): 7.515/7.870. Accuracy (Train/Test): 0.074/0.072\n",
            "working time is 4m 36s\n"
          ]
        }
      ]
    },
    {
      "cell_type": "code",
      "source": [
        "import time\n",
        "\n",
        "lm_model2 = RNNLM(\n",
        "    embedding_dim=512, hidden_dim=512, vocab=lm_vocab, dropout=0.1, num_layers=4\n",
        ").to(device=device)\n",
        "\n",
        "lm_loss_fn = LMCrossEntropyLoss(reduction='sum')\n",
        "lm_optimizer = torch.optim.Adam(lm_model2.parameters(), lr=0.005, weight_decay=1.2e-6)\n",
        "\n",
        "t_start = time.perf_counter()\n",
        "\n",
        "lm_train_losses2, lm_train_accuracies2, lm_test_losses2, lm_test_accuracies2 = train_lm(\n",
        "    lm_train_dataloader, lm_test_dataloader, lm_model2, lm_loss_fn, lm_optimizer, device, 5\n",
        ")\n",
        "\n",
        "all_time = time.perf_counter() - t_start\n",
        "print(f'working time is {all_time//60:.0f}m {all_time%60:.0f}s')"
      ],
      "metadata": {
        "colab": {
          "base_uri": "https://localhost:8080/"
        },
        "id": "5549_mlDdVSD",
        "outputId": "f8b65a3c-c6b8-4116-869d-d5b682da0c36"
      },
      "execution_count": null,
      "outputs": [
        {
          "output_type": "stream",
          "name": "stdout",
          "text": [
            "Epoch: 1/5. Loss (Train/Test): 8.192/8.316. Accuracy (Train/Test): 0.045/0.044\n",
            "Epoch: 2/5. Loss (Train/Test): 8.106/8.253. Accuracy (Train/Test): 0.050/0.049\n",
            "Epoch: 3/5. Loss (Train/Test): 8.062/8.231. Accuracy (Train/Test): 0.049/0.048\n",
            "Epoch: 4/5. Loss (Train/Test): 8.043/8.216. Accuracy (Train/Test): 0.045/0.043\n",
            "Epoch: 5/5. Loss (Train/Test): 7.874/8.035. Accuracy (Train/Test): 0.048/0.047\n",
            "working time is 4m 48s\n"
          ]
        }
      ]
    },
    {
      "cell_type": "code",
      "source": [
        "import time\n",
        "\n",
        "lm_model3 = RNNLM(\n",
        "    embedding_dim=512, hidden_dim=512, vocab=lm_vocab, dropout=0.1, num_layers=5\n",
        ").to(device=device)\n",
        "\n",
        "lm_loss_fn = LMCrossEntropyLoss(reduction='sum')\n",
        "lm_optimizer = torch.optim.Adam(lm_model3.parameters(), lr=0.005, weight_decay=1.2e-6)\n",
        "\n",
        "t_start = time.perf_counter()\n",
        "\n",
        "lm_train_losses3, lm_train_accuracies3, lm_test_losses3, lm_test_accuracies3 = train_lm(\n",
        "    lm_train_dataloader, lm_test_dataloader, lm_model3, lm_loss_fn, lm_optimizer, device, 5\n",
        ")\n",
        "\n",
        "all_time = time.perf_counter() - t_start\n",
        "print(f'working time is {all_time//60:.0f}m {all_time%60:.0f}s')"
      ],
      "metadata": {
        "colab": {
          "base_uri": "https://localhost:8080/"
        },
        "id": "hTPL71ofccTg",
        "outputId": "0638f4e9-10d9-435d-d427-ee1873e1b8f2"
      },
      "execution_count": null,
      "outputs": [
        {
          "output_type": "stream",
          "name": "stdout",
          "text": [
            "Epoch: 1/5. Loss (Train/Test): 8.342/8.454. Accuracy (Train/Test): 0.047/0.046\n",
            "Epoch: 2/5. Loss (Train/Test): 8.286/8.408. Accuracy (Train/Test): 0.047/0.046\n",
            "Epoch: 3/5. Loss (Train/Test): 8.214/8.348. Accuracy (Train/Test): 0.048/0.047\n",
            "Epoch: 4/5. Loss (Train/Test): 8.182/8.312. Accuracy (Train/Test): 0.047/0.046\n",
            "Epoch: 5/5. Loss (Train/Test): 8.153/8.287. Accuracy (Train/Test): 0.047/0.046\n",
            "working time is 5m 6s\n"
          ]
        }
      ]
    },
    {
      "cell_type": "code",
      "source": [
        "import time\n",
        "\n",
        "lm_model3 = RNNLM(\n",
        "    embedding_dim=512, hidden_dim=512, vocab=lm_vocab, dropout=0.1, num_layers=5\n",
        ").to(device=device)\n",
        "\n",
        "lm_loss_fn = LMCrossEntropyLoss(reduction='sum')\n",
        "lm_optimizer = torch.optim.Adam(lm_model3.parameters(), lr=0.005, weight_decay=1.2e-6)\n",
        "\n",
        "t_start = time.perf_counter()\n",
        "\n",
        "lm_train_losses3, lm_train_accuracies3, lm_test_losses3, lm_test_accuracies3 = train_lm(\n",
        "    lm_train_dataloader, lm_test_dataloader, lm_model3, lm_loss_fn, lm_optimizer, device, 5\n",
        ")\n",
        "\n",
        "all_time = time.perf_counter() - t_start\n",
        "print(f'working time is {all_time//60:.0f}m {all_time%60:.0f}s')"
      ],
      "metadata": {
        "colab": {
          "base_uri": "https://localhost:8080/"
        },
        "id": "kU_yNEqARW3b",
        "outputId": "81faf75f-1ab4-42cb-b73e-71aada452773"
      },
      "execution_count": 35,
      "outputs": [
        {
          "output_type": "stream",
          "name": "stdout",
          "text": [
            "Epoch: 1/5. Loss (Train/Test): 8.082/8.185. Accuracy (Train/Test): 0.047/0.046\n",
            "Epoch: 2/5. Loss (Train/Test): 8.054/8.158. Accuracy (Train/Test): 0.047/0.046\n",
            "Epoch: 3/5. Loss (Train/Test): 8.029/8.144. Accuracy (Train/Test): 0.047/0.046\n",
            "Epoch: 4/5. Loss (Train/Test): 8.041/8.160. Accuracy (Train/Test): 0.047/0.046\n",
            "Epoch: 5/5. Loss (Train/Test): 8.026/8.142. Accuracy (Train/Test): 0.047/0.046\n",
            "working time is 5m 10s\n"
          ]
        }
      ]
    },
    {
      "cell_type": "code",
      "source": [
        "fig, axes = plt.subplots(2, 1, figsize=(10, 10))\n",
        "\n",
        "# YOUR CODE HERE\n",
        "\n",
        "axes[0].grid(True)\n",
        "\n",
        "axes[0].plot(np.arange(len(lm_train_losses)), [i.item() for i in lm_train_losses],\n",
        "             label='3_train', linestyle='-', color='black')\n",
        "\n",
        "axes[0].plot(np.arange(len(lm_train_losses2)), [i.item() for i in lm_train_losses2],\n",
        "             label='4_train', linestyle='-', color='red')\n",
        "\n",
        "axes[0].plot(np.arange(len(lm_train_losses3)), [i.item() for i in lm_train_losses3],\n",
        "             label='5_train', linestyle='-', color='orange')\n",
        "\n",
        "axes[0].plot(np.arange(len(lm_test_losses)), [i.item() for i in lm_test_losses],\n",
        "             label='3_test', linestyle='-', color='brown')\n",
        "\n",
        "axes[0].plot(np.arange(len(lm_test_losses2)), [i.item() for i in lm_test_losses2],\n",
        "             label='4_test', linestyle='-', color='violet')\n",
        "\n",
        "axes[0].plot(np.arange(len(lm_test_losses3)), [i.item() for i in lm_test_losses3],\n",
        "             label='5_test', linestyle='--', color='darkblue')\n",
        "\n",
        "axes[0].legend()\n",
        "axes[0].set_xlabel('Epoch')\n",
        "axes[0].set_title('Loss')\n",
        "\n",
        "axes[1].grid(True)\n",
        "\n",
        "axes[1].plot(np.arange(len(lm_train_accuracies)), [i.item() for i in lm_train_accuracies],\n",
        "             label='3_train', linestyle='-', color='black')\n",
        "\n",
        "axes[1].plot(np.arange(len(lm_train_accuracies2)), [i.item() for i in lm_train_accuracies2],\n",
        "             label='4_train', linestyle='-', color='red')\n",
        "\n",
        "axes[1].plot(np.arange(len(lm_train_accuracies3)), [i.item() for i in lm_train_accuracies3],\n",
        "             label='5_train', linestyle='-', color='orange')\n",
        "\n",
        "axes[1].plot(np.arange(len(lm_test_accuracies)), [i.item() for i in lm_test_accuracies],\n",
        "             label='3_test', linestyle='-', color='brown')\n",
        "\n",
        "axes[1].plot(np.arange(len(lm_test_accuracies2)), [i.item() for i in lm_test_accuracies2],\n",
        "             label='4_test', linestyle='-', color='violet')\n",
        "\n",
        "axes[1].plot(np.arange(len(lm_test_accuracies3)), [i.item() for i in lm_test_accuracies3],\n",
        "             label='5_test', linestyle='--', color='darkblue')\n",
        "axes[1].legend()\n",
        "axes[1].set_xlabel('Epoch')\n",
        "axes[1].set_title('Accuracy')\n",
        "\n",
        "fig.tight_layout()\n",
        "plt.show()"
      ],
      "metadata": {
        "colab": {
          "base_uri": "https://localhost:8080/",
          "height": 969
        },
        "id": "2_VWhLIwe-Nv",
        "outputId": "4c6b5b83-2f35-4048-db78-de6f8a5e5d86"
      },
      "execution_count": null,
      "outputs": [
        {
          "output_type": "display_data",
          "data": {
            "text/plain": [
              "<Figure size 720x720 with 2 Axes>"
            ],
            "image/svg+xml": "<?xml version=\"1.0\" encoding=\"utf-8\" standalone=\"no\"?>\n<!DOCTYPE svg PUBLIC \"-//W3C//DTD SVG 1.1//EN\"\n  \"http://www.w3.org/Graphics/SVG/1.1/DTD/svg11.dtd\">\n<!-- Created with matplotlib (https://matplotlib.org/) -->\n<svg height=\"711.274375pt\" version=\"1.1\" viewBox=\"0 0 712.928125 711.274375\" width=\"712.928125pt\" xmlns=\"http://www.w3.org/2000/svg\" xmlns:xlink=\"http://www.w3.org/1999/xlink\">\n <defs>\n  <style type=\"text/css\">\n*{stroke-linecap:butt;stroke-linejoin:round;}\n  </style>\n </defs>\n <g id=\"figure_1\">\n  <g id=\"patch_1\">\n   <path d=\"M 0 711.274375 \nL 712.928125 711.274375 \nL 712.928125 0 \nL 0 0 \nz\n\" style=\"fill:none;\"/>\n  </g>\n  <g id=\"axes_1\">\n   <g id=\"patch_2\">\n    <path d=\"M 42.828125 319.118125 \nL 705.728125 319.118125 \nL 705.728125 22.318125 \nL 42.828125 22.318125 \nz\n\" style=\"fill:#ffffff;\"/>\n   </g>\n   <g id=\"matplotlib.axis_1\">\n    <g id=\"xtick_1\">\n     <g id=\"line2d_1\">\n      <path clip-path=\"url(#p6cb2a2f059)\" d=\"M 72.959943 319.118125 \nL 72.959943 22.318125 \n\" style=\"fill:none;stroke:#b0b0b0;stroke-linecap:square;stroke-width:0.8;\"/>\n     </g>\n     <g id=\"line2d_2\">\n      <defs>\n       <path d=\"M 0 0 \nL 0 3.5 \n\" id=\"m5750926cbc\" style=\"stroke:#000000;stroke-width:0.8;\"/>\n      </defs>\n      <g>\n       <use style=\"stroke:#000000;stroke-width:0.8;\" x=\"72.959943\" xlink:href=\"#m5750926cbc\" y=\"319.118125\"/>\n      </g>\n     </g>\n     <g id=\"text_1\">\n      <!-- 0.0 -->\n      <defs>\n       <path d=\"M 31.78125 66.40625 \nQ 24.171875 66.40625 20.328125 58.90625 \nQ 16.5 51.421875 16.5 36.375 \nQ 16.5 21.390625 20.328125 13.890625 \nQ 24.171875 6.390625 31.78125 6.390625 \nQ 39.453125 6.390625 43.28125 13.890625 \nQ 47.125 21.390625 47.125 36.375 \nQ 47.125 51.421875 43.28125 58.90625 \nQ 39.453125 66.40625 31.78125 66.40625 \nz\nM 31.78125 74.21875 \nQ 44.046875 74.21875 50.515625 64.515625 \nQ 56.984375 54.828125 56.984375 36.375 \nQ 56.984375 17.96875 50.515625 8.265625 \nQ 44.046875 -1.421875 31.78125 -1.421875 \nQ 19.53125 -1.421875 13.0625 8.265625 \nQ 6.59375 17.96875 6.59375 36.375 \nQ 6.59375 54.828125 13.0625 64.515625 \nQ 19.53125 74.21875 31.78125 74.21875 \nz\n\" id=\"DejaVuSans-48\"/>\n       <path d=\"M 10.6875 12.40625 \nL 21 12.40625 \nL 21 0 \nL 10.6875 0 \nz\n\" id=\"DejaVuSans-46\"/>\n      </defs>\n      <g transform=\"translate(65.008381 333.716562)scale(0.1 -0.1)\">\n       <use xlink:href=\"#DejaVuSans-48\"/>\n       <use x=\"63.623047\" xlink:href=\"#DejaVuSans-46\"/>\n       <use x=\"95.410156\" xlink:href=\"#DejaVuSans-48\"/>\n      </g>\n     </g>\n    </g>\n    <g id=\"xtick_2\">\n     <g id=\"line2d_3\">\n      <path clip-path=\"url(#p6cb2a2f059)\" d=\"M 148.289489 319.118125 \nL 148.289489 22.318125 \n\" style=\"fill:none;stroke:#b0b0b0;stroke-linecap:square;stroke-width:0.8;\"/>\n     </g>\n     <g id=\"line2d_4\">\n      <g>\n       <use style=\"stroke:#000000;stroke-width:0.8;\" x=\"148.289489\" xlink:href=\"#m5750926cbc\" y=\"319.118125\"/>\n      </g>\n     </g>\n     <g id=\"text_2\">\n      <!-- 0.5 -->\n      <defs>\n       <path d=\"M 10.796875 72.90625 \nL 49.515625 72.90625 \nL 49.515625 64.59375 \nL 19.828125 64.59375 \nL 19.828125 46.734375 \nQ 21.96875 47.46875 24.109375 47.828125 \nQ 26.265625 48.1875 28.421875 48.1875 \nQ 40.625 48.1875 47.75 41.5 \nQ 54.890625 34.8125 54.890625 23.390625 \nQ 54.890625 11.625 47.5625 5.09375 \nQ 40.234375 -1.421875 26.90625 -1.421875 \nQ 22.3125 -1.421875 17.546875 -0.640625 \nQ 12.796875 0.140625 7.71875 1.703125 \nL 7.71875 11.625 \nQ 12.109375 9.234375 16.796875 8.0625 \nQ 21.484375 6.890625 26.703125 6.890625 \nQ 35.15625 6.890625 40.078125 11.328125 \nQ 45.015625 15.765625 45.015625 23.390625 \nQ 45.015625 31 40.078125 35.4375 \nQ 35.15625 39.890625 26.703125 39.890625 \nQ 22.75 39.890625 18.8125 39.015625 \nQ 14.890625 38.140625 10.796875 36.28125 \nz\n\" id=\"DejaVuSans-53\"/>\n      </defs>\n      <g transform=\"translate(140.337926 333.716562)scale(0.1 -0.1)\">\n       <use xlink:href=\"#DejaVuSans-48\"/>\n       <use x=\"63.623047\" xlink:href=\"#DejaVuSans-46\"/>\n       <use x=\"95.410156\" xlink:href=\"#DejaVuSans-53\"/>\n      </g>\n     </g>\n    </g>\n    <g id=\"xtick_3\">\n     <g id=\"line2d_5\">\n      <path clip-path=\"url(#p6cb2a2f059)\" d=\"M 223.619034 319.118125 \nL 223.619034 22.318125 \n\" style=\"fill:none;stroke:#b0b0b0;stroke-linecap:square;stroke-width:0.8;\"/>\n     </g>\n     <g id=\"line2d_6\">\n      <g>\n       <use style=\"stroke:#000000;stroke-width:0.8;\" x=\"223.619034\" xlink:href=\"#m5750926cbc\" y=\"319.118125\"/>\n      </g>\n     </g>\n     <g id=\"text_3\">\n      <!-- 1.0 -->\n      <defs>\n       <path d=\"M 12.40625 8.296875 \nL 28.515625 8.296875 \nL 28.515625 63.921875 \nL 10.984375 60.40625 \nL 10.984375 69.390625 \nL 28.421875 72.90625 \nL 38.28125 72.90625 \nL 38.28125 8.296875 \nL 54.390625 8.296875 \nL 54.390625 0 \nL 12.40625 0 \nz\n\" id=\"DejaVuSans-49\"/>\n      </defs>\n      <g transform=\"translate(215.667472 333.716562)scale(0.1 -0.1)\">\n       <use xlink:href=\"#DejaVuSans-49\"/>\n       <use x=\"63.623047\" xlink:href=\"#DejaVuSans-46\"/>\n       <use x=\"95.410156\" xlink:href=\"#DejaVuSans-48\"/>\n      </g>\n     </g>\n    </g>\n    <g id=\"xtick_4\">\n     <g id=\"line2d_7\">\n      <path clip-path=\"url(#p6cb2a2f059)\" d=\"M 298.94858 319.118125 \nL 298.94858 22.318125 \n\" style=\"fill:none;stroke:#b0b0b0;stroke-linecap:square;stroke-width:0.8;\"/>\n     </g>\n     <g id=\"line2d_8\">\n      <g>\n       <use style=\"stroke:#000000;stroke-width:0.8;\" x=\"298.94858\" xlink:href=\"#m5750926cbc\" y=\"319.118125\"/>\n      </g>\n     </g>\n     <g id=\"text_4\">\n      <!-- 1.5 -->\n      <g transform=\"translate(290.997017 333.716562)scale(0.1 -0.1)\">\n       <use xlink:href=\"#DejaVuSans-49\"/>\n       <use x=\"63.623047\" xlink:href=\"#DejaVuSans-46\"/>\n       <use x=\"95.410156\" xlink:href=\"#DejaVuSans-53\"/>\n      </g>\n     </g>\n    </g>\n    <g id=\"xtick_5\">\n     <g id=\"line2d_9\">\n      <path clip-path=\"url(#p6cb2a2f059)\" d=\"M 374.278125 319.118125 \nL 374.278125 22.318125 \n\" style=\"fill:none;stroke:#b0b0b0;stroke-linecap:square;stroke-width:0.8;\"/>\n     </g>\n     <g id=\"line2d_10\">\n      <g>\n       <use style=\"stroke:#000000;stroke-width:0.8;\" x=\"374.278125\" xlink:href=\"#m5750926cbc\" y=\"319.118125\"/>\n      </g>\n     </g>\n     <g id=\"text_5\">\n      <!-- 2.0 -->\n      <defs>\n       <path d=\"M 19.1875 8.296875 \nL 53.609375 8.296875 \nL 53.609375 0 \nL 7.328125 0 \nL 7.328125 8.296875 \nQ 12.9375 14.109375 22.625 23.890625 \nQ 32.328125 33.6875 34.8125 36.53125 \nQ 39.546875 41.84375 41.421875 45.53125 \nQ 43.3125 49.21875 43.3125 52.78125 \nQ 43.3125 58.59375 39.234375 62.25 \nQ 35.15625 65.921875 28.609375 65.921875 \nQ 23.96875 65.921875 18.8125 64.3125 \nQ 13.671875 62.703125 7.8125 59.421875 \nL 7.8125 69.390625 \nQ 13.765625 71.78125 18.9375 73 \nQ 24.125 74.21875 28.421875 74.21875 \nQ 39.75 74.21875 46.484375 68.546875 \nQ 53.21875 62.890625 53.21875 53.421875 \nQ 53.21875 48.921875 51.53125 44.890625 \nQ 49.859375 40.875 45.40625 35.40625 \nQ 44.1875 33.984375 37.640625 27.21875 \nQ 31.109375 20.453125 19.1875 8.296875 \nz\n\" id=\"DejaVuSans-50\"/>\n      </defs>\n      <g transform=\"translate(366.326563 333.716562)scale(0.1 -0.1)\">\n       <use xlink:href=\"#DejaVuSans-50\"/>\n       <use x=\"63.623047\" xlink:href=\"#DejaVuSans-46\"/>\n       <use x=\"95.410156\" xlink:href=\"#DejaVuSans-48\"/>\n      </g>\n     </g>\n    </g>\n    <g id=\"xtick_6\">\n     <g id=\"line2d_11\">\n      <path clip-path=\"url(#p6cb2a2f059)\" d=\"M 449.60767 319.118125 \nL 449.60767 22.318125 \n\" style=\"fill:none;stroke:#b0b0b0;stroke-linecap:square;stroke-width:0.8;\"/>\n     </g>\n     <g id=\"line2d_12\">\n      <g>\n       <use style=\"stroke:#000000;stroke-width:0.8;\" x=\"449.60767\" xlink:href=\"#m5750926cbc\" y=\"319.118125\"/>\n      </g>\n     </g>\n     <g id=\"text_6\">\n      <!-- 2.5 -->\n      <g transform=\"translate(441.656108 333.716562)scale(0.1 -0.1)\">\n       <use xlink:href=\"#DejaVuSans-50\"/>\n       <use x=\"63.623047\" xlink:href=\"#DejaVuSans-46\"/>\n       <use x=\"95.410156\" xlink:href=\"#DejaVuSans-53\"/>\n      </g>\n     </g>\n    </g>\n    <g id=\"xtick_7\">\n     <g id=\"line2d_13\">\n      <path clip-path=\"url(#p6cb2a2f059)\" d=\"M 524.937216 319.118125 \nL 524.937216 22.318125 \n\" style=\"fill:none;stroke:#b0b0b0;stroke-linecap:square;stroke-width:0.8;\"/>\n     </g>\n     <g id=\"line2d_14\">\n      <g>\n       <use style=\"stroke:#000000;stroke-width:0.8;\" x=\"524.937216\" xlink:href=\"#m5750926cbc\" y=\"319.118125\"/>\n      </g>\n     </g>\n     <g id=\"text_7\">\n      <!-- 3.0 -->\n      <defs>\n       <path d=\"M 40.578125 39.3125 \nQ 47.65625 37.796875 51.625 33 \nQ 55.609375 28.21875 55.609375 21.1875 \nQ 55.609375 10.40625 48.1875 4.484375 \nQ 40.765625 -1.421875 27.09375 -1.421875 \nQ 22.515625 -1.421875 17.65625 -0.515625 \nQ 12.796875 0.390625 7.625 2.203125 \nL 7.625 11.71875 \nQ 11.71875 9.328125 16.59375 8.109375 \nQ 21.484375 6.890625 26.8125 6.890625 \nQ 36.078125 6.890625 40.9375 10.546875 \nQ 45.796875 14.203125 45.796875 21.1875 \nQ 45.796875 27.640625 41.28125 31.265625 \nQ 36.765625 34.90625 28.71875 34.90625 \nL 20.21875 34.90625 \nL 20.21875 43.015625 \nL 29.109375 43.015625 \nQ 36.375 43.015625 40.234375 45.921875 \nQ 44.09375 48.828125 44.09375 54.296875 \nQ 44.09375 59.90625 40.109375 62.90625 \nQ 36.140625 65.921875 28.71875 65.921875 \nQ 24.65625 65.921875 20.015625 65.03125 \nQ 15.375 64.15625 9.8125 62.3125 \nL 9.8125 71.09375 \nQ 15.4375 72.65625 20.34375 73.4375 \nQ 25.25 74.21875 29.59375 74.21875 \nQ 40.828125 74.21875 47.359375 69.109375 \nQ 53.90625 64.015625 53.90625 55.328125 \nQ 53.90625 49.265625 50.4375 45.09375 \nQ 46.96875 40.921875 40.578125 39.3125 \nz\n\" id=\"DejaVuSans-51\"/>\n      </defs>\n      <g transform=\"translate(516.985653 333.716562)scale(0.1 -0.1)\">\n       <use xlink:href=\"#DejaVuSans-51\"/>\n       <use x=\"63.623047\" xlink:href=\"#DejaVuSans-46\"/>\n       <use x=\"95.410156\" xlink:href=\"#DejaVuSans-48\"/>\n      </g>\n     </g>\n    </g>\n    <g id=\"xtick_8\">\n     <g id=\"line2d_15\">\n      <path clip-path=\"url(#p6cb2a2f059)\" d=\"M 600.266761 319.118125 \nL 600.266761 22.318125 \n\" style=\"fill:none;stroke:#b0b0b0;stroke-linecap:square;stroke-width:0.8;\"/>\n     </g>\n     <g id=\"line2d_16\">\n      <g>\n       <use style=\"stroke:#000000;stroke-width:0.8;\" x=\"600.266761\" xlink:href=\"#m5750926cbc\" y=\"319.118125\"/>\n      </g>\n     </g>\n     <g id=\"text_8\">\n      <!-- 3.5 -->\n      <g transform=\"translate(592.315199 333.716562)scale(0.1 -0.1)\">\n       <use xlink:href=\"#DejaVuSans-51\"/>\n       <use x=\"63.623047\" xlink:href=\"#DejaVuSans-46\"/>\n       <use x=\"95.410156\" xlink:href=\"#DejaVuSans-53\"/>\n      </g>\n     </g>\n    </g>\n    <g id=\"xtick_9\">\n     <g id=\"line2d_17\">\n      <path clip-path=\"url(#p6cb2a2f059)\" d=\"M 675.596307 319.118125 \nL 675.596307 22.318125 \n\" style=\"fill:none;stroke:#b0b0b0;stroke-linecap:square;stroke-width:0.8;\"/>\n     </g>\n     <g id=\"line2d_18\">\n      <g>\n       <use style=\"stroke:#000000;stroke-width:0.8;\" x=\"675.596307\" xlink:href=\"#m5750926cbc\" y=\"319.118125\"/>\n      </g>\n     </g>\n     <g id=\"text_9\">\n      <!-- 4.0 -->\n      <defs>\n       <path d=\"M 37.796875 64.3125 \nL 12.890625 25.390625 \nL 37.796875 25.390625 \nz\nM 35.203125 72.90625 \nL 47.609375 72.90625 \nL 47.609375 25.390625 \nL 58.015625 25.390625 \nL 58.015625 17.1875 \nL 47.609375 17.1875 \nL 47.609375 0 \nL 37.796875 0 \nL 37.796875 17.1875 \nL 4.890625 17.1875 \nL 4.890625 26.703125 \nz\n\" id=\"DejaVuSans-52\"/>\n      </defs>\n      <g transform=\"translate(667.644744 333.716562)scale(0.1 -0.1)\">\n       <use xlink:href=\"#DejaVuSans-52\"/>\n       <use x=\"63.623047\" xlink:href=\"#DejaVuSans-46\"/>\n       <use x=\"95.410156\" xlink:href=\"#DejaVuSans-48\"/>\n      </g>\n     </g>\n    </g>\n    <g id=\"text_10\">\n     <!-- Epoch -->\n     <defs>\n      <path d=\"M 9.8125 72.90625 \nL 55.90625 72.90625 \nL 55.90625 64.59375 \nL 19.671875 64.59375 \nL 19.671875 43.015625 \nL 54.390625 43.015625 \nL 54.390625 34.71875 \nL 19.671875 34.71875 \nL 19.671875 8.296875 \nL 56.78125 8.296875 \nL 56.78125 0 \nL 9.8125 0 \nz\n\" id=\"DejaVuSans-69\"/>\n      <path d=\"M 18.109375 8.203125 \nL 18.109375 -20.796875 \nL 9.078125 -20.796875 \nL 9.078125 54.6875 \nL 18.109375 54.6875 \nL 18.109375 46.390625 \nQ 20.953125 51.265625 25.265625 53.625 \nQ 29.59375 56 35.59375 56 \nQ 45.5625 56 51.78125 48.09375 \nQ 58.015625 40.1875 58.015625 27.296875 \nQ 58.015625 14.40625 51.78125 6.484375 \nQ 45.5625 -1.421875 35.59375 -1.421875 \nQ 29.59375 -1.421875 25.265625 0.953125 \nQ 20.953125 3.328125 18.109375 8.203125 \nz\nM 48.6875 27.296875 \nQ 48.6875 37.203125 44.609375 42.84375 \nQ 40.53125 48.484375 33.40625 48.484375 \nQ 26.265625 48.484375 22.1875 42.84375 \nQ 18.109375 37.203125 18.109375 27.296875 \nQ 18.109375 17.390625 22.1875 11.75 \nQ 26.265625 6.109375 33.40625 6.109375 \nQ 40.53125 6.109375 44.609375 11.75 \nQ 48.6875 17.390625 48.6875 27.296875 \nz\n\" id=\"DejaVuSans-112\"/>\n      <path d=\"M 30.609375 48.390625 \nQ 23.390625 48.390625 19.1875 42.75 \nQ 14.984375 37.109375 14.984375 27.296875 \nQ 14.984375 17.484375 19.15625 11.84375 \nQ 23.34375 6.203125 30.609375 6.203125 \nQ 37.796875 6.203125 41.984375 11.859375 \nQ 46.1875 17.53125 46.1875 27.296875 \nQ 46.1875 37.015625 41.984375 42.703125 \nQ 37.796875 48.390625 30.609375 48.390625 \nz\nM 30.609375 56 \nQ 42.328125 56 49.015625 48.375 \nQ 55.71875 40.765625 55.71875 27.296875 \nQ 55.71875 13.875 49.015625 6.21875 \nQ 42.328125 -1.421875 30.609375 -1.421875 \nQ 18.84375 -1.421875 12.171875 6.21875 \nQ 5.515625 13.875 5.515625 27.296875 \nQ 5.515625 40.765625 12.171875 48.375 \nQ 18.84375 56 30.609375 56 \nz\n\" id=\"DejaVuSans-111\"/>\n      <path d=\"M 48.78125 52.59375 \nL 48.78125 44.1875 \nQ 44.96875 46.296875 41.140625 47.34375 \nQ 37.3125 48.390625 33.40625 48.390625 \nQ 24.65625 48.390625 19.8125 42.84375 \nQ 14.984375 37.3125 14.984375 27.296875 \nQ 14.984375 17.28125 19.8125 11.734375 \nQ 24.65625 6.203125 33.40625 6.203125 \nQ 37.3125 6.203125 41.140625 7.25 \nQ 44.96875 8.296875 48.78125 10.40625 \nL 48.78125 2.09375 \nQ 45.015625 0.34375 40.984375 -0.53125 \nQ 36.96875 -1.421875 32.421875 -1.421875 \nQ 20.0625 -1.421875 12.78125 6.34375 \nQ 5.515625 14.109375 5.515625 27.296875 \nQ 5.515625 40.671875 12.859375 48.328125 \nQ 20.21875 56 33.015625 56 \nQ 37.15625 56 41.109375 55.140625 \nQ 45.0625 54.296875 48.78125 52.59375 \nz\n\" id=\"DejaVuSans-99\"/>\n      <path d=\"M 54.890625 33.015625 \nL 54.890625 0 \nL 45.90625 0 \nL 45.90625 32.71875 \nQ 45.90625 40.484375 42.875 44.328125 \nQ 39.84375 48.1875 33.796875 48.1875 \nQ 26.515625 48.1875 22.3125 43.546875 \nQ 18.109375 38.921875 18.109375 30.90625 \nL 18.109375 0 \nL 9.078125 0 \nL 9.078125 75.984375 \nL 18.109375 75.984375 \nL 18.109375 46.1875 \nQ 21.34375 51.125 25.703125 53.5625 \nQ 30.078125 56 35.796875 56 \nQ 45.21875 56 50.046875 50.171875 \nQ 54.890625 44.34375 54.890625 33.015625 \nz\n\" id=\"DejaVuSans-104\"/>\n     </defs>\n     <g transform=\"translate(358.967188 347.394687)scale(0.1 -0.1)\">\n      <use xlink:href=\"#DejaVuSans-69\"/>\n      <use x=\"63.183594\" xlink:href=\"#DejaVuSans-112\"/>\n      <use x=\"126.660156\" xlink:href=\"#DejaVuSans-111\"/>\n      <use x=\"187.841797\" xlink:href=\"#DejaVuSans-99\"/>\n      <use x=\"242.822266\" xlink:href=\"#DejaVuSans-104\"/>\n     </g>\n    </g>\n   </g>\n   <g id=\"matplotlib.axis_2\">\n    <g id=\"ytick_1\">\n     <g id=\"line2d_19\">\n      <path clip-path=\"url(#p6cb2a2f059)\" d=\"M 42.828125 281.220707 \nL 705.728125 281.220707 \n\" style=\"fill:none;stroke:#b0b0b0;stroke-linecap:square;stroke-width:0.8;\"/>\n     </g>\n     <g id=\"line2d_20\">\n      <defs>\n       <path d=\"M 0 0 \nL -3.5 0 \n\" id=\"md9cb777521\" style=\"stroke:#000000;stroke-width:0.8;\"/>\n      </defs>\n      <g>\n       <use style=\"stroke:#000000;stroke-width:0.8;\" x=\"42.828125\" xlink:href=\"#md9cb777521\" y=\"281.220707\"/>\n      </g>\n     </g>\n     <g id=\"text_11\">\n      <!-- 7.6 -->\n      <defs>\n       <path d=\"M 8.203125 72.90625 \nL 55.078125 72.90625 \nL 55.078125 68.703125 \nL 28.609375 0 \nL 18.3125 0 \nL 43.21875 64.59375 \nL 8.203125 64.59375 \nz\n\" id=\"DejaVuSans-55\"/>\n       <path d=\"M 33.015625 40.375 \nQ 26.375 40.375 22.484375 35.828125 \nQ 18.609375 31.296875 18.609375 23.390625 \nQ 18.609375 15.53125 22.484375 10.953125 \nQ 26.375 6.390625 33.015625 6.390625 \nQ 39.65625 6.390625 43.53125 10.953125 \nQ 47.40625 15.53125 47.40625 23.390625 \nQ 47.40625 31.296875 43.53125 35.828125 \nQ 39.65625 40.375 33.015625 40.375 \nz\nM 52.59375 71.296875 \nL 52.59375 62.3125 \nQ 48.875 64.0625 45.09375 64.984375 \nQ 41.3125 65.921875 37.59375 65.921875 \nQ 27.828125 65.921875 22.671875 59.328125 \nQ 17.53125 52.734375 16.796875 39.40625 \nQ 19.671875 43.65625 24.015625 45.921875 \nQ 28.375 48.1875 33.59375 48.1875 \nQ 44.578125 48.1875 50.953125 41.515625 \nQ 57.328125 34.859375 57.328125 23.390625 \nQ 57.328125 12.15625 50.6875 5.359375 \nQ 44.046875 -1.421875 33.015625 -1.421875 \nQ 20.359375 -1.421875 13.671875 8.265625 \nQ 6.984375 17.96875 6.984375 36.375 \nQ 6.984375 53.65625 15.1875 63.9375 \nQ 23.390625 74.21875 37.203125 74.21875 \nQ 40.921875 74.21875 44.703125 73.484375 \nQ 48.484375 72.75 52.59375 71.296875 \nz\n\" id=\"DejaVuSans-54\"/>\n      </defs>\n      <g transform=\"translate(19.925 285.019926)scale(0.1 -0.1)\">\n       <use xlink:href=\"#DejaVuSans-55\"/>\n       <use x=\"63.623047\" xlink:href=\"#DejaVuSans-46\"/>\n       <use x=\"95.410156\" xlink:href=\"#DejaVuSans-54\"/>\n      </g>\n     </g>\n    </g>\n    <g id=\"ytick_2\">\n     <g id=\"line2d_21\">\n      <path clip-path=\"url(#p6cb2a2f059)\" d=\"M 42.828125 223.733734 \nL 705.728125 223.733734 \n\" style=\"fill:none;stroke:#b0b0b0;stroke-linecap:square;stroke-width:0.8;\"/>\n     </g>\n     <g id=\"line2d_22\">\n      <g>\n       <use style=\"stroke:#000000;stroke-width:0.8;\" x=\"42.828125\" xlink:href=\"#md9cb777521\" y=\"223.733734\"/>\n      </g>\n     </g>\n     <g id=\"text_12\">\n      <!-- 7.8 -->\n      <defs>\n       <path d=\"M 31.78125 34.625 \nQ 24.75 34.625 20.71875 30.859375 \nQ 16.703125 27.09375 16.703125 20.515625 \nQ 16.703125 13.921875 20.71875 10.15625 \nQ 24.75 6.390625 31.78125 6.390625 \nQ 38.8125 6.390625 42.859375 10.171875 \nQ 46.921875 13.96875 46.921875 20.515625 \nQ 46.921875 27.09375 42.890625 30.859375 \nQ 38.875 34.625 31.78125 34.625 \nz\nM 21.921875 38.8125 \nQ 15.578125 40.375 12.03125 44.71875 \nQ 8.5 49.078125 8.5 55.328125 \nQ 8.5 64.0625 14.71875 69.140625 \nQ 20.953125 74.21875 31.78125 74.21875 \nQ 42.671875 74.21875 48.875 69.140625 \nQ 55.078125 64.0625 55.078125 55.328125 \nQ 55.078125 49.078125 51.53125 44.71875 \nQ 48 40.375 41.703125 38.8125 \nQ 48.828125 37.15625 52.796875 32.3125 \nQ 56.78125 27.484375 56.78125 20.515625 \nQ 56.78125 9.90625 50.3125 4.234375 \nQ 43.84375 -1.421875 31.78125 -1.421875 \nQ 19.734375 -1.421875 13.25 4.234375 \nQ 6.78125 9.90625 6.78125 20.515625 \nQ 6.78125 27.484375 10.78125 32.3125 \nQ 14.796875 37.15625 21.921875 38.8125 \nz\nM 18.3125 54.390625 \nQ 18.3125 48.734375 21.84375 45.5625 \nQ 25.390625 42.390625 31.78125 42.390625 \nQ 38.140625 42.390625 41.71875 45.5625 \nQ 45.3125 48.734375 45.3125 54.390625 \nQ 45.3125 60.0625 41.71875 63.234375 \nQ 38.140625 66.40625 31.78125 66.40625 \nQ 25.390625 66.40625 21.84375 63.234375 \nQ 18.3125 60.0625 18.3125 54.390625 \nz\n\" id=\"DejaVuSans-56\"/>\n      </defs>\n      <g transform=\"translate(19.925 227.532952)scale(0.1 -0.1)\">\n       <use xlink:href=\"#DejaVuSans-55\"/>\n       <use x=\"63.623047\" xlink:href=\"#DejaVuSans-46\"/>\n       <use x=\"95.410156\" xlink:href=\"#DejaVuSans-56\"/>\n      </g>\n     </g>\n    </g>\n    <g id=\"ytick_3\">\n     <g id=\"line2d_23\">\n      <path clip-path=\"url(#p6cb2a2f059)\" d=\"M 42.828125 166.24676 \nL 705.728125 166.24676 \n\" style=\"fill:none;stroke:#b0b0b0;stroke-linecap:square;stroke-width:0.8;\"/>\n     </g>\n     <g id=\"line2d_24\">\n      <g>\n       <use style=\"stroke:#000000;stroke-width:0.8;\" x=\"42.828125\" xlink:href=\"#md9cb777521\" y=\"166.24676\"/>\n      </g>\n     </g>\n     <g id=\"text_13\">\n      <!-- 8.0 -->\n      <g transform=\"translate(19.925 170.045979)scale(0.1 -0.1)\">\n       <use xlink:href=\"#DejaVuSans-56\"/>\n       <use x=\"63.623047\" xlink:href=\"#DejaVuSans-46\"/>\n       <use x=\"95.410156\" xlink:href=\"#DejaVuSans-48\"/>\n      </g>\n     </g>\n    </g>\n    <g id=\"ytick_4\">\n     <g id=\"line2d_25\">\n      <path clip-path=\"url(#p6cb2a2f059)\" d=\"M 42.828125 108.759787 \nL 705.728125 108.759787 \n\" style=\"fill:none;stroke:#b0b0b0;stroke-linecap:square;stroke-width:0.8;\"/>\n     </g>\n     <g id=\"line2d_26\">\n      <g>\n       <use style=\"stroke:#000000;stroke-width:0.8;\" x=\"42.828125\" xlink:href=\"#md9cb777521\" y=\"108.759787\"/>\n      </g>\n     </g>\n     <g id=\"text_14\">\n      <!-- 8.2 -->\n      <g transform=\"translate(19.925 112.559006)scale(0.1 -0.1)\">\n       <use xlink:href=\"#DejaVuSans-56\"/>\n       <use x=\"63.623047\" xlink:href=\"#DejaVuSans-46\"/>\n       <use x=\"95.410156\" xlink:href=\"#DejaVuSans-50\"/>\n      </g>\n     </g>\n    </g>\n    <g id=\"ytick_5\">\n     <g id=\"line2d_27\">\n      <path clip-path=\"url(#p6cb2a2f059)\" d=\"M 42.828125 51.272814 \nL 705.728125 51.272814 \n\" style=\"fill:none;stroke:#b0b0b0;stroke-linecap:square;stroke-width:0.8;\"/>\n     </g>\n     <g id=\"line2d_28\">\n      <g>\n       <use style=\"stroke:#000000;stroke-width:0.8;\" x=\"42.828125\" xlink:href=\"#md9cb777521\" y=\"51.272814\"/>\n      </g>\n     </g>\n     <g id=\"text_15\">\n      <!-- 8.4 -->\n      <g transform=\"translate(19.925 55.072032)scale(0.1 -0.1)\">\n       <use xlink:href=\"#DejaVuSans-56\"/>\n       <use x=\"63.623047\" xlink:href=\"#DejaVuSans-46\"/>\n       <use x=\"95.410156\" xlink:href=\"#DejaVuSans-52\"/>\n      </g>\n     </g>\n    </g>\n   </g>\n   <g id=\"line2d_29\">\n    <path clip-path=\"url(#p6cb2a2f059)\" d=\"M 72.959943 169.39502 \nL 223.619034 202.652812 \nL 374.278125 229.866275 \nL 524.937216 254.181475 \nL 675.596307 305.627216 \n\" style=\"fill:none;stroke:#000000;stroke-linecap:square;stroke-width:1.5;\"/>\n   </g>\n   <g id=\"line2d_30\">\n    <path clip-path=\"url(#p6cb2a2f059)\" d=\"M 72.959943 111.004604 \nL 223.619034 135.71015 \nL 374.278125 148.292772 \nL 524.937216 153.901252 \nL 675.596307 202.344428 \n\" style=\"fill:none;stroke:#ff0000;stroke-linecap:square;stroke-width:1.5;\"/>\n   </g>\n   <g id=\"line2d_31\">\n    <path clip-path=\"url(#p6cb2a2f059)\" d=\"M 72.959943 68.030381 \nL 223.619034 84.141466 \nL 374.278125 104.757975 \nL 524.937216 113.921781 \nL 675.596307 122.378634 \n\" style=\"fill:none;stroke:#ffa500;stroke-linecap:square;stroke-width:1.5;\"/>\n   </g>\n   <g id=\"line2d_32\">\n    <path clip-path=\"url(#p6cb2a2f059)\" d=\"M 72.959943 141.386337 \nL 223.619034 157.171494 \nL 374.278125 165.399732 \nL 524.937216 173.34686 \nL 675.596307 203.495318 \n\" style=\"fill:none;stroke:#a52a2a;stroke-linecap:square;stroke-width:1.5;\"/>\n   </g>\n   <g id=\"line2d_33\">\n    <path clip-path=\"url(#p6cb2a2f059)\" d=\"M 72.959943 75.501227 \nL 223.619034 93.473034 \nL 374.278125 99.962259 \nL 524.937216 104.031559 \nL 675.596307 156.203305 \n\" style=\"fill:none;stroke:#ee82ee;stroke-linecap:square;stroke-width:1.5;\"/>\n   </g>\n   <g id=\"line2d_34\">\n    <path clip-path=\"url(#p6cb2a2f059)\" d=\"M 72.959943 35.809034 \nL 223.619034 49.008424 \nL 374.278125 66.169934 \nL 524.937216 76.697758 \nL 675.596307 83.877763 \n\" style=\"fill:none;stroke:#00008b;stroke-dasharray:5.55,2.4;stroke-dashoffset:0;stroke-width:1.5;\"/>\n   </g>\n   <g id=\"patch_3\">\n    <path d=\"M 42.828125 319.118125 \nL 42.828125 22.318125 \n\" style=\"fill:none;stroke:#000000;stroke-linecap:square;stroke-linejoin:miter;stroke-width:0.8;\"/>\n   </g>\n   <g id=\"patch_4\">\n    <path d=\"M 705.728125 319.118125 \nL 705.728125 22.318125 \n\" style=\"fill:none;stroke:#000000;stroke-linecap:square;stroke-linejoin:miter;stroke-width:0.8;\"/>\n   </g>\n   <g id=\"patch_5\">\n    <path d=\"M 42.828125 319.118125 \nL 705.728125 319.118125 \n\" style=\"fill:none;stroke:#000000;stroke-linecap:square;stroke-linejoin:miter;stroke-width:0.8;\"/>\n   </g>\n   <g id=\"patch_6\">\n    <path d=\"M 42.828125 22.318125 \nL 705.728125 22.318125 \n\" style=\"fill:none;stroke:#000000;stroke-linecap:square;stroke-linejoin:miter;stroke-width:0.8;\"/>\n   </g>\n   <g id=\"text_16\">\n    <!-- Loss -->\n    <defs>\n     <path d=\"M 9.8125 72.90625 \nL 19.671875 72.90625 \nL 19.671875 8.296875 \nL 55.171875 8.296875 \nL 55.171875 0 \nL 9.8125 0 \nz\n\" id=\"DejaVuSans-76\"/>\n     <path d=\"M 44.28125 53.078125 \nL 44.28125 44.578125 \nQ 40.484375 46.53125 36.375 47.5 \nQ 32.28125 48.484375 27.875 48.484375 \nQ 21.1875 48.484375 17.84375 46.4375 \nQ 14.5 44.390625 14.5 40.28125 \nQ 14.5 37.15625 16.890625 35.375 \nQ 19.28125 33.59375 26.515625 31.984375 \nL 29.59375 31.296875 \nQ 39.15625 29.25 43.1875 25.515625 \nQ 47.21875 21.78125 47.21875 15.09375 \nQ 47.21875 7.46875 41.1875 3.015625 \nQ 35.15625 -1.421875 24.609375 -1.421875 \nQ 20.21875 -1.421875 15.453125 -0.5625 \nQ 10.6875 0.296875 5.421875 2 \nL 5.421875 11.28125 \nQ 10.40625 8.6875 15.234375 7.390625 \nQ 20.0625 6.109375 24.8125 6.109375 \nQ 31.15625 6.109375 34.5625 8.28125 \nQ 37.984375 10.453125 37.984375 14.40625 \nQ 37.984375 18.0625 35.515625 20.015625 \nQ 33.0625 21.96875 24.703125 23.78125 \nL 21.578125 24.515625 \nQ 13.234375 26.265625 9.515625 29.90625 \nQ 5.8125 33.546875 5.8125 39.890625 \nQ 5.8125 47.609375 11.28125 51.796875 \nQ 16.75 56 26.8125 56 \nQ 31.78125 56 36.171875 55.265625 \nQ 40.578125 54.546875 44.28125 53.078125 \nz\n\" id=\"DejaVuSans-115\"/>\n    </defs>\n    <g transform=\"translate(361.1175 16.318125)scale(0.12 -0.12)\">\n     <use xlink:href=\"#DejaVuSans-76\"/>\n     <use x=\"53.962891\" xlink:href=\"#DejaVuSans-111\"/>\n     <use x=\"115.144531\" xlink:href=\"#DejaVuSans-115\"/>\n     <use x=\"167.244141\" xlink:href=\"#DejaVuSans-115\"/>\n    </g>\n   </g>\n   <g id=\"legend_1\">\n    <g id=\"patch_7\">\n     <path d=\"M 49.828125 314.118125 \nL 116.465625 314.118125 \nQ 118.465625 314.118125 118.465625 312.118125 \nL 118.465625 223.380625 \nQ 118.465625 221.380625 116.465625 221.380625 \nL 49.828125 221.380625 \nQ 47.828125 221.380625 47.828125 223.380625 \nL 47.828125 312.118125 \nQ 47.828125 314.118125 49.828125 314.118125 \nz\n\" style=\"fill:#ffffff;opacity:0.8;stroke:#cccccc;stroke-linejoin:miter;\"/>\n    </g>\n    <g id=\"line2d_35\">\n     <path d=\"M 51.828125 229.479062 \nL 71.828125 229.479062 \n\" style=\"fill:none;stroke:#000000;stroke-linecap:square;stroke-width:1.5;\"/>\n    </g>\n    <g id=\"line2d_36\"/>\n    <g id=\"text_17\">\n     <!-- 3_train -->\n     <defs>\n      <path d=\"M 50.984375 -16.609375 \nL 50.984375 -23.578125 \nL -0.984375 -23.578125 \nL -0.984375 -16.609375 \nz\n\" id=\"DejaVuSans-95\"/>\n      <path d=\"M 18.3125 70.21875 \nL 18.3125 54.6875 \nL 36.8125 54.6875 \nL 36.8125 47.703125 \nL 18.3125 47.703125 \nL 18.3125 18.015625 \nQ 18.3125 11.328125 20.140625 9.421875 \nQ 21.96875 7.515625 27.59375 7.515625 \nL 36.8125 7.515625 \nL 36.8125 0 \nL 27.59375 0 \nQ 17.1875 0 13.234375 3.875 \nQ 9.28125 7.765625 9.28125 18.015625 \nL 9.28125 47.703125 \nL 2.6875 47.703125 \nL 2.6875 54.6875 \nL 9.28125 54.6875 \nL 9.28125 70.21875 \nz\n\" id=\"DejaVuSans-116\"/>\n      <path d=\"M 41.109375 46.296875 \nQ 39.59375 47.171875 37.8125 47.578125 \nQ 36.03125 48 33.890625 48 \nQ 26.265625 48 22.1875 43.046875 \nQ 18.109375 38.09375 18.109375 28.8125 \nL 18.109375 0 \nL 9.078125 0 \nL 9.078125 54.6875 \nL 18.109375 54.6875 \nL 18.109375 46.1875 \nQ 20.953125 51.171875 25.484375 53.578125 \nQ 30.03125 56 36.53125 56 \nQ 37.453125 56 38.578125 55.875 \nQ 39.703125 55.765625 41.0625 55.515625 \nz\n\" id=\"DejaVuSans-114\"/>\n      <path d=\"M 34.28125 27.484375 \nQ 23.390625 27.484375 19.1875 25 \nQ 14.984375 22.515625 14.984375 16.5 \nQ 14.984375 11.71875 18.140625 8.90625 \nQ 21.296875 6.109375 26.703125 6.109375 \nQ 34.1875 6.109375 38.703125 11.40625 \nQ 43.21875 16.703125 43.21875 25.484375 \nL 43.21875 27.484375 \nz\nM 52.203125 31.203125 \nL 52.203125 0 \nL 43.21875 0 \nL 43.21875 8.296875 \nQ 40.140625 3.328125 35.546875 0.953125 \nQ 30.953125 -1.421875 24.3125 -1.421875 \nQ 15.921875 -1.421875 10.953125 3.296875 \nQ 6 8.015625 6 15.921875 \nQ 6 25.140625 12.171875 29.828125 \nQ 18.359375 34.515625 30.609375 34.515625 \nL 43.21875 34.515625 \nL 43.21875 35.40625 \nQ 43.21875 41.609375 39.140625 45 \nQ 35.0625 48.390625 27.6875 48.390625 \nQ 23 48.390625 18.546875 47.265625 \nQ 14.109375 46.140625 10.015625 43.890625 \nL 10.015625 52.203125 \nQ 14.9375 54.109375 19.578125 55.046875 \nQ 24.21875 56 28.609375 56 \nQ 40.484375 56 46.34375 49.84375 \nQ 52.203125 43.703125 52.203125 31.203125 \nz\n\" id=\"DejaVuSans-97\"/>\n      <path d=\"M 9.421875 54.6875 \nL 18.40625 54.6875 \nL 18.40625 0 \nL 9.421875 0 \nz\nM 9.421875 75.984375 \nL 18.40625 75.984375 \nL 18.40625 64.59375 \nL 9.421875 64.59375 \nz\n\" id=\"DejaVuSans-105\"/>\n      <path d=\"M 54.890625 33.015625 \nL 54.890625 0 \nL 45.90625 0 \nL 45.90625 32.71875 \nQ 45.90625 40.484375 42.875 44.328125 \nQ 39.84375 48.1875 33.796875 48.1875 \nQ 26.515625 48.1875 22.3125 43.546875 \nQ 18.109375 38.921875 18.109375 30.90625 \nL 18.109375 0 \nL 9.078125 0 \nL 9.078125 54.6875 \nL 18.109375 54.6875 \nL 18.109375 46.1875 \nQ 21.34375 51.125 25.703125 53.5625 \nQ 30.078125 56 35.796875 56 \nQ 45.21875 56 50.046875 50.171875 \nQ 54.890625 44.34375 54.890625 33.015625 \nz\n\" id=\"DejaVuSans-110\"/>\n     </defs>\n     <g transform=\"translate(79.828125 232.979062)scale(0.1 -0.1)\">\n      <use xlink:href=\"#DejaVuSans-51\"/>\n      <use x=\"63.623047\" xlink:href=\"#DejaVuSans-95\"/>\n      <use x=\"113.623047\" xlink:href=\"#DejaVuSans-116\"/>\n      <use x=\"152.832031\" xlink:href=\"#DejaVuSans-114\"/>\n      <use x=\"193.945312\" xlink:href=\"#DejaVuSans-97\"/>\n      <use x=\"255.224609\" xlink:href=\"#DejaVuSans-105\"/>\n      <use x=\"283.007812\" xlink:href=\"#DejaVuSans-110\"/>\n     </g>\n    </g>\n    <g id=\"line2d_37\">\n     <path d=\"M 51.828125 244.435312 \nL 71.828125 244.435312 \n\" style=\"fill:none;stroke:#ff0000;stroke-linecap:square;stroke-width:1.5;\"/>\n    </g>\n    <g id=\"line2d_38\"/>\n    <g id=\"text_18\">\n     <!-- 4_train -->\n     <g transform=\"translate(79.828125 247.935312)scale(0.1 -0.1)\">\n      <use xlink:href=\"#DejaVuSans-52\"/>\n      <use x=\"63.623047\" xlink:href=\"#DejaVuSans-95\"/>\n      <use x=\"113.623047\" xlink:href=\"#DejaVuSans-116\"/>\n      <use x=\"152.832031\" xlink:href=\"#DejaVuSans-114\"/>\n      <use x=\"193.945312\" xlink:href=\"#DejaVuSans-97\"/>\n      <use x=\"255.224609\" xlink:href=\"#DejaVuSans-105\"/>\n      <use x=\"283.007812\" xlink:href=\"#DejaVuSans-110\"/>\n     </g>\n    </g>\n    <g id=\"line2d_39\">\n     <path d=\"M 51.828125 259.391562 \nL 71.828125 259.391562 \n\" style=\"fill:none;stroke:#ffa500;stroke-linecap:square;stroke-width:1.5;\"/>\n    </g>\n    <g id=\"line2d_40\"/>\n    <g id=\"text_19\">\n     <!-- 5_train -->\n     <g transform=\"translate(79.828125 262.891562)scale(0.1 -0.1)\">\n      <use xlink:href=\"#DejaVuSans-53\"/>\n      <use x=\"63.623047\" xlink:href=\"#DejaVuSans-95\"/>\n      <use x=\"113.623047\" xlink:href=\"#DejaVuSans-116\"/>\n      <use x=\"152.832031\" xlink:href=\"#DejaVuSans-114\"/>\n      <use x=\"193.945312\" xlink:href=\"#DejaVuSans-97\"/>\n      <use x=\"255.224609\" xlink:href=\"#DejaVuSans-105\"/>\n      <use x=\"283.007812\" xlink:href=\"#DejaVuSans-110\"/>\n     </g>\n    </g>\n    <g id=\"line2d_41\">\n     <path d=\"M 51.828125 274.347812 \nL 71.828125 274.347812 \n\" style=\"fill:none;stroke:#a52a2a;stroke-linecap:square;stroke-width:1.5;\"/>\n    </g>\n    <g id=\"line2d_42\"/>\n    <g id=\"text_20\">\n     <!-- 3_test -->\n     <defs>\n      <path d=\"M 56.203125 29.59375 \nL 56.203125 25.203125 \nL 14.890625 25.203125 \nQ 15.484375 15.921875 20.484375 11.0625 \nQ 25.484375 6.203125 34.421875 6.203125 \nQ 39.59375 6.203125 44.453125 7.46875 \nQ 49.3125 8.734375 54.109375 11.28125 \nL 54.109375 2.78125 \nQ 49.265625 0.734375 44.1875 -0.34375 \nQ 39.109375 -1.421875 33.890625 -1.421875 \nQ 20.796875 -1.421875 13.15625 6.1875 \nQ 5.515625 13.8125 5.515625 26.8125 \nQ 5.515625 40.234375 12.765625 48.109375 \nQ 20.015625 56 32.328125 56 \nQ 43.359375 56 49.78125 48.890625 \nQ 56.203125 41.796875 56.203125 29.59375 \nz\nM 47.21875 32.234375 \nQ 47.125 39.59375 43.09375 43.984375 \nQ 39.0625 48.390625 32.421875 48.390625 \nQ 24.90625 48.390625 20.390625 44.140625 \nQ 15.875 39.890625 15.1875 32.171875 \nz\n\" id=\"DejaVuSans-101\"/>\n     </defs>\n     <g transform=\"translate(79.828125 277.847812)scale(0.1 -0.1)\">\n      <use xlink:href=\"#DejaVuSans-51\"/>\n      <use x=\"63.623047\" xlink:href=\"#DejaVuSans-95\"/>\n      <use x=\"113.623047\" xlink:href=\"#DejaVuSans-116\"/>\n      <use x=\"152.832031\" xlink:href=\"#DejaVuSans-101\"/>\n      <use x=\"214.355469\" xlink:href=\"#DejaVuSans-115\"/>\n      <use x=\"266.455078\" xlink:href=\"#DejaVuSans-116\"/>\n     </g>\n    </g>\n    <g id=\"line2d_43\">\n     <path d=\"M 51.828125 289.304062 \nL 71.828125 289.304062 \n\" style=\"fill:none;stroke:#ee82ee;stroke-linecap:square;stroke-width:1.5;\"/>\n    </g>\n    <g id=\"line2d_44\"/>\n    <g id=\"text_21\">\n     <!-- 4_test -->\n     <g transform=\"translate(79.828125 292.804062)scale(0.1 -0.1)\">\n      <use xlink:href=\"#DejaVuSans-52\"/>\n      <use x=\"63.623047\" xlink:href=\"#DejaVuSans-95\"/>\n      <use x=\"113.623047\" xlink:href=\"#DejaVuSans-116\"/>\n      <use x=\"152.832031\" xlink:href=\"#DejaVuSans-101\"/>\n      <use x=\"214.355469\" xlink:href=\"#DejaVuSans-115\"/>\n      <use x=\"266.455078\" xlink:href=\"#DejaVuSans-116\"/>\n     </g>\n    </g>\n    <g id=\"line2d_45\">\n     <path d=\"M 51.828125 304.260312 \nL 71.828125 304.260312 \n\" style=\"fill:none;stroke:#00008b;stroke-dasharray:5.55,2.4;stroke-dashoffset:0;stroke-width:1.5;\"/>\n    </g>\n    <g id=\"line2d_46\"/>\n    <g id=\"text_22\">\n     <!-- 5_test -->\n     <g transform=\"translate(79.828125 307.760312)scale(0.1 -0.1)\">\n      <use xlink:href=\"#DejaVuSans-53\"/>\n      <use x=\"63.623047\" xlink:href=\"#DejaVuSans-95\"/>\n      <use x=\"113.623047\" xlink:href=\"#DejaVuSans-116\"/>\n      <use x=\"152.832031\" xlink:href=\"#DejaVuSans-101\"/>\n      <use x=\"214.355469\" xlink:href=\"#DejaVuSans-115\"/>\n      <use x=\"266.455078\" xlink:href=\"#DejaVuSans-116\"/>\n     </g>\n    </g>\n   </g>\n  </g>\n  <g id=\"axes_2\">\n   <g id=\"patch_8\">\n    <path d=\"M 42.828125 673.718125 \nL 705.728125 673.718125 \nL 705.728125 376.918125 \nL 42.828125 376.918125 \nz\n\" style=\"fill:#ffffff;\"/>\n   </g>\n   <g id=\"matplotlib.axis_3\">\n    <g id=\"xtick_10\">\n     <g id=\"line2d_47\">\n      <path clip-path=\"url(#pcbacd4c2d2)\" d=\"M 72.959943 673.718125 \nL 72.959943 376.918125 \n\" style=\"fill:none;stroke:#b0b0b0;stroke-linecap:square;stroke-width:0.8;\"/>\n     </g>\n     <g id=\"line2d_48\">\n      <g>\n       <use style=\"stroke:#000000;stroke-width:0.8;\" x=\"72.959943\" xlink:href=\"#m5750926cbc\" y=\"673.718125\"/>\n      </g>\n     </g>\n     <g id=\"text_23\">\n      <!-- 0.0 -->\n      <g transform=\"translate(65.008381 688.316562)scale(0.1 -0.1)\">\n       <use xlink:href=\"#DejaVuSans-48\"/>\n       <use x=\"63.623047\" xlink:href=\"#DejaVuSans-46\"/>\n       <use x=\"95.410156\" xlink:href=\"#DejaVuSans-48\"/>\n      </g>\n     </g>\n    </g>\n    <g id=\"xtick_11\">\n     <g id=\"line2d_49\">\n      <path clip-path=\"url(#pcbacd4c2d2)\" d=\"M 148.289489 673.718125 \nL 148.289489 376.918125 \n\" style=\"fill:none;stroke:#b0b0b0;stroke-linecap:square;stroke-width:0.8;\"/>\n     </g>\n     <g id=\"line2d_50\">\n      <g>\n       <use style=\"stroke:#000000;stroke-width:0.8;\" x=\"148.289489\" xlink:href=\"#m5750926cbc\" y=\"673.718125\"/>\n      </g>\n     </g>\n     <g id=\"text_24\">\n      <!-- 0.5 -->\n      <g transform=\"translate(140.337926 688.316562)scale(0.1 -0.1)\">\n       <use xlink:href=\"#DejaVuSans-48\"/>\n       <use x=\"63.623047\" xlink:href=\"#DejaVuSans-46\"/>\n       <use x=\"95.410156\" xlink:href=\"#DejaVuSans-53\"/>\n      </g>\n     </g>\n    </g>\n    <g id=\"xtick_12\">\n     <g id=\"line2d_51\">\n      <path clip-path=\"url(#pcbacd4c2d2)\" d=\"M 223.619034 673.718125 \nL 223.619034 376.918125 \n\" style=\"fill:none;stroke:#b0b0b0;stroke-linecap:square;stroke-width:0.8;\"/>\n     </g>\n     <g id=\"line2d_52\">\n      <g>\n       <use style=\"stroke:#000000;stroke-width:0.8;\" x=\"223.619034\" xlink:href=\"#m5750926cbc\" y=\"673.718125\"/>\n      </g>\n     </g>\n     <g id=\"text_25\">\n      <!-- 1.0 -->\n      <g transform=\"translate(215.667472 688.316562)scale(0.1 -0.1)\">\n       <use xlink:href=\"#DejaVuSans-49\"/>\n       <use x=\"63.623047\" xlink:href=\"#DejaVuSans-46\"/>\n       <use x=\"95.410156\" xlink:href=\"#DejaVuSans-48\"/>\n      </g>\n     </g>\n    </g>\n    <g id=\"xtick_13\">\n     <g id=\"line2d_53\">\n      <path clip-path=\"url(#pcbacd4c2d2)\" d=\"M 298.94858 673.718125 \nL 298.94858 376.918125 \n\" style=\"fill:none;stroke:#b0b0b0;stroke-linecap:square;stroke-width:0.8;\"/>\n     </g>\n     <g id=\"line2d_54\">\n      <g>\n       <use style=\"stroke:#000000;stroke-width:0.8;\" x=\"298.94858\" xlink:href=\"#m5750926cbc\" y=\"673.718125\"/>\n      </g>\n     </g>\n     <g id=\"text_26\">\n      <!-- 1.5 -->\n      <g transform=\"translate(290.997017 688.316562)scale(0.1 -0.1)\">\n       <use xlink:href=\"#DejaVuSans-49\"/>\n       <use x=\"63.623047\" xlink:href=\"#DejaVuSans-46\"/>\n       <use x=\"95.410156\" xlink:href=\"#DejaVuSans-53\"/>\n      </g>\n     </g>\n    </g>\n    <g id=\"xtick_14\">\n     <g id=\"line2d_55\">\n      <path clip-path=\"url(#pcbacd4c2d2)\" d=\"M 374.278125 673.718125 \nL 374.278125 376.918125 \n\" style=\"fill:none;stroke:#b0b0b0;stroke-linecap:square;stroke-width:0.8;\"/>\n     </g>\n     <g id=\"line2d_56\">\n      <g>\n       <use style=\"stroke:#000000;stroke-width:0.8;\" x=\"374.278125\" xlink:href=\"#m5750926cbc\" y=\"673.718125\"/>\n      </g>\n     </g>\n     <g id=\"text_27\">\n      <!-- 2.0 -->\n      <g transform=\"translate(366.326563 688.316562)scale(0.1 -0.1)\">\n       <use xlink:href=\"#DejaVuSans-50\"/>\n       <use x=\"63.623047\" xlink:href=\"#DejaVuSans-46\"/>\n       <use x=\"95.410156\" xlink:href=\"#DejaVuSans-48\"/>\n      </g>\n     </g>\n    </g>\n    <g id=\"xtick_15\">\n     <g id=\"line2d_57\">\n      <path clip-path=\"url(#pcbacd4c2d2)\" d=\"M 449.60767 673.718125 \nL 449.60767 376.918125 \n\" style=\"fill:none;stroke:#b0b0b0;stroke-linecap:square;stroke-width:0.8;\"/>\n     </g>\n     <g id=\"line2d_58\">\n      <g>\n       <use style=\"stroke:#000000;stroke-width:0.8;\" x=\"449.60767\" xlink:href=\"#m5750926cbc\" y=\"673.718125\"/>\n      </g>\n     </g>\n     <g id=\"text_28\">\n      <!-- 2.5 -->\n      <g transform=\"translate(441.656108 688.316562)scale(0.1 -0.1)\">\n       <use xlink:href=\"#DejaVuSans-50\"/>\n       <use x=\"63.623047\" xlink:href=\"#DejaVuSans-46\"/>\n       <use x=\"95.410156\" xlink:href=\"#DejaVuSans-53\"/>\n      </g>\n     </g>\n    </g>\n    <g id=\"xtick_16\">\n     <g id=\"line2d_59\">\n      <path clip-path=\"url(#pcbacd4c2d2)\" d=\"M 524.937216 673.718125 \nL 524.937216 376.918125 \n\" style=\"fill:none;stroke:#b0b0b0;stroke-linecap:square;stroke-width:0.8;\"/>\n     </g>\n     <g id=\"line2d_60\">\n      <g>\n       <use style=\"stroke:#000000;stroke-width:0.8;\" x=\"524.937216\" xlink:href=\"#m5750926cbc\" y=\"673.718125\"/>\n      </g>\n     </g>\n     <g id=\"text_29\">\n      <!-- 3.0 -->\n      <g transform=\"translate(516.985653 688.316562)scale(0.1 -0.1)\">\n       <use xlink:href=\"#DejaVuSans-51\"/>\n       <use x=\"63.623047\" xlink:href=\"#DejaVuSans-46\"/>\n       <use x=\"95.410156\" xlink:href=\"#DejaVuSans-48\"/>\n      </g>\n     </g>\n    </g>\n    <g id=\"xtick_17\">\n     <g id=\"line2d_61\">\n      <path clip-path=\"url(#pcbacd4c2d2)\" d=\"M 600.266761 673.718125 \nL 600.266761 376.918125 \n\" style=\"fill:none;stroke:#b0b0b0;stroke-linecap:square;stroke-width:0.8;\"/>\n     </g>\n     <g id=\"line2d_62\">\n      <g>\n       <use style=\"stroke:#000000;stroke-width:0.8;\" x=\"600.266761\" xlink:href=\"#m5750926cbc\" y=\"673.718125\"/>\n      </g>\n     </g>\n     <g id=\"text_30\">\n      <!-- 3.5 -->\n      <g transform=\"translate(592.315199 688.316562)scale(0.1 -0.1)\">\n       <use xlink:href=\"#DejaVuSans-51\"/>\n       <use x=\"63.623047\" xlink:href=\"#DejaVuSans-46\"/>\n       <use x=\"95.410156\" xlink:href=\"#DejaVuSans-53\"/>\n      </g>\n     </g>\n    </g>\n    <g id=\"xtick_18\">\n     <g id=\"line2d_63\">\n      <path clip-path=\"url(#pcbacd4c2d2)\" d=\"M 675.596307 673.718125 \nL 675.596307 376.918125 \n\" style=\"fill:none;stroke:#b0b0b0;stroke-linecap:square;stroke-width:0.8;\"/>\n     </g>\n     <g id=\"line2d_64\">\n      <g>\n       <use style=\"stroke:#000000;stroke-width:0.8;\" x=\"675.596307\" xlink:href=\"#m5750926cbc\" y=\"673.718125\"/>\n      </g>\n     </g>\n     <g id=\"text_31\">\n      <!-- 4.0 -->\n      <g transform=\"translate(667.644744 688.316562)scale(0.1 -0.1)\">\n       <use xlink:href=\"#DejaVuSans-52\"/>\n       <use x=\"63.623047\" xlink:href=\"#DejaVuSans-46\"/>\n       <use x=\"95.410156\" xlink:href=\"#DejaVuSans-48\"/>\n      </g>\n     </g>\n    </g>\n    <g id=\"text_32\">\n     <!-- Epoch -->\n     <g transform=\"translate(358.967188 701.994687)scale(0.1 -0.1)\">\n      <use xlink:href=\"#DejaVuSans-69\"/>\n      <use x=\"63.183594\" xlink:href=\"#DejaVuSans-112\"/>\n      <use x=\"126.660156\" xlink:href=\"#DejaVuSans-111\"/>\n      <use x=\"187.841797\" xlink:href=\"#DejaVuSans-99\"/>\n      <use x=\"242.822266\" xlink:href=\"#DejaVuSans-104\"/>\n     </g>\n    </g>\n   </g>\n   <g id=\"matplotlib.axis_4\">\n    <g id=\"ytick_6\">\n     <g id=\"line2d_65\">\n      <path clip-path=\"url(#pcbacd4c2d2)\" d=\"M 42.828125 645.551649 \nL 705.728125 645.551649 \n\" style=\"fill:none;stroke:#b0b0b0;stroke-linecap:square;stroke-width:0.8;\"/>\n     </g>\n     <g id=\"line2d_66\">\n      <g>\n       <use style=\"stroke:#000000;stroke-width:0.8;\" x=\"42.828125\" xlink:href=\"#md9cb777521\" y=\"645.551649\"/>\n      </g>\n     </g>\n     <g id=\"text_33\">\n      <!-- 0.045 -->\n      <g transform=\"translate(7.2 649.350867)scale(0.1 -0.1)\">\n       <use xlink:href=\"#DejaVuSans-48\"/>\n       <use x=\"63.623047\" xlink:href=\"#DejaVuSans-46\"/>\n       <use x=\"95.410156\" xlink:href=\"#DejaVuSans-48\"/>\n       <use x=\"159.033203\" xlink:href=\"#DejaVuSans-52\"/>\n       <use x=\"222.65625\" xlink:href=\"#DejaVuSans-53\"/>\n      </g>\n     </g>\n    </g>\n    <g id=\"ytick_7\">\n     <g id=\"line2d_67\">\n      <path clip-path=\"url(#pcbacd4c2d2)\" d=\"M 42.828125 601.255651 \nL 705.728125 601.255651 \n\" style=\"fill:none;stroke:#b0b0b0;stroke-linecap:square;stroke-width:0.8;\"/>\n     </g>\n     <g id=\"line2d_68\">\n      <g>\n       <use style=\"stroke:#000000;stroke-width:0.8;\" x=\"42.828125\" xlink:href=\"#md9cb777521\" y=\"601.255651\"/>\n      </g>\n     </g>\n     <g id=\"text_34\">\n      <!-- 0.050 -->\n      <g transform=\"translate(7.2 605.05487)scale(0.1 -0.1)\">\n       <use xlink:href=\"#DejaVuSans-48\"/>\n       <use x=\"63.623047\" xlink:href=\"#DejaVuSans-46\"/>\n       <use x=\"95.410156\" xlink:href=\"#DejaVuSans-48\"/>\n       <use x=\"159.033203\" xlink:href=\"#DejaVuSans-53\"/>\n       <use x=\"222.65625\" xlink:href=\"#DejaVuSans-48\"/>\n      </g>\n     </g>\n    </g>\n    <g id=\"ytick_8\">\n     <g id=\"line2d_69\">\n      <path clip-path=\"url(#pcbacd4c2d2)\" d=\"M 42.828125 556.959653 \nL 705.728125 556.959653 \n\" style=\"fill:none;stroke:#b0b0b0;stroke-linecap:square;stroke-width:0.8;\"/>\n     </g>\n     <g id=\"line2d_70\">\n      <g>\n       <use style=\"stroke:#000000;stroke-width:0.8;\" x=\"42.828125\" xlink:href=\"#md9cb777521\" y=\"556.959653\"/>\n      </g>\n     </g>\n     <g id=\"text_35\">\n      <!-- 0.055 -->\n      <g transform=\"translate(7.2 560.758872)scale(0.1 -0.1)\">\n       <use xlink:href=\"#DejaVuSans-48\"/>\n       <use x=\"63.623047\" xlink:href=\"#DejaVuSans-46\"/>\n       <use x=\"95.410156\" xlink:href=\"#DejaVuSans-48\"/>\n       <use x=\"159.033203\" xlink:href=\"#DejaVuSans-53\"/>\n       <use x=\"222.65625\" xlink:href=\"#DejaVuSans-53\"/>\n      </g>\n     </g>\n    </g>\n    <g id=\"ytick_9\">\n     <g id=\"line2d_71\">\n      <path clip-path=\"url(#pcbacd4c2d2)\" d=\"M 42.828125 512.663656 \nL 705.728125 512.663656 \n\" style=\"fill:none;stroke:#b0b0b0;stroke-linecap:square;stroke-width:0.8;\"/>\n     </g>\n     <g id=\"line2d_72\">\n      <g>\n       <use style=\"stroke:#000000;stroke-width:0.8;\" x=\"42.828125\" xlink:href=\"#md9cb777521\" y=\"512.663656\"/>\n      </g>\n     </g>\n     <g id=\"text_36\">\n      <!-- 0.060 -->\n      <g transform=\"translate(7.2 516.462875)scale(0.1 -0.1)\">\n       <use xlink:href=\"#DejaVuSans-48\"/>\n       <use x=\"63.623047\" xlink:href=\"#DejaVuSans-46\"/>\n       <use x=\"95.410156\" xlink:href=\"#DejaVuSans-48\"/>\n       <use x=\"159.033203\" xlink:href=\"#DejaVuSans-54\"/>\n       <use x=\"222.65625\" xlink:href=\"#DejaVuSans-48\"/>\n      </g>\n     </g>\n    </g>\n    <g id=\"ytick_10\">\n     <g id=\"line2d_73\">\n      <path clip-path=\"url(#pcbacd4c2d2)\" d=\"M 42.828125 468.367658 \nL 705.728125 468.367658 \n\" style=\"fill:none;stroke:#b0b0b0;stroke-linecap:square;stroke-width:0.8;\"/>\n     </g>\n     <g id=\"line2d_74\">\n      <g>\n       <use style=\"stroke:#000000;stroke-width:0.8;\" x=\"42.828125\" xlink:href=\"#md9cb777521\" y=\"468.367658\"/>\n      </g>\n     </g>\n     <g id=\"text_37\">\n      <!-- 0.065 -->\n      <g transform=\"translate(7.2 472.166877)scale(0.1 -0.1)\">\n       <use xlink:href=\"#DejaVuSans-48\"/>\n       <use x=\"63.623047\" xlink:href=\"#DejaVuSans-46\"/>\n       <use x=\"95.410156\" xlink:href=\"#DejaVuSans-48\"/>\n       <use x=\"159.033203\" xlink:href=\"#DejaVuSans-54\"/>\n       <use x=\"222.65625\" xlink:href=\"#DejaVuSans-53\"/>\n      </g>\n     </g>\n    </g>\n    <g id=\"ytick_11\">\n     <g id=\"line2d_75\">\n      <path clip-path=\"url(#pcbacd4c2d2)\" d=\"M 42.828125 424.071661 \nL 705.728125 424.071661 \n\" style=\"fill:none;stroke:#b0b0b0;stroke-linecap:square;stroke-width:0.8;\"/>\n     </g>\n     <g id=\"line2d_76\">\n      <g>\n       <use style=\"stroke:#000000;stroke-width:0.8;\" x=\"42.828125\" xlink:href=\"#md9cb777521\" y=\"424.071661\"/>\n      </g>\n     </g>\n     <g id=\"text_38\">\n      <!-- 0.070 -->\n      <g transform=\"translate(7.2 427.870879)scale(0.1 -0.1)\">\n       <use xlink:href=\"#DejaVuSans-48\"/>\n       <use x=\"63.623047\" xlink:href=\"#DejaVuSans-46\"/>\n       <use x=\"95.410156\" xlink:href=\"#DejaVuSans-48\"/>\n       <use x=\"159.033203\" xlink:href=\"#DejaVuSans-55\"/>\n       <use x=\"222.65625\" xlink:href=\"#DejaVuSans-48\"/>\n      </g>\n     </g>\n    </g>\n    <g id=\"ytick_12\">\n     <g id=\"line2d_77\">\n      <path clip-path=\"url(#pcbacd4c2d2)\" d=\"M 42.828125 379.775663 \nL 705.728125 379.775663 \n\" style=\"fill:none;stroke:#b0b0b0;stroke-linecap:square;stroke-width:0.8;\"/>\n     </g>\n     <g id=\"line2d_78\">\n      <g>\n       <use style=\"stroke:#000000;stroke-width:0.8;\" x=\"42.828125\" xlink:href=\"#md9cb777521\" y=\"379.775663\"/>\n      </g>\n     </g>\n     <g id=\"text_39\">\n      <!-- 0.075 -->\n      <g transform=\"translate(7.2 383.574882)scale(0.1 -0.1)\">\n       <use xlink:href=\"#DejaVuSans-48\"/>\n       <use x=\"63.623047\" xlink:href=\"#DejaVuSans-46\"/>\n       <use x=\"95.410156\" xlink:href=\"#DejaVuSans-48\"/>\n       <use x=\"159.033203\" xlink:href=\"#DejaVuSans-55\"/>\n       <use x=\"222.65625\" xlink:href=\"#DejaVuSans-53\"/>\n      </g>\n     </g>\n    </g>\n   </g>\n   <g id=\"line2d_79\">\n    <path clip-path=\"url(#pcbacd4c2d2)\" d=\"M 72.959943 602.463723 \nL 223.619034 465.354629 \nL 374.278125 431.59557 \nL 524.937216 482.908973 \nL 675.596307 390.409034 \n\" style=\"fill:none;stroke:#000000;stroke-linecap:square;stroke-width:1.5;\"/>\n   </g>\n   <g id=\"line2d_80\">\n    <path clip-path=\"url(#pcbacd4c2d2)\" d=\"M 72.959943 645.908528 \nL 223.619034 604.466152 \nL 374.278125 606.944948 \nL 524.937216 646.023181 \nL 675.596307 616.657163 \n\" style=\"fill:none;stroke:#ff0000;stroke-linecap:square;stroke-width:1.5;\"/>\n   </g>\n   <g id=\"line2d_81\">\n    <path clip-path=\"url(#pcbacd4c2d2)\" d=\"M 72.959943 628.098345 \nL 223.619034 629.139262 \nL 374.278125 622.770293 \nL 524.937216 628.098345 \nL 675.596307 628.098345 \n\" style=\"fill:none;stroke:#ffa500;stroke-linecap:square;stroke-width:1.5;\"/>\n   </g>\n   <g id=\"line2d_82\">\n    <path clip-path=\"url(#pcbacd4c2d2)\" d=\"M 72.959943 608.395632 \nL 223.619034 473.83847 \nL 374.278125 442.95332 \nL 524.937216 503.363133 \nL 675.596307 408.958421 \n\" style=\"fill:none;stroke:#a52a2a;stroke-linecap:square;stroke-width:1.5;\"/>\n   </g>\n   <g id=\"line2d_83\">\n    <path clip-path=\"url(#pcbacd4c2d2)\" d=\"M 72.959943 650.182494 \nL 223.619034 614.085002 \nL 374.278125 617.92798 \nL 524.937216 660.227216 \nL 675.596307 628.741311 \n\" style=\"fill:none;stroke:#ee82ee;stroke-linecap:square;stroke-width:1.5;\"/>\n   </g>\n   <g id=\"line2d_84\">\n    <path clip-path=\"url(#pcbacd4c2d2)\" d=\"M 72.959943 632.601979 \nL 223.619034 633.785767 \nL 374.278125 627.424983 \nL 524.937216 632.601979 \nL 675.596307 632.601979 \n\" style=\"fill:none;stroke:#00008b;stroke-dasharray:5.55,2.4;stroke-dashoffset:0;stroke-width:1.5;\"/>\n   </g>\n   <g id=\"patch_9\">\n    <path d=\"M 42.828125 673.718125 \nL 42.828125 376.918125 \n\" style=\"fill:none;stroke:#000000;stroke-linecap:square;stroke-linejoin:miter;stroke-width:0.8;\"/>\n   </g>\n   <g id=\"patch_10\">\n    <path d=\"M 705.728125 673.718125 \nL 705.728125 376.918125 \n\" style=\"fill:none;stroke:#000000;stroke-linecap:square;stroke-linejoin:miter;stroke-width:0.8;\"/>\n   </g>\n   <g id=\"patch_11\">\n    <path d=\"M 42.828125 673.718125 \nL 705.728125 673.718125 \n\" style=\"fill:none;stroke:#000000;stroke-linecap:square;stroke-linejoin:miter;stroke-width:0.8;\"/>\n   </g>\n   <g id=\"patch_12\">\n    <path d=\"M 42.828125 376.918125 \nL 705.728125 376.918125 \n\" style=\"fill:none;stroke:#000000;stroke-linecap:square;stroke-linejoin:miter;stroke-width:0.8;\"/>\n   </g>\n   <g id=\"text_40\">\n    <!-- Accuracy -->\n    <defs>\n     <path d=\"M 34.1875 63.1875 \nL 20.796875 26.90625 \nL 47.609375 26.90625 \nz\nM 28.609375 72.90625 \nL 39.796875 72.90625 \nL 67.578125 0 \nL 57.328125 0 \nL 50.6875 18.703125 \nL 17.828125 18.703125 \nL 11.1875 0 \nL 0.78125 0 \nz\n\" id=\"DejaVuSans-65\"/>\n     <path d=\"M 8.5 21.578125 \nL 8.5 54.6875 \nL 17.484375 54.6875 \nL 17.484375 21.921875 \nQ 17.484375 14.15625 20.5 10.265625 \nQ 23.53125 6.390625 29.59375 6.390625 \nQ 36.859375 6.390625 41.078125 11.03125 \nQ 45.3125 15.671875 45.3125 23.6875 \nL 45.3125 54.6875 \nL 54.296875 54.6875 \nL 54.296875 0 \nL 45.3125 0 \nL 45.3125 8.40625 \nQ 42.046875 3.421875 37.71875 1 \nQ 33.40625 -1.421875 27.6875 -1.421875 \nQ 18.265625 -1.421875 13.375 4.4375 \nQ 8.5 10.296875 8.5 21.578125 \nz\nM 31.109375 56 \nz\n\" id=\"DejaVuSans-117\"/>\n     <path d=\"M 32.171875 -5.078125 \nQ 28.375 -14.84375 24.75 -17.8125 \nQ 21.140625 -20.796875 15.09375 -20.796875 \nL 7.90625 -20.796875 \nL 7.90625 -13.28125 \nL 13.1875 -13.28125 \nQ 16.890625 -13.28125 18.9375 -11.515625 \nQ 21 -9.765625 23.484375 -3.21875 \nL 25.09375 0.875 \nL 2.984375 54.6875 \nL 12.5 54.6875 \nL 29.59375 11.921875 \nL 46.6875 54.6875 \nL 56.203125 54.6875 \nz\n\" id=\"DejaVuSans-121\"/>\n    </defs>\n    <g transform=\"translate(346.884375 370.918125)scale(0.12 -0.12)\">\n     <use xlink:href=\"#DejaVuSans-65\"/>\n     <use x=\"66.658203\" xlink:href=\"#DejaVuSans-99\"/>\n     <use x=\"121.638672\" xlink:href=\"#DejaVuSans-99\"/>\n     <use x=\"176.619141\" xlink:href=\"#DejaVuSans-117\"/>\n     <use x=\"239.998047\" xlink:href=\"#DejaVuSans-114\"/>\n     <use x=\"281.111328\" xlink:href=\"#DejaVuSans-97\"/>\n     <use x=\"342.390625\" xlink:href=\"#DejaVuSans-99\"/>\n     <use x=\"397.371094\" xlink:href=\"#DejaVuSans-121\"/>\n    </g>\n   </g>\n   <g id=\"legend_2\">\n    <g id=\"patch_13\">\n     <path d=\"M 49.828125 474.655625 \nL 116.465625 474.655625 \nQ 118.465625 474.655625 118.465625 472.655625 \nL 118.465625 383.918125 \nQ 118.465625 381.918125 116.465625 381.918125 \nL 49.828125 381.918125 \nQ 47.828125 381.918125 47.828125 383.918125 \nL 47.828125 472.655625 \nQ 47.828125 474.655625 49.828125 474.655625 \nz\n\" style=\"fill:#ffffff;opacity:0.8;stroke:#cccccc;stroke-linejoin:miter;\"/>\n    </g>\n    <g id=\"line2d_85\">\n     <path d=\"M 51.828125 390.016562 \nL 71.828125 390.016562 \n\" style=\"fill:none;stroke:#000000;stroke-linecap:square;stroke-width:1.5;\"/>\n    </g>\n    <g id=\"line2d_86\"/>\n    <g id=\"text_41\">\n     <!-- 3_train -->\n     <g transform=\"translate(79.828125 393.516562)scale(0.1 -0.1)\">\n      <use xlink:href=\"#DejaVuSans-51\"/>\n      <use x=\"63.623047\" xlink:href=\"#DejaVuSans-95\"/>\n      <use x=\"113.623047\" xlink:href=\"#DejaVuSans-116\"/>\n      <use x=\"152.832031\" xlink:href=\"#DejaVuSans-114\"/>\n      <use x=\"193.945312\" xlink:href=\"#DejaVuSans-97\"/>\n      <use x=\"255.224609\" xlink:href=\"#DejaVuSans-105\"/>\n      <use x=\"283.007812\" xlink:href=\"#DejaVuSans-110\"/>\n     </g>\n    </g>\n    <g id=\"line2d_87\">\n     <path d=\"M 51.828125 404.972812 \nL 71.828125 404.972812 \n\" style=\"fill:none;stroke:#ff0000;stroke-linecap:square;stroke-width:1.5;\"/>\n    </g>\n    <g id=\"line2d_88\"/>\n    <g id=\"text_42\">\n     <!-- 4_train -->\n     <g transform=\"translate(79.828125 408.472812)scale(0.1 -0.1)\">\n      <use xlink:href=\"#DejaVuSans-52\"/>\n      <use x=\"63.623047\" xlink:href=\"#DejaVuSans-95\"/>\n      <use x=\"113.623047\" xlink:href=\"#DejaVuSans-116\"/>\n      <use x=\"152.832031\" xlink:href=\"#DejaVuSans-114\"/>\n      <use x=\"193.945312\" xlink:href=\"#DejaVuSans-97\"/>\n      <use x=\"255.224609\" xlink:href=\"#DejaVuSans-105\"/>\n      <use x=\"283.007812\" xlink:href=\"#DejaVuSans-110\"/>\n     </g>\n    </g>\n    <g id=\"line2d_89\">\n     <path d=\"M 51.828125 419.929062 \nL 71.828125 419.929062 \n\" style=\"fill:none;stroke:#ffa500;stroke-linecap:square;stroke-width:1.5;\"/>\n    </g>\n    <g id=\"line2d_90\"/>\n    <g id=\"text_43\">\n     <!-- 5_train -->\n     <g transform=\"translate(79.828125 423.429062)scale(0.1 -0.1)\">\n      <use xlink:href=\"#DejaVuSans-53\"/>\n      <use x=\"63.623047\" xlink:href=\"#DejaVuSans-95\"/>\n      <use x=\"113.623047\" xlink:href=\"#DejaVuSans-116\"/>\n      <use x=\"152.832031\" xlink:href=\"#DejaVuSans-114\"/>\n      <use x=\"193.945312\" xlink:href=\"#DejaVuSans-97\"/>\n      <use x=\"255.224609\" xlink:href=\"#DejaVuSans-105\"/>\n      <use x=\"283.007812\" xlink:href=\"#DejaVuSans-110\"/>\n     </g>\n    </g>\n    <g id=\"line2d_91\">\n     <path d=\"M 51.828125 434.885312 \nL 71.828125 434.885312 \n\" style=\"fill:none;stroke:#a52a2a;stroke-linecap:square;stroke-width:1.5;\"/>\n    </g>\n    <g id=\"line2d_92\"/>\n    <g id=\"text_44\">\n     <!-- 3_test -->\n     <g transform=\"translate(79.828125 438.385312)scale(0.1 -0.1)\">\n      <use xlink:href=\"#DejaVuSans-51\"/>\n      <use x=\"63.623047\" xlink:href=\"#DejaVuSans-95\"/>\n      <use x=\"113.623047\" xlink:href=\"#DejaVuSans-116\"/>\n      <use x=\"152.832031\" xlink:href=\"#DejaVuSans-101\"/>\n      <use x=\"214.355469\" xlink:href=\"#DejaVuSans-115\"/>\n      <use x=\"266.455078\" xlink:href=\"#DejaVuSans-116\"/>\n     </g>\n    </g>\n    <g id=\"line2d_93\">\n     <path d=\"M 51.828125 449.841562 \nL 71.828125 449.841562 \n\" style=\"fill:none;stroke:#ee82ee;stroke-linecap:square;stroke-width:1.5;\"/>\n    </g>\n    <g id=\"line2d_94\"/>\n    <g id=\"text_45\">\n     <!-- 4_test -->\n     <g transform=\"translate(79.828125 453.341562)scale(0.1 -0.1)\">\n      <use xlink:href=\"#DejaVuSans-52\"/>\n      <use x=\"63.623047\" xlink:href=\"#DejaVuSans-95\"/>\n      <use x=\"113.623047\" xlink:href=\"#DejaVuSans-116\"/>\n      <use x=\"152.832031\" xlink:href=\"#DejaVuSans-101\"/>\n      <use x=\"214.355469\" xlink:href=\"#DejaVuSans-115\"/>\n      <use x=\"266.455078\" xlink:href=\"#DejaVuSans-116\"/>\n     </g>\n    </g>\n    <g id=\"line2d_95\">\n     <path d=\"M 51.828125 464.797812 \nL 71.828125 464.797812 \n\" style=\"fill:none;stroke:#00008b;stroke-dasharray:5.55,2.4;stroke-dashoffset:0;stroke-width:1.5;\"/>\n    </g>\n    <g id=\"line2d_96\"/>\n    <g id=\"text_46\">\n     <!-- 5_test -->\n     <g transform=\"translate(79.828125 468.297812)scale(0.1 -0.1)\">\n      <use xlink:href=\"#DejaVuSans-53\"/>\n      <use x=\"63.623047\" xlink:href=\"#DejaVuSans-95\"/>\n      <use x=\"113.623047\" xlink:href=\"#DejaVuSans-116\"/>\n      <use x=\"152.832031\" xlink:href=\"#DejaVuSans-101\"/>\n      <use x=\"214.355469\" xlink:href=\"#DejaVuSans-115\"/>\n      <use x=\"266.455078\" xlink:href=\"#DejaVuSans-116\"/>\n     </g>\n    </g>\n   </g>\n  </g>\n </g>\n <defs>\n  <clipPath id=\"p6cb2a2f059\">\n   <rect height=\"296.8\" width=\"662.9\" x=\"42.828125\" y=\"22.318125\"/>\n  </clipPath>\n  <clipPath id=\"pcbacd4c2d2\">\n   <rect height=\"296.8\" width=\"662.9\" x=\"42.828125\" y=\"376.918125\"/>\n  </clipPath>\n </defs>\n</svg>\n",
            "application/pdf": "[encoded data removed]"
          },
          "metadata": {
            "needs_background": "light"
          }
        }
      ]
    },
    {
      "cell_type": "markdown",
      "source": [
        "Как видно по графикам, использовать многослойные RNN - не самая лучшая идея;)"
      ],
      "metadata": {
        "id": "R8YQIwchhlPz"
      }
    },
    {
      "cell_type": "code",
      "source": [
        "lm_model = lm_model.cpu()\n",
        "lm_model.eval()\n",
        "decoded_tokens, decoded_lens = decode(lm_model, start_tokens, start_tokens_lens, max_generated_len=20, top_k=50)\n",
        "\n",
        "for text_idx in range(start_tokens.shape[1]):\n",
        "    decoded_text_tokens = decoded_tokens[:decoded_lens[text_idx], text_idx]\n",
        "    tokens = start_tokens[:start_tokens_lens[text_idx], text_idx].tolist() + decoded_text_tokens.tolist()\n",
        "    words = np.array(lm_model.vocab.get_itos())[np.array(tokens)]\n",
        "    print(' '.join(words))"
      ],
      "metadata": {
        "colab": {
          "base_uri": "https://localhost:8080/"
        },
        "id": "HO4ljUoWhx-6",
        "outputId": "e6f60292-a3c1-4915-e62b-2437daaf7836"
      },
      "execution_count": null,
      "outputs": [
        {
          "output_type": "stream",
          "name": "stdout",
          "text": [
            "<sos> saw movie could seen film know one ever <eos>\n",
            "<sos> <unk> favorite movie made many predictable people made story first would liked give thats make <eos>\n",
            "<sos> <unk> best movie <unk> watching people favorite first movie movie <unk> dont movie seen time like movie time watching time movie get <eos>\n",
            "<sos> <unk> worst movie give see im effects ever give movie <eos>\n"
          ]
        }
      ]
    },
    {
      "cell_type": "code",
      "source": [
        "lm_model2 = lm_model2.cpu()\n",
        "lm_model2.eval()\n",
        "decoded_tokens, decoded_lens = decode(lm_model2, start_tokens, start_tokens_lens, max_generated_len=20, top_k=50)\n",
        "\n",
        "for text_idx in range(start_tokens.shape[1]):\n",
        "    decoded_text_tokens = decoded_tokens[:decoded_lens[text_idx], text_idx]\n",
        "    tokens = start_tokens[:start_tokens_lens[text_idx], text_idx].tolist() + decoded_text_tokens.tolist()\n",
        "    words = np.array(lm_model.vocab.get_itos())[np.array(tokens)]\n",
        "    print(' '.join(words))"
      ],
      "metadata": {
        "colab": {
          "base_uri": "https://localhost:8080/"
        },
        "id": "Cf39PmXph4la",
        "outputId": "0b4cd070-5cd4-4a68-84e8-14c1298bf089"
      },
      "execution_count": null,
      "outputs": [
        {
          "output_type": "stream",
          "name": "stdout",
          "text": [
            "<sos> see know film saw read good like know bad years <unk> like get watching like still ive im saw really\n",
            "<sos> <unk> favorite movie many watching <unk> film movie watched good one great made got <eos>\n",
            "<sos> <unk> best movie first want good years first watch better movies say better good <unk> movie movies say <unk> first like movie really\n",
            "<sos> <unk> worst movie worst bad lot much ive see <unk> even bad still see good movie movie one say great bad film ever\n"
          ]
        }
      ]
    },
    {
      "cell_type": "code",
      "source": [
        "lm_model3 = lm_model3.cpu()\n",
        "lm_model3.eval()\n",
        "decoded_tokens, decoded_lens = decode(lm_model3, start_tokens, start_tokens_lens, max_generated_len=20, top_k=50)\n",
        "\n",
        "for text_idx in range(start_tokens.shape[1]):\n",
        "    decoded_text_tokens = decoded_tokens[:decoded_lens[text_idx], text_idx]\n",
        "    tokens = start_tokens[:start_tokens_lens[text_idx], text_idx].tolist() + decoded_text_tokens.tolist()\n",
        "    words = np.array(lm_model.vocab.get_itos())[np.array(tokens)]\n",
        "    print(' '.join(words))"
      ],
      "metadata": {
        "colab": {
          "base_uri": "https://localhost:8080/"
        },
        "id": "YWR-LHZZh8AE",
        "outputId": "f3215d6d-521d-4cd3-f403-a582c51a72a9"
      },
      "execution_count": 41,
      "outputs": [
        {
          "output_type": "stream",
          "name": "stdout",
          "text": [
            "<sos> say acting people know film would <unk> <eos>\n",
            "<sos> <unk> favorite movie <unk> story also film <unk> <unk> didnt people <unk> <unk> watch <unk> <unk> good <unk> love plot thing would seen\n",
            "<sos> <unk> best movie acting movie actually film film <eos>\n",
            "<sos> <unk> worst movie old good didnt know really plot <unk> time one <unk> <eos>\n"
          ]
        }
      ]
    },
    {
      "cell_type": "markdown",
      "source": [
        "Увеличение слоев не способствовало увеличению качества текста."
      ],
      "metadata": {
        "id": "JtQtv0SLiL-q"
      }
    },
    {
      "cell_type": "markdown",
      "source": [
        "**Выводы:** в данной работе была рассмотрена языковая модель на основе GRU с последующим перебором параметров."
      ],
      "metadata": {
        "id": "yNMn7KBdiZt1"
      }
    }
  ],
  "metadata": {
    "colab": {
      "collapsed_sections": [],
      "name": "DL_task2.ipynb",
      "provenance": []
    },
    "kernelspec": {
      "display_name": "Python 3",
      "language": "python",
      "name": "python3"
    },
    "language_info": {
      "codemirror_mode": {
        "name": "ipython",
        "version": 3
      },
      "file_extension": ".py",
      "mimetype": "text/x-python",
      "name": "python",
      "nbconvert_exporter": "python",
      "pygments_lexer": "ipython3",
      "version": "3.8.3"
    },
    "varInspector": {
      "cols": {
        "lenName": 16,
        "lenType": 16,
        "lenVar": 40
      },
      "kernels_config": {
        "python": {
          "delete_cmd_postfix": "",
          "delete_cmd_prefix": "del ",
          "library": "var_list.py",
          "varRefreshCmd": "print(var_dic_list())"
        },
        "r": {
          "delete_cmd_postfix": ") ",
          "delete_cmd_prefix": "rm(",
          "library": "var_list.r",
          "varRefreshCmd": "cat(var_dic_list()) "
        }
      },
      "position": {
        "height": "313px",
        "left": "926px",
        "right": "27px",
        "top": "120px",
        "width": "343px"
      },
      "types_to_exclude": [
        "module",
        "function",
        "builtin_function_or_method",
        "instance",
        "_Feature"
      ],
      "window_display": false
    },
    "accelerator": "GPU"
  },
  "nbformat": 4,
  "nbformat_minor": 0
}